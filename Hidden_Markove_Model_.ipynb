{
  "cells": [
    {
      "cell_type": "code",
      "execution_count": 1,
      "metadata": {
        "id": "xywZGWuT7GQA"
      },
      "outputs": [],
      "source": [
        "# Importing packages\n",
        "\n",
        "#import pandas as pd\n",
        "#import numpy as np\n",
        "from collections import defaultdict\n",
        "import math\n"
      ]
    },
    {
      "cell_type": "code",
      "execution_count": 2,
      "metadata": {
        "id": "nP9ACfvl9z9v"
      },
      "outputs": [],
      "source": [
        "def parse_file(filename):\n",
        "    f = open(filename, 'r')\n",
        "    raw = f.readlines()\n",
        "    sentences = []\n",
        "    s = []\n",
        "    #s.append(( \"START\", \"--s--\"))\n",
        "    for line in raw:\n",
        "        if line.strip():\n",
        "            token, tag , label = line.strip().split('\\t')\n",
        "            token = token.lower();\n",
        "            s.append((token, tag ))\n",
        "        else:\n",
        "            s.append(( \"END\", \"--e--\"))\n",
        "            sentences.append(s)\n",
        "            s = []\n",
        "            s.append(( \"START\", \"--s--\" ))\n",
        "\n",
        "    return sentences"
      ]
    },
    {
      "cell_type": "markdown",
      "metadata": {
        "id": "qDUXPcrB7GQB"
      },
      "source": [
        "# Downloading Corpuses for traing the markove model"
      ]
    },
    {
      "cell_type": "code",
      "execution_count": 3,
      "metadata": {
        "colab": {
          "base_uri": "https://localhost:8080/"
        },
        "collapsed": true,
        "id": "DmLIr4BYvro1",
        "outputId": "5f6e8d8b-92fe-4ca1-aa45-a8507cbdbc2a"
      },
      "outputs": [
        {
          "output_type": "stream",
          "name": "stdout",
          "text": [
            "--2024-05-20 06:34:06--  https://raw.githubusercontent.com/DawoudTormos/NLP_POS_Corpuses/main/train_pos.conllu\n",
            "Resolving raw.githubusercontent.com (raw.githubusercontent.com)... 185.199.108.133, 185.199.109.133, 185.199.110.133, ...\n",
            "Connecting to raw.githubusercontent.com (raw.githubusercontent.com)|185.199.108.133|:443... connected.\n",
            "HTTP request sent, awaiting response... 200 OK\n",
            "Length: 2963265 (2.8M) [text/plain]\n",
            "Failed to rename train_pos.conllu to train_pos.conllu.1: (2) No such file or directory\n",
            "Saving to: ‘train_pos.conllu’\n",
            "\n",
            "train_pos.conllu    100%[===================>]   2.83M  --.-KB/s    in 0.05s   \n",
            "\n",
            "2024-05-20 06:34:07 (51.7 MB/s) - ‘train_pos.conllu’ saved [2963265/2963265]\n",
            "\n",
            "--2024-05-20 06:34:07--  https://raw.githubusercontent.com/DawoudTormos/NLP_POS_Corpuses/main/test_pos.conllu\n",
            "Resolving raw.githubusercontent.com (raw.githubusercontent.com)... 185.199.108.133, 185.199.109.133, 185.199.110.133, ...\n",
            "Connecting to raw.githubusercontent.com (raw.githubusercontent.com)|185.199.108.133|:443... connected.\n",
            "HTTP request sent, awaiting response... 200 OK\n",
            "Length: 261849 (256K) [text/plain]\n",
            "Failed to rename test_pos.conllu to test_pos.conllu.1: (2) No such file or directory\n",
            "Saving to: ‘test_pos.conllu’\n",
            "\n",
            "test_pos.conllu     100%[===================>] 255.71K  --.-KB/s    in 0.02s   \n",
            "\n",
            "2024-05-20 06:34:07 (12.5 MB/s) - ‘test_pos.conllu’ saved [261849/261849]\n",
            "\n",
            "--2024-05-20 06:34:07--  https://raw.githubusercontent.com/DawoudTormos/NLP_POS_Corpuses/main/test_pos_.conllu\n",
            "Resolving raw.githubusercontent.com (raw.githubusercontent.com)... 185.199.110.133, 185.199.109.133, 185.199.108.133, ...\n",
            "Connecting to raw.githubusercontent.com (raw.githubusercontent.com)|185.199.110.133|:443... connected.\n",
            "HTTP request sent, awaiting response... 200 OK\n",
            "Length: 334212 (326K) [text/plain]\n",
            "Failed to rename test_pos_.conllu to test_pos_.conllu.1: (2) No such file or directory\n",
            "Saving to: ‘test_pos_.conllu’\n",
            "\n",
            "test_pos_.conllu    100%[===================>] 326.38K  --.-KB/s    in 0.03s   \n",
            "\n",
            "2024-05-20 06:34:07 (10.5 MB/s) - ‘test_pos_.conllu’ saved [334212/334212]\n",
            "\n",
            "--2024-05-20 06:34:07--  https://raw.githubusercontent.com/DawoudTormos/NLP_POS_Corpuses/main/test_pos2.conllu\n",
            "Resolving raw.githubusercontent.com (raw.githubusercontent.com)... 185.199.108.133, 185.199.109.133, 185.199.110.133, ...\n",
            "Connecting to raw.githubusercontent.com (raw.githubusercontent.com)|185.199.108.133|:443... connected.\n",
            "HTTP request sent, awaiting response... 200 OK\n",
            "Length: 262660 (257K) [text/plain]\n",
            "Failed to rename test_pos2.conllu to test_pos2.conllu.1: (2) No such file or directory\n",
            "Saving to: ‘test_pos2.conllu’\n",
            "\n",
            "test_pos2.conllu    100%[===================>] 256.50K  --.-KB/s    in 0.02s   \n",
            "\n",
            "2024-05-20 06:34:08 (10.0 MB/s) - ‘test_pos2.conllu’ saved [262660/262660]\n",
            "\n",
            "--2024-05-20 06:34:08--  https://raw.githubusercontent.com/DawoudTormos/NLP_POS_Corpuses/main/test_pos2_.conllu\n",
            "Resolving raw.githubusercontent.com (raw.githubusercontent.com)... 185.199.108.133, 185.199.109.133, 185.199.110.133, ...\n",
            "Connecting to raw.githubusercontent.com (raw.githubusercontent.com)|185.199.108.133|:443... connected.\n",
            "HTTP request sent, awaiting response... 200 OK\n",
            "Length: 334977 (327K) [text/plain]\n",
            "Failed to rename test_pos2_.conllu to test_pos2_.conllu.1: (2) No such file or directory\n",
            "Saving to: ‘test_pos2_.conllu’\n",
            "\n",
            "test_pos2_.conllu   100%[===================>] 327.13K  --.-KB/s    in 0.03s   \n",
            "\n",
            "2024-05-20 06:34:08 (9.31 MB/s) - ‘test_pos2_.conllu’ saved [334977/334977]\n",
            "\n"
          ]
        }
      ],
      "source": [
        "#Corpuses used for training and testing hosted on my git repo\n",
        "# data taken from:  Universal Dependencies (UD)\n",
        "#Corpus name: EWT English Web Treebank LDC2012T13\n",
        "\n",
        "# blog email reviews social web\n",
        "\n",
        "\n",
        "# Over 250k tokens (16.5k sentences)\n",
        "#Testing data equal to around 10% of the training data\n",
        "\n",
        "\n",
        "url = \"https://raw.githubusercontent.com/DawoudTormos/NLP_POS_Corpuses/main/train_pos.conllu\"# traing data with their pos\n",
        "!wget --no-cache --backups=1 {url}\n",
        "\n",
        "\n",
        "url = \"https://raw.githubusercontent.com/DawoudTormos/NLP_POS_Corpuses/main/test_pos.conllu\"#data1 for testing\n",
        "!wget --no-cache --backups=1 {url}\n",
        "url = \"https://raw.githubusercontent.com/DawoudTormos/NLP_POS_Corpuses/main/test_pos_.conllu\"#pos result for comparison and seeing the accuraccy\n",
        "!wget --no-cache --backups=1 {url}\n",
        "\n",
        "url = \"https://raw.githubusercontent.com/DawoudTormos/NLP_POS_Corpuses/main/test_pos2.conllu\"#data2 for testing\n",
        "!wget --no-cache --backups=1 {url}\n",
        "url = \"https://raw.githubusercontent.com/DawoudTormos/NLP_POS_Corpuses/main/test_pos2_.conllu\"#pos result for comparison and seeing the accuraccy\n",
        "!wget --no-cache --backups=1 {url}\n",
        "\n"
      ]
    },
    {
      "cell_type": "markdown",
      "metadata": {
        "id": "Ex1v66Le7GQB"
      },
      "source": [
        "# Implementation note:\n",
        "\n",
        "- For python 3.6 and beyond, dictionaries retain the insertion order.\n",
        "- Their hash-based lookup makes them suitable for rapid value retrival. (As the hashed key value is retreive through a binary search (bisection). Therefore  O(log(n))\n",
        "   "
      ]
    },
    {
      "cell_type": "code",
      "execution_count": null,
      "metadata": {
        "colab": {
          "base_uri": "https://localhost:8080/"
        },
        "id": "E8jllZrW7GQB",
        "outputId": "5fbc7d88-1d54-441a-f10b-14b4e741dee0"
      },
      "outputs": [
        {
          "output_type": "stream",
          "name": "stdout",
          "text": [
            "10 items of the training corpus list\n",
            "['Al\\tPROPN\\tNNP\\n', '-\\tPUNCT\\tHYPH\\n', 'Zaman\\tPROPN\\tNNP\\n', ':\\tPUNCT\\t:\\n', 'American\\tADJ\\tJJ\\n', 'forces\\tNOUN\\tNNS\\n', 'killed\\tVERB\\tVBD\\n', 'Shaikh\\tPROPN\\tNNP\\n', 'Abdullah\\tPROPN\\tNNP\\n', 'al\\tPROPN\\tNNP\\n']\n"
          ]
        }
      ],
      "source": [
        "# loading the training corpus\n",
        "with open(\"train_pos.conllu\", 'r') as f:\n",
        "    training_corpus = f.readlines()\n",
        "\n",
        "\n",
        "print(f\"10 items of the training corpus list\")\n",
        "print(training_corpus[0:10])\n"
      ]
    },
    {
      "cell_type": "code",
      "execution_count": null,
      "metadata": {
        "id": "ZJWeOuhp7GQD",
        "outputId": "a54b355e-5fc4-4911-bd28-73f047c809a1",
        "colab": {
          "base_uri": "https://localhost:8080/"
        }
      },
      "outputs": [
        {
          "output_type": "stream",
          "name": "stdout",
          "text": [
            "A sample of the test corpus\n",
            "['What\\t0\\t0\\n', 'if\\t0\\t0\\n', 'Google\\t0\\t0\\n', 'Morphed\\t0\\t0\\n', 'Into\\t0\\t0\\n', 'GoogleOS\\t0\\t0\\n', '?\\t0\\t0\\n', '\\n', 'What\\t0\\t0\\n', 'if\\t0\\t0\\n']\n"
          ]
        }
      ],
      "source": [
        "# load in the test corpus\n",
        "with open(\"test_pos.conllu\", 'r') as f:\n",
        "    testing_corpus = f.readlines()\n",
        "\n",
        "print(\"A sample of the test corpus\")\n",
        "print(testing_corpus[0:10])"
      ]
    },
    {
      "cell_type": "code",
      "source": [
        "#Gettig the training corpuse to the Data type needed\n",
        "#list of list of tuples\n",
        "parsed_train_pos = parse_file(\"train_pos.conllu\")\n",
        "\n",
        "\n",
        "\n",
        "print(parsed_train_pos[0:5])\n",
        "\n"
      ],
      "metadata": {
        "colab": {
          "base_uri": "https://localhost:8080/"
        },
        "id": "p6-q_eG_UEgM",
        "outputId": "89921bfc-8c11-4c2b-8170-1473292637b8"
      },
      "execution_count": 4,
      "outputs": [
        {
          "output_type": "stream",
          "name": "stdout",
          "text": [
            "[[('al', 'PROPN'), ('-', 'PUNCT'), ('zaman', 'PROPN'), (':', 'PUNCT'), ('american', 'ADJ'), ('forces', 'NOUN'), ('killed', 'VERB'), ('shaikh', 'PROPN'), ('abdullah', 'PROPN'), ('al', 'PROPN'), ('-', 'PUNCT'), ('ani', 'PROPN'), (',', 'PUNCT'), ('the', 'DET'), ('preacher', 'NOUN'), ('at', 'ADP'), ('the', 'DET'), ('mosque', 'NOUN'), ('in', 'ADP'), ('the', 'DET'), ('town', 'NOUN'), ('of', 'ADP'), ('qaim', 'PROPN'), (',', 'PUNCT'), ('near', 'ADP'), ('the', 'DET'), ('syrian', 'ADJ'), ('border', 'NOUN'), ('.', 'PUNCT'), ('END', '--e--')], [('START', '--s--'), ('[', 'PUNCT'), ('this', 'DET'), ('killing', 'NOUN'), ('of', 'ADP'), ('a', 'DET'), ('respected', 'ADJ'), ('cleric', 'NOUN'), ('will', 'AUX'), ('be', 'AUX'), ('causing', 'VERB'), ('us', 'PRON'), ('trouble', 'NOUN'), ('for', 'ADP'), ('years', 'NOUN'), ('to', 'PART'), ('come', 'VERB'), ('.', 'PUNCT'), (']', 'PUNCT'), ('END', '--e--')], [('START', '--s--'), ('dpa', 'PROPN'), (':', 'PUNCT'), ('iraqi', 'ADJ'), ('authorities', 'NOUN'), ('announced', 'VERB'), ('that', 'SCONJ'), ('they', 'PRON'), ('had', 'AUX'), ('busted', 'VERB'), ('up', 'ADP'), ('3', 'NUM'), ('terrorist', 'ADJ'), ('cells', 'NOUN'), ('operating', 'VERB'), ('in', 'ADP'), ('baghdad', 'PROPN'), ('.', 'PUNCT'), ('END', '--e--')], [('START', '--s--'), ('two', 'NUM'), ('of', 'ADP'), ('them', 'PRON'), ('were', 'AUX'), ('being', 'AUX'), ('run', 'VERB'), ('by', 'ADP'), ('2', 'NUM'), ('officials', 'NOUN'), ('of', 'ADP'), ('the', 'DET'), ('ministry', 'PROPN'), ('of', 'ADP'), ('the', 'DET'), ('interior', 'PROPN'), ('!', 'PUNCT'), ('END', '--e--')], [('START', '--s--'), ('the', 'DET'), ('moi', 'PROPN'), ('in', 'ADP'), ('iraq', 'PROPN'), ('is', 'AUX'), ('equivalent', 'ADJ'), ('to', 'ADP'), ('the', 'DET'), ('us', 'PROPN'), ('fbi', 'PROPN'), (',', 'PUNCT'), ('so', 'ADV'), ('this', 'PRON'), ('would', 'AUX'), ('be', 'AUX'), ('like', 'SCONJ'), ('having', 'VERB'), ('j.', 'PROPN'), ('edgar', 'PROPN'), ('hoover', 'PROPN'), ('unwittingly', 'ADV'), ('employ', 'VERB'), ('at', 'ADP'), ('a', 'DET'), ('high', 'ADJ'), ('level', 'NOUN'), ('members', 'NOUN'), ('of', 'ADP'), ('the', 'DET'), ('weathermen', 'PROPN'), ('bombers', 'NOUN'), ('back', 'ADV'), ('in', 'ADP'), ('the', 'DET'), ('1960s', 'NOUN'), ('.', 'PUNCT'), ('END', '--e--')]]\n"
          ]
        }
      ]
    },
    {
      "cell_type": "markdown",
      "source": [
        "# Creating a vocabulary dictionary of all tokens present in the training corpus"
      ],
      "metadata": {
        "id": "V4-yNvXadYcl"
      }
    },
    {
      "cell_type": "code",
      "execution_count": null,
      "metadata": {
        "colab": {
          "base_uri": "https://localhost:8080/"
        },
        "id": "ggVmDR2a97Un",
        "outputId": "3b294f04-5eb7-4040-c3fc-f357566b23ba"
      },
      "outputs": [
        {
          "output_type": "stream",
          "name": "stdout",
          "text": [
            "0 0\n",
            "17062 unique tokens\n",
            "{'hours', 'o.k.', 'covered', 'lisp', 'teco', 'preparations', 'eat', 'attraction', 'lynda', 'plate', 'admits', 'gastric', 'desperate', 'devastating', \"committee's\", 'disasters', 'errors', '115', 'horton', 'mexicana', 'soviets', 'pretending', 'snacks', 'balance', '360', 'veronica', \"meiring's\", 'painless', 'gracie', 'stores', 'brendan', 'waitresses', 'lie', 'militias', 'difficulty', 'finance', 'associate', '08:27:46', '713-646-3393', 'lazy', 'rudest', 'shiite', 'wavy', 'racism', 'packard', 'inexperienced', 'mates', 'folks', 'originate', 'towel', 'notebook.url', 'gansu', 'references', 'areas', '703.729.2710', 'system', 'displeases', 'evidence', 'chlorine', 'contributions', 'offerings', 'transfer', 'contest', 'fiction', 'patrick', 'nicki', 'smallest', 'warrant', 'googol', 'gobbled', 'sap', 'staying', 'progressive', 'corporate', '03:33', '240', 'shave', 'suez', 'invoked', 'lng', '532-3836', 'dancing', 'ay', 'interested', 'telugu', 'tons', 'antisocialism', 'ends', '11/1/01', 'unknowledgeable', 'example', 'supremacy', 'utility', 'cord', 'shore', 'every', 'sincerely', 'nominated', 'braced', 'envelop', 'attributable', 'rockers', 'thaks', 'laura', 'ramshackle', 'original', 'downtrodden', 'surgical', 'shots', 'altered', 'especially', 'affecting', 'advantaged', 'fucked', 'cleanest', 'offer', 'directions', 'straight', 'christianity', 'nepalese', 'mohaqeq', 'esa', 'books', 'charles', 'neptune', 'urination', 'begs', 'husbands', 'nowheresville', 'sow', 'amelia', 'formality', 'pencil', 'widespread', 'utc', 'vaccines', 'attacking', 'destroy', 'blended', 'trains', 'mars', 'enters', 'identical', 'ceases', \"'07\", 'growing', 'chairman', 'eerie', 'vanguards', 'findings', 'scrape', 'rebel', 'willingness', 'consumption', 'translation', 'swim', 'temple', 'advantages', 'bulletin', 'winters', 'scorpio', 'm300', 'cling', 'repressed', 'rvs', 'exceptional', 'addicts', 'dorsey', 'pew', 'financing', 'deaths', 'abruptly', 'journals', 'shenzhou', 'mortons', 'untrained', 'unexpectedly', 'kiss', 'southwest', 'kidney', 'strip', 'balding', 'switched', 'show', 'bills', 'nurses', 'sun', 'pipefitters', '7037686710', '10:05', 'strange', 'clergy', 'flirt', 'restaurant', \"aquarist's\", 'next', 'elephant', 'tauris', 'emergency', 'cutaneous', 'california', 'tracked', 'spite', '916', 'tutorial', 'duty', 'hangar', 'manages', '11:36', 'endorsements', 'accessible', 'exclusively', 'wear', 'efficiently', 'swiss', 'imbued', 'hunger', 'stairs', 'tosses', 'race', \"zoomed's\", 'blue', 'reaffirmed', 'enabled', 'stables', 'saudis', 'dancewear', 'infrastructure', 'petard', 'slip', 'mayes', 'interceptor', 'suicide', 'paradigm', 'herbert', 'ups', \"jury's\", 'reason', 'playing', 'spying', 'egos', 'katsof', 'fridge', 'detector', 'copying', 'rear', 'erin', 'timetable', 'slimy', 'valve', 'dame', 'inflated', 'undoubtedly', 'yarn', 'cosmetic', 'co.', 'todays', 'images', 'oct', 'bombings', \"registrar's\", 'pressuring', 'supposed', 'meiring', 'sisters', 'edges', 'sight', 'h.', '4:50', 'writer', 'zone', 'pretzel', 'pretty', 'linna', 'disappeared', 'marriott', 'lucio', 'talkie', \"father's\", 'hiss', 'mobile', 'ppm', \"upi's\", 'commentary', 'role', 'selecting', 'tuna', '14th', '09/03/99', 'thai', 'urging', 'furnishings', 'preferred', 'rift', 'occupancy', 'legend', 'bomb', 'beating', 'favor', 'nutritional', 'airlifted', 'pricing', 'maniac', 'influencing', 'fix', 'signals', 'kettner', 'cunclude', 'hernia', 'bullet', 'kadhim', 'waiting', 'ensuring', 'worshiped', 'conditioned', 'chases', 'allen', 'waaaaaaaaaaaaay', 'bender', 'verde', 'wishing', 'msu', 'leonardos', 'chelan', 'blinked', 'formal', 'hear', 'mailings', 'strings', 'polk', 'democracy', '489', 'steaks', 'spokesperson', 'turbine', '650', 'tragedy', 'awash', 'locust', 'secessionists', 'deleting', 'holinshed', 'follow', 'appeared', 'remnants', '212', 'tangible', 'peaks', 'cesar', 'thesis', 'liars', 'rove', 'sensational', 'mould', 'jaffna', 'mann@enron', 'rigged', 'continuously', 'august', 'investment', 'porte', 'sacristy', 'explorers', 'profilers', 'cave', 'satanic', 'curly', \"steve's\", 'solved', 'external', 'composition', 'fancy', 'tripadvisor', \"sun's\", 'diwaniya', 'suburbs', 'quiktrip', \"it's\", 'upland', 'classes', 'thickness', 'rees', 'spoil', 'mclean', '2004', 'an', 'incentive', 'pt', 'tandem', 'policeman', 'knights', 'disgrace', 'unrealistic', 'elder', 'came', 'reccommend', 'uninterrupted', 'buck', 'stretched', 'cactus', 'pattern', 'greatly', 'coincided', 'simien', 'respondents', 'impress', 'annesley', 'tech', 'sparks', 'insurers', 'panda', 'ponchatoula', 'plumber', 'seemingly', 'retaliation', 'increases', 'whiting', 'quartered', 'cloak', 'iranians', 'reggie', 'caught', 'dysentery', 'breast', 'a.', 'broadcast', 'watchers', 'thigh', '..', 'exquisite', 'assess', 'redirect', \"teacher's\", \"orr's\", 'thrown', 'bowtie', 'uploaded', 'croatia', 'crushing', 'drving', 'sandalwood', \"ins's\", 'profession', 'killies', 'one', 'innkeepers', 'algerians', 'numbers', 'eu', 'minor', 'converting', 'shackled', 'pumped', 'hard', 'flopping', 'apache', 'debbie', 'lemelpe@nu.com', 'establishing', 'riggins', 'caucasians', 'bartenders', 'broome', 'processes', 'icu', 'blooded', 'expiration', 'instincts', 'correction', 'aswering', 'keen', 'malacca', 'happen', 'anti-indian', 'hybrids', 'inquiries', 'armatho', 'artists', 'nat', 'budgies', 'beak', 'motto', 'scot', 'advance', 'finished', 'merging', 'thanksgiving', 'related', 'willow', 'wud', 'clerk', 'archives', 'mohammed', 'grow', 'dharmadeva', 'mary.ellenberger@enron.com', 'http://www.loveallpeople.org', 'neighborhood', 'skyrocketing', 'spurt', 'canister', 'transmit', '08/01/2001', 'opec', 'concerts', 'streaks', 'jemaah', 'volunteer', 'event', 'grail', 'number', 'bag', 'chris', '1945', 'empathy', 'gilbergd@sullcrom.com', 're-election', 'math', 'admitted', 'freezing', 'explaining', 'slavery', 'cautioned', 'inequities', 'arp', 'abolish', 'discrepancy', '10016', 'order', 'available', 'interns', 'ham', 'operated', 'affair', 'injurious', 'male', 'until', 'interior', 'prepaid', 'keck', 'renewed', 'elements', 'peer', 'reduces', 'obstruction', 'testament', 'hunting', 'what', 'accepting', 'relevant', 'tallulah', 'chambermaid', 'summaries', 'e-mails', 'blunder', 'contra', 'dire', 'rhythmically', 'lawlessness', 'undocking', 'nagaski', 'comfortable', '10th', 'ryan', 'kobey', 'vercellotti', 'connects', 'independently', 'punch', 'landed', 'mama', 'channels', \"saddam's\", 'dissatisfied', 'terrified', 'regulators', 'ufc', 'preschoolers', 'iv', 'resisted', '01/25/2002', 'favourable', 'tourist', 'beauty', 'advise', 'potent', 'vessels', '6:00', 'irish', 'becca', 'mid-nineties', 'filler', 'licking', 'fischer', '!?!', 'accommodated', 'blood', 'hindu', 'ten', 'repair', '2710', \"commission's\", 'prosperity', 'assumptions', 'yheggy', 'mental', 'eligible', 'pardon', 'http://www.nea.fr/html/rp/chernobyl/c01.html', '125', 'eb', 'sickest', 'invitaion', 'reserves', 'consistent', 'reptile', 'neeeeeeeeeverrrr', 'regularly', 'outcome', 'write', 'f*ed', 'supportive', 'dependable', 'analysts', 'seized', 'mid-1980s', 'dewhurst', 'kim', 'stifle', 'publications', '3.30', 'stojic', 'divert', 'ironic', '12/21/2000', '0491', 'workforce', 'releases', 'life', 'mandated', 'weil', 'nicholas', 'paperback', 'handcraft', 'regulars', 'cretins', 'limit', 'pet', 'post-chavez', 'tending', 'memory', 'signaling', 'lot', 'ken', 'ben', 'consulting', 'roy', 'mountainous', 'detect', 'prisons', 'orange', 'vi', 'professional', 'rt', 'chechnya', 'downstream', 'islamist', 'godsend', 'broken', 'gathered', 'genuine', 'kinds', 'alfaro', 'dubia', 'mean', 'flyers', 'bonanza', 'baghdad', 'secondary', 'conservation', 'lou', 'mortars', 'wide', 'nurture', 'barbara', \"you've\", 'temperment', 'affords', 'moro', '2.3', 'greenhouse', 'adelphi', '160.00', 'parties', 'fatal', 'spruce', 'device', 'feeling', '...', 'visa', 'hierarchies', 'wasent', 'sally', 'coiled', 'spicy', 'sink', 'cools', 'visit', 'woodpeckers', 'warrants', 'discontent', 'noted', 'sunglasses', 'politicians', 'flashing', 'medium', 'detainees', 'tanker', 'c.', '610', 'discussion', '217', 'cripple', 'teaches', 'move', 'demise', 'star', 'spores', 'conducted', 'ipanema', 'bicuspid', 'efficient', 'relatively', '19th', 'non-essential', 'generations', 'agent', 'columbia', 'reported', 'tamil', 'revenue', 'sunny', 'faced', 'proficiency', 'ard', 'dissolved', 'neal', 'incomes', 'edwin', 'rs', 'freeport', '07', 'johnson', 'comforting', '.......', '03/15/2001', 'tabors', '1341', 'documentation', 'willingly', 'demand', 'ants', 'module', 'cycle', 'mark.carr...@chron.com', 'hearings', 'handbag', '===>', '202.739.0134', '+++', 'replica', 'cheese', \"hamas's\", 'necessarily', '2003', 'paralegal', 'edmund', 'shakspere', 'float', 'tolls', 'feather', 'milling', 'cohesive', 'santa', 'pioneers', 'loan', 'zinc', 'charter', 'ensures', '1,613', 'hills', 'lihabi', 'permanently', 'dilemmas', 'terrell', 'lets', 'aluminum', 'gotten', 'hence', 's.d.', 'thrashed', 'depending', 'http://www.railroadredux.com/tag/northwest-shortline/', 'midst', 'almost', 'renigged', 'exp.doc', 'http://www.infoukes.com/history/chornobyl/gregorovich/index.html', 'junkie', 'routes', 'fuel', 'reservoir', 'guess', \"campbell's\", 'californian', 'diagnose', 'wilt', 'comets', 'path', 'interrupting', 'survey', 'tricky', 'optionality', 'secessionist', 'accidental', 'hussein', 'gibson', 'sec', 'ouster', 'paste', 'mr.', '750', 'enron.xls', 'aspirational', 'aiding', 'hino', 'wrong', 'stated', 'chnages', 'golf', 'mandil', 'hmmmmmm', '04:28', 'awol', 'tokyo', 'thereby', 'addresses', 'improvement', 'scold', 'iaea', '1q', 'ballroom', 'birmingham', ';', 'deterioration', '79', 'holly', 'blonde', \"parmesan's\", 'gud', 'undeclared', 'atef', 'extradited', 'seriousness', 'indispensable', 'point', \"beatles'\", 'grass', 'structure', 'finalizing', 'meghalaya', 'uncovered', 'party', 'support', 'criticising', 'whipple', 'wmds', 'onto', 'bowel', 'convincing', 'deemed', 'ration', 'owen', 'subway', 'transactions', 'bored', 'nationalist', 'backed', 'moldovan', \"fabio's\", 'becouse', 'blowdry', 'union', 'senators', 'commenced', 'investor', 'telegraphic', 'minnesota', 'color', 'serves', 'reintroduction', 'jugular', 'admire', 'http://www.sonic.net/~fsjob/tragicore-thecivetcat.mp3', 'meadowrun', 'even', 'carribean', 'donald', 'uecomm', 'mega', '22301', 'detained', '?!?', 'neonatal', 'ono', 'signed', 'rub', 'utilities', 'tk', 'ornament', 'valerie', 'yelp', 'slanted', \"decision's\", 'landmark', 'muff', 'reserved', 'delicous', 'detectors', 'pre-arrest', 'settlement', 'button', 'phased', 'briefly', 'doubling', 'gamut', 'opener', 'schedulers', 'angela', 'pitt', 'asher', '1.50', 'via', 'dignitaries', 'fy04', 'ebay', 'jumps', 'sucked', 'recovering', 'retardation', 'wins', 'mentioned', 'walloch', 'contracting', 'deducting', 'ecs', 'jpy', 'doc', 'wierd', 'largest', 'stadium', 'belts', '27.doc', 'instructed', 'disposal', 'republicans', 'cat', 'mccartney', 'aged', 'lobbyist', 'rewards', 'eurostar', 'reef', 'baluchistan', 'quoting', 'guts', 'salmagundi', 'belive', 'coventry', \"michigan's\", 'intercept', 'exit', 'knowingly', 'forceful', 'tape', 'dinners', 'morocco', 'epstein', 'alpharetta', 'lisenced', 'sheriff', 'war', 'everett', 'elsewhere', \"'re\", 'eatin', 'investigators', 'listened', 'wtc', 'at&t', 'compiling', 'sub', 'sc.', 'tarsia', 'religions', 'surpluses', 'adjusted', 'boiled', 'aztec', 'earth', 'vital', '270', 'lifespans', 'admission', 'et.', 'village', 'twin', 'but', 'dragging', 'database', 'ignore', 'forums', 'dumping', 'indoors', 'superbly', 'largely', 'returned', 'rance@enron', 'preconceptions', 'awareness', 'all', 'philippine', 'montparnasse', 'x33907', 'non-veg', 'servant', 'yell', 'unusual', 'price', 'enovate', 'transcendence', 'carbon', 'window', 'stare', 'americas', 'semi-sketchiness', 'eclipse', 'operas', 'israeli', 'activists', 'famous', 'futures', 'salazar', 'highlighted', 'forearm', 'scrap', 'stamps', 'refrigerator', 'jar', 'heisenberg', 'who', 'sucks', 'parkhill', 'invention', 'tribal', 'mormons', 'divides', 'stamped', 'swap', 'profited', 'going', '09:56', 'debates', 'tiger', 'reestablish', 'ronn', '02:21', 'hormel', '315-460-3349', 'shebaa', 'xmas', 'winger', 'angels', 'convenient', 'cheers', 'rssc.com', 'want', 'feverishly', 'coconut', 'sized', 'incite', '01/24/2001', 'nevertheless', 'uniquely', 'gash', 'armaments', 'greasy', '7034', 'neighboring', 'mc', 'falling', 'qfs', 'powersports', 'lotte', 'origin', 'modrian', 'retail', 'mumbo', 'ans', 'hazara', 'turning', 'jr.', 'operative', \"he'd\", 'biolab', 'redwings', 'shout', 'cubist', 'latino', 'infiltrators', 'lower', 'lettuce', 'hated', 'respected', 'involves', 'aggressive', '1593', 'planet', 'archive', 'kid', '01/13/2001', 'more', 'ops', 'logo', 'industries', \"arco's\", 'probability', 'thirst', 're-wiring', 'option', 'here', 'dueled', 'ethink@enron.com', '83n', 'foxes', 'community', 'costs', 'allowing', '268', \"bridget's\", 'hearing', 'smuggling', 'robinson', 'modulate', 'visualize', '3.1', 'merrist', 'layers', 'motorola', 'alot', 'balazick', 'calming', 'sister', 'continent', 'wok', 'since', 'starving', 'fist', 'christ', 'lftd', 'asymmetrical', 'dpr', 'smacks', 'complete', 'covering', 'boast', 'circles', 'appreciation', \"she's\", 'hewlett', 'broached', 'dog', 'confirm', 'forces', 'unheard', 'chevron', 'rely', 'exterminated', 'gray', 'sliced', 'rejuvenating', 'contractors', 'zealand', 'secretaries', 'hockey', '550', '5.30', '1-877-331-6867', 'session', 'ambulance', 'copyright', '1.25', 'deffner', 'perceived', 'fraiser', 'volunteering', 'crazier', 'qualifications', 'solana', 'bounds', 'touristy', 'nk', 'antibiotics', 'bagels', 'solid', 'pages', 'flipped', 'pos', '08:55', 'creams', 'enpower', 'premise', 'ambulances', 'auspices', 'ph.', 'shares', 'inconsistency', 'atmosphere', '10030', 'mustansiriyah', '3.5', 'category', 'lounge', 'pursuing', 'perfectly', 'nasty', 'hub', 'details', 'mouth', 'leahy', 'acupuncturist', 'spray', 'saying', 'algarve', 'trading', 'exhibited', 'rising', 'jerks', 'tangipahoa', 'visits', 'skylight', 'scientists', 'way', 'itself', 'aspects', 'renewal', 'impact', 'proclaimers', 'partition', 'calculater', \"questar's\", 'specialists', 'radianz', 'inferiority', 'apprenticed', 'priorities', 'flesh', 'franklin', 'chandeliers', '1-800-238-5355', 'michael', 'arkansas', 'inc.', '20006', 'mayors', 'patriot', \"max's\", 'dustin', 'nissan', 'irate', 'straightened', 'questions', 'imaginary', 'fontainbleu', 'mere', 'talented', 'responsibility', 'barcodes', 'expose', 'seize', 'bouncy', 'emergencies', 'agreeing', 'meowing', 'slithers', 'joseph', 'fifteen', 'publication', 'orlando', 'dth', 'audacity', '16.379', 'shawna', 'sad', \"essie's\", '3889', 'fewer', 'promote', 'expanding', 'quixotic', 'headlines', 'instant', 'intuitive', 'marionettes', 'squares', 'hai', 'dead', 'ercot', 'outsiders', 'suffocate', 'm.s.', 'applicant', '>>>', 'polluters', 'desk', 'flowing', 'steven', 'presently', 'thunder', 'bungling', 'channeled', 'biodefense', 'ballistic', 'sholder', 'kdp', 'grease', 'essg', 'motor', 'escalator', 'representatives', \"tana's\", 'legitimate', 'edison', 'wager', 'catholics', 'poa', 'stemmed', 'crafts', 'verdict', 'postponed', 'mixing', 'burglars', \"perez'\", 'relapse', 'treat', 'qaim', 'water', 'bright', 'mircles', 'mideast', 'compression', 'yrs', 'mineral', 'biologists', 'dreading', 'rise', 'active', 'beginners', 'saratoga', '!!!!!!!!!!!!!!!', 'virtually', 'ridden', 'cereal', 'wagon', 'grilled', 'both', 'pre-fabricated', 'sauces', 'adopts', 'towards', 'truth', 'primary', 'myself', 'peeing', 'cocaine', 'kimberwick', 'amazingly', 'loading', 'explained', 'along', 'organizational', 'novotel', '47', '187', 'authority', 'toured', 'generally', 'fraud', \"bout's\", 'actins', 'intense', 'varietal', 'pr', 'fishing', 'humanists', 'launched', 'everything', \"husband's\", 'gasps', 'prepayment', 'dense', 'brent', 'failed', 'cant', 'asansol', 'ck', 'khosla', 'dying', 'boxes', 'http://www.ucei.berkeley.edu/ucei', 'twice', 'i.e', 'gdp', 'director', 'felt', ';)', 'gelato', 'pump', 'coco', 'most', 'joe', 'backing', 'hehe', 'calf', 'non-arab', 'later', 'affairs', 'models', 'primarily', 'chasms', 'daycare', 'cookbook', 'topple', 'rajavis', 'morelias', '<', 'obtained', 'esp.', 'kent', 'baba', 'ees', 'positive', 'exist', 'meet', '>----------------------------------------------------------------------------|', 'accuses', 'sentencing', 'confirmit', 'should', 'particular', 'commitment', 'menstruation', 'feisty', 'vp', 'dough', 'alternates', 'determination', 'jejudo', 'lifetime', 'aspiration', 'jewish', 'sasquatch', 'century', 'arrogantly', 'brokers', '20,000,000', 'shared', 'esai', 'increase', 'hansen@enron', 'amusing', 'finland', 'ecosystem', 'cultural', 'regrettable', 'function', 'king', 'recipients', 'documented', 'banks', 'os', 'wolves', \"ak47's\", 'apparatus', 'jason', 'agel', 'horses', 'leporjj@selectenergy.com', 'cooperation', '11', 'chart', 'secluded', 'orthodontist', 'leaving', 'engaged', 'iceland', 'homeless', 'judgment', 'aug.', 'dare', 'imposing', 'chlorination', 'monumental', 'dentists', 'creative', 'ontario', \"d'orleans\", 'targets', 'trader', 'italy', 'house', 'theaters', '1999', 'end', 'cent', 'pride', \"center's\", 'heavier', 'yorker', 'fred', 'officials', 'niagara', 'deter', 'barese', 'us$', 'zoom', 'robert', 'reportedly', 'gop', 'autos', 'natalie', '1973', 'ship', \"bush's\", 'preachers', 'fellow', 'b2b', 'cashout', 'predictions', 'pike', 'looters', 'disclosure', 'bitter', 'friends', 'genesis', 'gatineau', 'cic', 'scott', 'tastings', 'dependency', 'fend', 'interviewing', 'gymnasiums', 'b', 'presentation', 'indicates', 'stephen', 'anonymous', '08:23', 'rain', 'talking', 'diagnosed', 'vintaged', '1.1', 'became', 'i/s', 'maritime', 'inside', 'someplace', 'upgrade', 'oasis', 'containing', 'walrus', 'programs', 'leon', 'lesson', 'automotives', 'gloating', 'smoother', 'thoroughly', 'ingredient', 'topack', 'parra', 'gone', 'raised', '06', 'scraps', 'uno', 'underscore', 'pair', 'executions', '4153030', 'ecologist', '150,000', 'agreement', 'transferring', 'araujo', 'incompetent', 'thuy', 'chores', 'supervisor', 'whitish', 'indirectly', 'age', 'arctic', 'renegade', 'defeated', 'pounds', 'travelers', 'leg', 'sixth', 'reconstruction', 'decking', 'humiliate', 'sleep', 'reformer', 'practice', 'autonomous', 'neiman', 'emissions', 'vested', 'retaliate', '13', '--', 'adjoining', 'conference', 'vere', 'christmas', 'orwellian', 'cornell', 'http://www.natureandtech.com/?page_id=2200', 'halal', 'corps', 'prosecutor', 'complicit', 'burns', 'migrants', 'regrets', '620-294-1909', 'pma', 'transpired', 'aims', 'cremona', '1600', 'duster', 'marek', 'coreligionists', 'drops', 'credible', 'password', 'plaster', '6/1/01', 'undervalued', '62', 'hash', 'nonexistent', \"d'etat\", 'connoisseur', 'raisers', 'hd', 'premiums', 'renting', 'cs5', 'reluctantly', 'ramp', 'philly', 'energetic', 'retrieved', 'south', 'ammunition', 'rotten', 'jai', 'outgrowth', 'revised', 'clawing', 'strips', 'obligation', 'genetic', 'egyptian', 'stipend', 'dandy', 'cj', 'pumps', 'boisterous', 'flows', 'understandable', 'share', 'sussexs', 'believing', 'classic', 'asia', 'stacey', 'buildup', 'implicit', 'fulfilled', 'blvd', '9.3', 'methylene', 'yampa', 'doubt', 'chewed', 'pitney', 'absenting', 'painewebber', 'debris', 'magnesium', 'eta_revision0307.doc', 'farewell', 'whoooooo', 'dilemma', 'entitled', 'missions', 'vestry', 'demanded', 'saplings', 'reclining', 'olympus', 'golfing', 'countryside', 'recuperation', 'jeez', 'masses', 'pro-india', 'u$', 'genitals', 'berry', 'obtain', 'accurately', 'optinal', 'comprehensive', 'lc', 'fujairah', 'protest', 'resulted', '40', 'nx1', 'howrah', 'ferc', 'prize', 'revolves', \"iraq's\", 'x', '2102', 'stomach', 'eighteen', 'fixture', '-_-', 'silverware', '04:13', '$ometime$', 'extensions', 'inches', 'cater', 'deliverd', '1890', 'carpenter', '10:16', 'temperature', 'universally', 'atta', 'greenland', 'wearing', 'earl', '00:20', 'kushnick', 'laborers', 'guerrillas', 'street', 'setting', 'pretense', 'capacity', 'endanger', 'bars', 'stabbed', '....................', 'averaging', 'everyone', 'mcveigh', 'olympic', 'russia', 'forms', 'boardroom', 'ladies', 'billions', 'proposals', '))', 'hormuz', 'scared', 'owners', \"earth's\", 'spar', 'beginner', 'resort', \"this's\", 'squeeze', 'differences', 'favoured', 'cyanide', '1987', 'pawn', 'protestants', 'wagin', 'historian', 'instances', '200,987.33', '04:17', 'experiences', 'seriously', 'cho', '------------------------------------------------------------------', 'rummy', 'deviation', 'forster@enron', 'homes', \"tomorrow's\", 'longshoreman', 'provides', 'nicks', 'allocation', 'cheated', 'filing', 'kiwi', 'acquired', 'mistaken', 'forma', 'exhibition', 'biology', 'friscos', 'colorful', 'vain', 'activist', 'oxley', 'sandwich', 'regain', 'ikea', 'destroyed', 'clear', 'macbook', 'fairchild', 'blindfolds', '(:', 'actively', 'http://en.wikipedia.org/wiki/aerocom', 'http://www.ontario.ca/en/information_bundle/birthcertificates/119274.html', 'medicine', 'reminder', 'beschta', 'pendulum', 'compaq.com', 'stabilization', 'havelock', 'cuban', 'rarely', \"kant's\", 'fund', 'attempted', \"gu'ud\", 'thinnest', 'mmmm', 'mollified', 'educational', 'built', 'manifold', 'differently', 'internally', 'sums', 'estimates', 'criteria', 'conclusions', 'death', 'sandra', '1949', 'regading', 'nixon', 'duncan', 'authentic', 'hardest', 'bouild', 'laffa', 'care', 'lik', 'sheila', 'runners', 'zafra', 'fingered', 'protected', 'sufficiently', 'strongest', 'parameters', 'seperates', 'spinal', 'combs', 'lanes', 'dumbest', 'frl3@pge.com', 'lawmakers', 'iq', 'shallac', 'nidd', 'boothbay', 'barton', 'beneath', 'skiing', 'talent', '2.975', 'air', 'sheik', 'chalabi', 'amend', '3.29', 'sapped', 'pros', 'symbolic', \"limerick's\", 'immediately', 'radical', 'higher', 'began', 'ashfaq', 'character', 'scampi', 'group', 'educating', 'adventure', 'welfare', 'drafts', 'obsf', 'ann', \"company's\", '88', 'sets', 'traceable', 'environmentally', 'congress', '5.10', 'commercial', 'july', '14,000', '27th', 'clamoring', 'everbody', '06/01/2001', \"rick's\", 'romania', 'loves', ':p', 'date', '718-780-0046', 'carriles', 'reasonably', 'reply', 'functionality', 'treating', 'sunni', 'helpful', 'wait', 'dunno', '425-922-0475', 'wazed', 'answering', 'resorts', 'somewhat', 'tabs', 'wenatchee', 'buchanan', '-----------------------------------------------------------------------', 'jiu', '15th', 'noise', 'individual', 'ron.com', 'thus', 'nephew', 'obligated', 'tighten', 'mistreatment', 'rid', 'wondering', 'maureen', 'bird', 'undisputed', '4:00', 'image', 'obstacles', 'blacksmithing', 'investigative', 'shackleton@ect', 'introduce', 'combed', 'peace', 'sutcliffe', 'drills', 'carry', 'jones', 'ta', 'think', \"gentle's\", 'belonging', 'parvovirus', 'expressionless', 'mitch', 'chimichangas', 'urgently', 'cross-examination', 'hideouts', 'condescending', 'origami', 'ugh', 'invencion', 'stride', 'unemployent', 'mayonnaise', 'jerk', 'perfect', 'sympathize', 'hydrocele', 'terrorists', 'notion', 'jeopardy', 'sooners', 'pedicures', 'cloth', 'gearing', 'aye', 'lax', 'hill', 'rebellion', 'hole', 'franchise', 'condensed', 'comprehension', 'communists', 'represent', 'moreover', 'detected', 'sometimes', 'bicycle', 'pho-nomenal', 'scholar', 'limerick', 'slipped', 'accumulating', 'ovr', 'circulate', 'restaurants', '-ect-kedne', 'holdings', 'orwell', 'pc', 'highlights', 'apostle', 'dispersing', 'sharif', 'rahman', '0.70', 'dancer', 'invoicing', 'reasoned', 'rep.', 'election', 'wet', '<3', 'cem', 'mirth', 'saxon', 'jackie', 'articulating', 'costly', 'silver', 'english', 'precaution', 'african', 'melanie.gray@weil.com', 'lasciviousness', 'diving', 'transcend', 'coat', 'mechanics', 'particlular', 'liberation', 'sh*t', 'neighbours', 'aquarius', 'quesadillas', 'paid', 'beautifully', 'swiftly', 'unexercised', 'akin', 'comp.sources.unix', 'confiscated', 'shakespeare', 'tehran', 'ranch', 'forbid', 'circularisation', 'saithe', 'smooth', 'normally', 'drenched', 'copy', 'ext.', 'matches', 'fashioned', 'ministers', 'effectiveness', 'american', 'forth', 'greenwalt', 'saints', 'essentially', 'notoriously', 'shinning', 'detectives', 'breakaway', 'center', 'andorra', 'stephanie', 'laidlaw', 'venue', 'carolina', 'balcony', 'brides', 'animal', 'stood', 'renovation', 'daddy', 'sam', 'nazareth', 'howard', 'rose', 'aquasafe', 'oslo', 'physiotherapists', 'pirates', 'sanctions', 'jail', \"animal's\", 'lewis', 'megawatt', 'begun', 'gift', \"process's\", 'tanks', 'mailed', 'feels', '11:00', 'budgets', 'comp.mail.maps', 'duplicate', 'grrrrrrr', '10:00', 'absence', 'extra', 'csa', 'twists', '101', 'superfund', 'label', 'wednesday', 'merchant', 'gang', 'warrenty', 'telephony', 'mode', 'watson', '2539', 'buddies', 'aid', 'heights', 'brett', 'practical', 'eaten', 'http://www.bumrungrad.com/en/patient-services/clinics-and-centers/plastic-surgery-thailand-bangkok/breast-augmentation-ba', 'these', 'hired', 'understood', 'license', 'unprecedented', 'herein', 'adolescents', 'hidden', 'cyanogen', 'instructions', 'equine', 'issued', 'assad', 'saleh', 'walker', 'stipulation', 'lone', 'outage', 'explode', 'validate', '04/04/2001', 'preview', 'friendlier', 'states', 'xbox', 'undermining', 'fancies', 'coffee', 'academy', 'thes', '6/4/11', 'flavorless', '10.9', 'instructive', 'dom.', 'coverage', 'winner', 'eesi', 'cdt', 'dale', 'columbus', 'microscopic', 'website', 'checked', 'payne', 'guarantee', 'chamberlain', 'arya', 'ceiling', 'vigorously', 'item', 'pasted', 'endo', \"ca's\", 'capable', 'salafi', 'grissom', 'janeiro', 'trained', 'successfully', 'bodyguards', 'develops', '12:45', 'deliveries', 'prompted', 'hochrenaissance', 'booming', 'wetter', 'gulbuddin', 'deliberate', 'analyst', 'pipeline', '09:52', 'intimately', 'owes', '15', 'tests', 'definately', 'mellencamp', 'ana', '1.65', 'gestures', 'obscure', 'non-commercial', 'incubating', 'paul', 'grab', 'inhalable', 'feeder', 'cautious', '!!', 'recruited', 'girls', 'usda', 'chiropractric', 'figure', 'couple', 'parkway', 'billing', 'fam', 'continue', '4', 'colonization', 'forthcoming', 'akin@ect', 'stooges', 'electronic', 'hezbollah', 'musicians', 'bitmap', 'might', 'iraq', 'bankrupt', 'burdensome', 'ongoing', 'screams', 'sd', 'ex-members', 'accident', 'petit', 'hopless', 'decent', 'bending', 'lavorato', 'rocket', 'alright', 'softener', 'reading', 'pecking', 'veteran', 'bigger', 'bojinka', 'daniel', 'spare', 'dismissed', 'onward', '12:36', 'indicated', 'jiabao', 'tickets', 'http://bit.ly/kplaylists', 'welch', 'rosy', 'condemnations', 'minted', 'crustaceans', 'googled', 'prc', 'accessories', 'crossing', '12', 'http://www.internetchurchofchrist.org', '1691', \"she'll\", 'smithjones@ev1.net', 'genetically', 'mommy', 'moo', 'kitchen', 'roomful', 'disappointed', 'profoundly', 'flopped', 'availability', 'volatilities', 'tim', 'providing', 'badr', '.15', 'clare', 'extremely', 'adhear', 'career-wise', 'mankind', 'recall', 'anwar', 'competition', 'karla', 'pilots', '---------------------------------------------------------------------------', 'armatures', 'demonstrations', 'meager', \"week's\", 'patio', 'l/c', 'london', 'daphnia', 'controversial', 'civic', 'groomed', 'elected', 'paedophilia', 'beaches', 'muqrin', 'vacation', 'pyrenees', 'previews', 'patterson', 'strait', 'rusamarts@aol.com', 'recognised', 'department', 'clicking', 'utah', 'wallet', 'planes', 'writings', 'weapon', 'supper', 'dpc', 'second', 'arrogant', 'history', '11/29/2000', '10,000', '=', 'unix', 'sorry', 'excels', 'ltd.', 'emily', 'employees', 'chiros', \"association's\", 'highly', 'queen', 'entering', 'adnan', 'requirement', 'raise', 'stellar', 'nails', 'uncertainty', 'valuing', 'examined', 'joining', 'currents', 'sugar', '03:00', 'urged', 'gemini', 'larson', 'plywood', 'buffalo', 'manifestations', 'gaza', 'fly', 'wire', 'exploit', 'generate', 'rhoderunner', 'wunderbar', 'intention', 'laurels', 'http://washington.hyatt.com/wasgh/index.html', 'sieze', 'sirae', \"ta'\", 'mile', 'panjsheri', 'mimmy', 'emotional', \"everyone's\", 'her', 'riddled', 'ruining', 'giorgio', 'pay', 'gases', 'warms', 'ceramic', 'frame', 'freaked', 'acknowledge', 'fashion', 'completed', 'popped', 'over-simplifying', 'canceling', 'suffix', 'protesting', '?', \"henderson's\", 'shortly', 'dupont', 'ratepayer', 'fleet', 'ecosystems', 'summarily', 'niche', 'o', 'overstatements', 'charitable', 'de', 'picking', 'jog', 'workmanship', 'ghassemlou', \"ercot's\", 'wpo', '!!!!', 'inventory', '2.0', 'discussed', 'saltford', 'mills', 'spaces', '59', 'shield', 'as400', 'pressures', '84838389593', 'procure', 'valued', 'aditya', 'bloodworms', 'rocked', 'eva', 'regency', 'solution', 'impressionist', 'bald', 'shock', 'watery', 'spy', 'permissive', \"haven't\", 'tues.', 'centuries', 'alibek', \"devil's\", 'filmmaker', 'bent', 'harmony', 'difference', 'thorough', 'choppy', 'nc', 'charcoal', 'restrict', 'livingston', 'etc', 'exciting', 'non-smokers', 'coincides', '3.', 'adaptation', 'zebra', 'bonus', 'followings', 'salespeople', '1580', 'dings', 'cichlid', '202.456.1414', 'provider', 'nonconventional', \"shouldn't\", 'addressed', 'daniels', 'phet', 'hedging', 'earn', 'abusing', 'leverage', 'seething', 'satay', 'vocals', 'subsequently', 'pullback', 'ahmadinejad', 'insight', 'thelema', 'freaky', 'cameras', 'poles', 'kg', 'pleasure', \"doctor's\", 'nguyen', 'coloured', '425-415-3052', 'problem', 'fall', 'equilon', 'enforcement', 'laugh', 'bday', 'feast', 'resupply', 'coastline', 'suggested', 'callum', 'fights', 'rave', 'lean', \"here's\", 'stream', 'leaves', 'suspected', 'vegetarians', 'over-rated', 'earlier', 'submitted', 'spur', 'responding', \"cdec's\", '1100', 'thank', 'tonnes', 'award', 'church', 'immigrant', 'material', 'dance', 'collections', 'sense', 'or', 'defended', 'interim', 'expectedly', 'checkerspot', 'midterm', 'marry', '3-1663', 'anti-semite', 'binary', 'enrique', 'im', 'tragic', 'cube', 'perception', 'effected', 'ranong', 'contribution', 'thats', 'cus', 'arrested', 'multiplied', \"ii's\", 'disperse', 'wrote', 'custody', 'jean', 'stone', 'sub-par', 'tell', 'ghazaliyah', 'mins', 'marrying', 'wholes', 'transformation', 'weirdness', 'cousin', 'blown', 'negotiator', 'nirmal', '202-466-9142', 'stow', 'credence', 'quiet', 'definitely', 'importance', 'spec.', 'relation', 'balochi', \"department's\", 'believes', 'capitals', '10:56', 'hackles', 'bakers', 'regime', 'transferable', 'consequently', 'baby', 'sarcastically', 'approximation', '06:28', 'albeit', 'farms', 'peas', 'polygamy', 'agencies', 'hoecker', 'statements', '25', 'claiming', '05/17/99', 'qanooni', 'equal', 'aircraft', 'd7000', 'emery', 'ajay', 'guerilla', 'policy', 'em', 'ncrc4me', '126', 'meter', 'integrated', '63', '!!!?', 'shaken', 'welcomed', 'allows', 'hiroshima', 'upraised', 'cruiseline', 'regional', 'particularly', 'arriving', 'prayed', 'animals', 'humanatarian', 'transmutation', 'collecting', 'innocent', 'levi`s', 'uprising', 'complaint', 'northward', 'transported', 'ymsgr:sendim?mayursha&__hi+mayur...', 'territories', 'roadhouse', 'advancement', 'ostrich', 'uranus', '611', 'prevail', 'retention', 'seasonal', 'hassles', 'counties', 'precisely', 'puk', 'townhouse', 'scissors', 'chase', 'shotgun', 'quiz', 'towels', 'separate', 'banners', 'sights', 'roots', \"polk's\", 'seemed', '11:15:11', 'special', 'eater', 'gold', 'babylon', 'sheet', 'worn', 'expulse', 'baker', 'compressor', 'eos', 'stimulating', 'carnegie', 'new', 'furniture', 'ties', 'surge', 'burning', 'airfare', 'sumo', 'molten', 'devoid', 'evacuated', 'pie', 'hibernation', 'eleuthra', 'mingle', 'duplicity', 'get', 'cinema', 'dhin', 'yuor', '83', 'turn', 'recognize', 'likley', 'corell', 'delegate', 'unacceptable', 'homepage', 'renowned', 'storefront', \"they've\", 'communicating', 'paula', 'elephants', 'salesman', 'bypass', 'says', 'plans', 'kaplan@iepa.com', 'customs', 'judgement', 'orginals', 'college', 'richardson', 'srd', 'thamir', 'characters', ',,', 'ngoc', 'steady', 'magnitude', 'tco', 'ollie', 'colombo', 'patients', 'existence', 'pepperoni', 'poignant', 'parallel', 'vehemently', \"berry's\", 'amazing', 'guinea', 'menaces', 'reach', 'committed', '35', 'tb', '1611', 'reintroduced', 'provided', 'anymore', 'bomber', 'legacy', 'unlawful', 'hassan', '1970', 'rest', 'traditional', 'fedexed', 'massage', '2.7', 'newsletter', 'tray', 'answer', 'interference', 'aldo', 'sullivan', 'personality', 'lichtenstein', 'ringleader', 'excellent', 'misogyny', 'deck', 'cpim', 'ri', 'rudeness', 'sp', 'uneasy', 'barclay', 'enacted', 'accepted', 'overall', 'essential', 'gown', 'kandahar', 'empty', 'reorg', 'medication', 'recieve', 'firewalls', 'velupillai', 'attending', 'chewy', 'randomly', 'bumrungard', 'kansas', 'alert', 'patel@enron', 'rachels', 'boyles', 'alt.animals.felines.diseases', 'marin', 'fears', 'dismembered', 'australasian', \"employees'\", 'hose', 'armour', 'assh@%$e', 'prisoners', 'smoking', 'utilising', 'groan', 'plot', 'totalling', 'busier', 'crusader', 'based', 'morality', 'accomodating', 'japan', 'doers', 'assumed', 'ventilator', 'mcauliffe', 'impugned', 'advanced', 'installing', 'weekend', 'lovers', 'moderator', 'ld2d-#69396-1.doc', '-----', 'appointment', 'pacheco', 'compared', 'seoul', 'revoke', 'energy', 'boarders', '16', 'rediculous', 'lengthy', 'examines', 'phoney', 'same', 'ld2d-#69336-1.xls', 'steamed', 'among', 'fruits', 'crackpot', '5/18', 'gordon', 'realize', 'inwards', \"louisiana's\", 'hampered', 'motorcycle', 'regulated', 'guesthouse', 'marginal', 'fries', 'cvts', 'joined', '=(', 'handed', 'rearing', 'gratefully', 'leaps', 'platter', 'volume', 'resemblance', 'uppercasing', 'anyones', 'http://im.yahoo.com/', 'premises', 'ignoramus', 'unpretentious', 'eatting', 'boarder', 'atrophied', 'baffled', 'distracting', 'charlotte', 'knowledgable', 'jitsu', 'kindness', 'stub', \"'d\", 'quaint', 'specifications', 'potpourri', 'artillery', 'nightlife', 'puffs', 'cold', '12th', 'dirty', 'downhill', 'whom', 'computer', 'pp', 'dictate', 'boyfriend', 'soccer', 'savings', 'liability', \"soldier's\", 'sale', 'purchace', '94720-5180', ',?', 'veggies', 'tank', 'endless', 'steep', 'yikes', 'karachi', 'filming', 'contenders', 'impolite', 'dharmad...@gmail.com', 'ballet', 'www.designofashion.com', 'delhi', 'bangladesh', 'posada', 'cox', 'bruises', 'february', 'belonged', 'gary', 'pashtun', 'mayor', 'neighbourhoods', 'bin', 'p.m', 'closer', 'dwarfs', '01:50', 'flogging', 'microcosm', 'chunk', ',', 'religious', 'cod', 'parody', 'sickness', 'usmani', 'hack', 'surounded', 'amoung', 'organizing', 'awful', 'baathist', 'depiction', 'pwople', '350', 'countries', 'alastair', 'pro-zionist', 'piles', 'scraped', 'crumpled', 'applying', \"blount's\", '1?!?!?', 'isda', 'surroundings', 'spacefaring', 'twelve', 'scallop', 'feel', 'chanley', 'chickie', 'http://www.binkyswoodworking.com/horsestable.php', 'frequently', 'candidates', 'kurds', '28th', 'carribbean', 'extraordinary', 'houses', 'defence', '53', 'clubs', 'calcium', 'cemented', 'pricey', 'raid', 'claims', 'spiritual', 'bridgeline', 'sat.', 'swaps', \"to's\", 'shedding', 'sagittarius', 'groceries', 'categorically', 'accomplishment', 'confidante', 'nessasary', 'tear', 'mudo', 'bangladeshi', 'lady', 'jensen', 'dumb', 'beginning', 'participants', 'carefully', 'copied', 'laundry', 'worldly', 'injection', 'millet', \"partners'\", 'guilty', 'found', 'points', 'changes', 'half', 'cross-functional', 'barges', '11:26', 'shames', 'semi', 'arm', 'strikingly', 'likewise', 'ideas', 'honeymoon', 'not', 'innovative', 'day', 'allocate', 'donate', 'unaffected', 'pacquiao', 'hemisphere', 'wi940', 'aint', 'goldmann', 'visualisations', 'herring', 'holocaust-esque', '920', 'trivia', 'recession', 'cynical', 'immunity', 'mechaincs', 'reacts', 'grusendorf', 'inspector', 'records', 'worrying', 'nazi', '800.713.8600', 'satisfy', 'promptly', 'stumble', 'now', 'promises', 'sweeping', 'spencer', 'feasible', 'ethnicity', 'council', 'airway', 'throats', \"children's\", 'pursuit', '#', 'exposures', 'spayed', 'trainer', 'persistent', 'tempura', 'lee', 'centrally', 'pomper', 'parentheses', 'nope', 'morale', 'acts', 'conducting', 'june', 'harboring', 'flicker', 'michele', 'address', 'exhaustion', 'etter', '567.77', '1504', 'in', 'devon', 'guide', 'wastes', 'hardware', 'avoid', 'innkeeper', 'luest', 'springer', 'identification', 'http://www.nea.fr/html/rp/chernobyl/c05.html', 'ear', 'valid', 'condition', '6.8', 'civilized', 'neglects', 'congressman', 'value', 'approval', 'p.', '03:31', 'entertaining', 'facilitating', 'communities', 'assignments', 'shoddy', 'prices', 'dined', 'armed', 'characterized', 'ole', 'ancient', 'performing', 'stout', 'agence', 'dynegy', 'neurology', 'rendy', 'enlarging', 'wanting', 'submits', 'jobsite', 'pact', 'enterprises', 'lipids', \"wilson's\", 'arising', 'darkened', 'karol', 'insects', 'incident', 'italian', 'sworn', 'aesthetics', 'consensus', 'lund', 'palette', '1968', 'mutual', 'doyon', 'smorgasbord', 'indescriminately', 'lace', 'combatants', 'qualify', 'range', 'agreeable', 'acd', 'loi', 'steers', 'contingencies', 'granger', 'co-operate', 'defamation', 'mysticism', 'fliers', 'carriers', 'fail', 'bienvenue', '51', 'californians', 'jew', 'processing', 'cherokee', '8:00', 'heineken', 'created', 'ministry', 'disney', '08:50', 'memorized', 'extraordinarily', 'outback', 'beyond', 'forbidden', 'signoff', 'intends', 'choosing', 'thematically', 'watching', 'reassurance', 'browncover', \"socal's\", 'alaska', 'accumulated', 'steffes', 'heckuvalot', '10', 'granddaughters', 'promoting', 'expanded', 'cleaned', 'migrated', 'wildly', 'pulled', 'stategy', 'nw', 'url', 'wether', '79,000', 'simply', '01:47', 'hesitation', 'blows', 'saddamites', 'bore', 'activities', 'knocked', 'linens', 'waffle', \"wood's\", 'tajik', 'rolls', \"pony's\", 'updating', 'yrs.', '21,600', 'cnn', 'administrator', '04:34', 'isolating', 'daytime', 'legs', 'debaathification', 'arms', 'big', 'component', 'providence', 'listen', 'boy', 'cheeks', 'pregnancy', 'use', '6:30', 'duress', 'healthier', 'professionally', 'civil', 'just', 'exercises', 'sake', 'militant', 'shelters', 'iraqis', '2:00', 'failure', 'harkat', 'dreamed', 'farmers', 'controlled', 'headline', 'founded', 'shortages', 'misstatements', 'fame', 'scenarios', 'finches', 'pic', 'stands', 'decoupled', 'longevity', 'hmmmm', 'hindered', 'islamism', 'markets', 'gloomy', 'meaningful', 'bagh', 'brutal', 'feedback', 'appel', 'ei.london', 'uninsured', 'fusions', 'rawalpindi', 'rescoped', 'reassigns', 'toys', 'aspen', 'opera', 'builds', 'ave', 'ask', 'boulevard', 'tackling', 'mediation', 'pixels', 'embarked', 'yielded', 'bio', 'nighstand', 'whoopsie', 'upholstered', 'defect', 'valuable', 'fur', 'federal', 'tyrants', 'marches', 'then', 'stony', 'seattle', '---------', '-------------------------------------------------------------', 'clients', 'palk', 'rally', 'skills', 'filmed', 'react', 'regenerate', 'allow', 'design', 'prescribe', 'oppositon', 'burrowing', 'uh', '3:00', 'exhausted', 'holga', 'faq', 'ukrops', 'result', 'shelf', 'yogi', 'apprehension', 'told', 'vienna', 'ventilated', 'izakaya', \"that's\", 'paganism', 'jazeera', 'fcking', 'phillip', 'residing', 'aside', 'buys', 'convulsed', 'harm', 'steel', 'adulterated', 'sullivan@enron', 'stranger', 'comex', 's.', 'hammocks', 'rico', 'http://www.flickr.com/photos/adamtolle/6094960940/in/set-72157627535453128/', \"moussaoui's\", 'encouraged', 'hambali', 'apple', 'glue', 'birthdate', 'spay', 'regards', 'williams', 'kicked', 'anyone', 'oregon', 'thru', 'countersignature', 'misfortune', 'phrases', 'early', 'yousef', 'sophisticated', 'cozy', 'honorable', 'kevin', 'supporting', 'utilize', 'bronze', 'delighted', 'rug', 'tools', '7:30', 'sensing', 'barry', 'llp', 'ailment', 'flood', 'cbs', 'authorizing', 'hardly', 'http://gimpedblog.blogspot.com/2011/09/gimp-video-tutorial-how-to-convert.html', 'civilians', 'smack', 'for', '202-828-3372', 'raped', 'residential', 'proposing', 'adding', 'groped', 'payer', 'efforts', 'nor', 'speaks', 'leonard', 'intial', 'fry', '39938', 'vince', 'tonto', 'talbott', 'plan', 'loss', 'casing', 'astronauts', 'augustine', 'virtuoso', 'scrumptious', 'btw', 'bet', 'swedish', 'votes', 'http://www.goldentriangleindia.com/delhi/hotels-in-delhi.html', '%', 'greco', 'importantly', 'couples', 'archipelago', 'recommend', 'chittagong', 'thirty', 'hang', 'generates', \"what's\", 'painter', 'weston', 'connaught', 'mouhamad', 'subduing', 'talal', 'stifled', 'decks', 'yazid', 'glob', 'low', 'recreating', 'developments', 'snipers', 'phyllis', 'varieties', 'poor', 'shed', 'galvin', 'chairpersons', 'nyc', '09/20/2000', 'sole', 'finally', 'plotters', 'users', 'forestry', 'click', 'specific', 'accompanied', 'becoming', 'singmaster', 'brenner', 'bound', 'quitting', 'determine', 'favours', 'chatting', \"ken's\", 'expire', 'festivities', 'dude', 'flank', '07:35', 'nigel', 'cpi', 'obliterating', 'misnamed', 'that', 'impossible', 'rom', 'persuasion', 'ispat', 'twilight', \"ass't.\", '08/16/2000', 'cherished', 'worked', 'boring', 'aafia', 'games', 'mercy', 'overwhelmingly', 'well', 'confidence', 'zubayda', 'web', 'strain', 'gave', 'server', 'sports', 'bc', 'ak47s', 'implies', \"thursday's\", 'equipment', 'mobilising', 'gtc', 'transitional', \"terrell's\", 'hodge', 'quoted', 'substantiating', 'algae', 'liq', 'academic', 'committments', 'retrospect', 'indicators', 'resolved', 'noiseless', 'whistleblowing', 'setoff', 'schtick', 'begin', \"india's\", '4350', 'ride', 'languages', 'chicago', 'tee', 'sizing', 'bake', 'ate', 'closed', 'nightmare', 'usb', 'lieu', 'shameful', 'companie$', 'validity', 'itchy', 'avoidance', 'bac', 'tholt', 'mann', 'trial', 'customise', 'blooming', 'audible', 'nigiri', 'orr', 'applications', 'fence', 'tuned', 'tracking', 'epm', 'birth', '11222', 'werewolf', 'islamiah', 'wedding', 'tidbit', 'dialing', 'taub', 'options', 'swirls', 'andre', 'jury', 'satisfaction', 'josalyn', 'canoes', 'blurred', 'http://www.adorama.com/blcbs.html', 'noyce', 'bears', 'alternatives', '!.', '06:00:56', 'martial', 'professor', \"w's\", '18', 'museum', 'meatball', 'dentistry', 'richards', '69', 'bashers', 'distain', 'decor', 'starve', 'diplomats', 'lb.', 'manogue', 'years', 'suffer', 'consulates', 'payable', 'grant', 'conglomerate', 'khattab', 'vacated', 'queries', 'limited', 'marines', 'deterring', 'saddam', 'refineries', 'assemble', 'movements', 'aversion', 'crew', 'cay', 'cheapest', 'huber', 'shelia', 'streets', 'upbringing', 'msa', 'homo', 'microbiologist', 'sergey', 'certificate', 'christchurch', 'concepts', 'reigon', 'whoever', 'richard', 'rudely', 'urban', 'pets', 'bought', 'nepool', '04:44', 'wyoming', 'anthrax', 'useful', 'wnba', 'spoilage', 'obina', 'gut', 'immigration', 'pub', 'tires', 'mmbtu', 'tyburn', 'crapload', 'biochemist', '------------------------------------------------------', 'britain', 'rdbms', 'exists', '27', 'lbs', 'super', 'hitting', 'throughout', 'methodist', 'processed', 'f%#king', 'jeff', 'visualizations', 'introduced', 'manicure', '1970s', 'green', 'greater', 'peddle', 'ahmad', 'close', 'screened', 'boob', 'goddesses', 'willows', \"denny's\", 'mcdermott', 'tampa', 'envelops', 'consciousness', 'tried', 'oppressed', 'venture', 'kinect', 'feared', 'professionalism', 'embarrassed', 'liberals', 'build', '03/10/2000', 'expenses', 'seen', 'file', 'g.', 'royal', 'paramilitary', 'lieutenant', 'escalation', 'celery', 'comcast', 'explosive', '4.98', 'creditors', 'robe', 'steve', 'deficiency', 'st', 'institute', '3/03', 'irreconcilable', 'cardiac', \"corey's\", 'siddiqui', 'lucas', 'feminism', 'employ', '77415-0027', 'ripping', 'pretext', 'belittle', 'ballerina', 'centilli', 'jester', 'acrylic', 'w.', 'arte', \"government's\", 'solis', 'nva', 'countrymen', 'wolf', 'teh', 'supplier', 'kiln', 'hotheads', 'yesterday', 'azzam', 'herd', 'unspoken', 'zoning', 'youngstown', 'seekers', 'graham', 'striking', 'decided', 'lsd', 'makkai', 'mullahs', 'donaldson', '03/04/2001', 'payoff', 'belarus', 'http://digon_va.tripod.com/chernobyl.htm', 'specifics', 'corp.', 'doors', 'dine', 'bottom', 'districts', 'recovered', 'mid-january', \"it'll\", 'applaud', 'knock', 'bali', 'drilling', \"60's\", 'occupation', 'lovable', 'reversed', 'badder', 'heartwarming', 'gimp', 'baldness', 'melting', 'mayko', 'squarely', 'rollbacks', 'grotesque', 'medical', 'morris', 'television', 'dennis', '1,350', 'derivatives', 'ca', 'test', 'triplets', \"lennon's\", 'kapor', 'otherwise', 'answered', 'apologetic', 'prematurely', 'netting', 'toxins', 'style', 'satanism', 'shatter', 'disk', 'children', 'setback', 'returnees', 'decidely', 'asking', 'sentences', 'mongolian', 'nimr', 'sandwiches', 'younger', 'hissed', 'imagined', 'panic', 'walkway', 'very', 'mid-day', '--------------------------------------------------', 'sweeper', 'magnificent', 'alias', 'invade', 'approached', '7/16', \"1590's\", '1986', 'undertake', 'initiated', 'leaderships', 'hampshire', 'terrorism', 'traitress', 'bold', 'acquaintance', 'inquires', 'away', '713-546-5000', 'gleaned', 'omnibus', 'pickle', 'ski', 'observe', 'conflicting', 'lw', 'downright', 'hotspots', 'ensemble', 'mitigate', 'miss', 'cast', 'southwestern', 'glasgow', 'tsar', 'abby', 'lil', '08:58', 'nathaniel', 'somalia', 'directed', 'limbs', 'wives', '07/30/2001', 'didnt', 'grace', 'nella', 'driver', \"edwards'\", '11-20-2000', \"cheney's\", 'psp', \"hasn't\", \"dunn's\", 'together', 'bend', 'horatio', 'economics', 'confident', 'forever', 'hellada', 'risotto', 'robbed', 'brother', 'equations', 'valley', '1-800-991-9019', 'tintman', '185', 'invasion', 'mayur...@yahoo.com', 'edinburgh', 'heck', '572', 'dedication', 'relleno', 'deny', 'lb', 'coupled', 'trivial', 'paraphernalia', 'collaboration', 'worms', 'gm', 'launching', 'ingrown', 'confused', 'affirms', 'mellow', 'fineally', 'innovations', 'damn', 'lived', 'plugs', 'specifically', 'wants', 'taking', 'register', ':)', \"cockatiel's\", 'noon', 'bombast', 'investigated', 'flag', 'honesty', 'identify', 'pathogens', 'turk', 'salah', 'singles', 'recommended', 'heartbroken', 'thailand', 'dragged', 'embarrassing', 'reopen', 'review', 'adorned', 'sexually', 'vacationed', 'observers', 'foisted', 'i.e.', 'situation', 'arranging', 'clay', 'sensory', 'gonzales', 'eggs', 'size', 'catastrophe', 'disseminate', 'hurting', 'faltering', '05/30/2001', 'http://www.droidforums.net/forum/droid-news/181335-ereader-tablet-comparison-b-n-nook-tablet-b-n-nook-color-kindle-fire-htc-flyer.html', 'culture', 'hurled', 'immigeration', 'cards', 'percell@swbell.net', 'happier', 'sibley', 'thermal', 'complained', 'dehydrated', 'word', 'phrase', 'craving', 'strife', 'brumbley', 'antipasto', 'ulistic', \"texan's\", 'provisions', 'electricity', 'penman', \"iran's\", '3.8', 'electrolyte', 'joachim', 'wind', 'hesitations', 'orphans', 'maoists', 'gifted', 'ibm', 'gravy', 'latest', 'rebecca', 'airplane', 'regarding', 'triviality', 'ulster', 'needed', 'succeed', '6871082#', 'anywhere', 'ratty', 'modus', 'laughing', \"#'s\", 'yadavaran', 'looting', 'uss', 'papers', 'quaddaffi', 'y!a', 'gears', 'personalized', 'cost', 'siam', 'seared', 'hereby', 'producing', 'capsules', 't', 'staples', 'calcutta', 'scope', 'mm', 'barometers', 'guests', 'outfits', 'hostile', 'complaining', 'migration', 'conformity', 'ive', \"adult's\", 'pointed', 'figures', 'facebook', 'courtney', 'condominiums', 'friendship', 'polite', 'labelled', 'reliance', 'exercise', 'threats', 'mcdonalds', 'interests', 'boosted', 'hippie', 'denton', 'worried', 'preach', 'greenfield', 'senate', \"sheriff's\", 'accountabilities', '33', 'ribbon', \"posada's\", 'civilian', 'consumers', 'reps.', 'actress', 'spotted', 'harmless', 'scoop', '1614', 'darren', 'pl', 'oily', '59,339', 'socialism', 'acting', 'scheduled', 'rigorous', 'challenge', 'encircled', 'cravings', 'handicapped', 'lo', 'sound', 'flooding', 'services.doc', 'bear', 'alito', 'pearl', 'scanning', 'little', 'victims', '249', 'reward', 'heels', 'cloud', 'proposal.xls', '67', 'inspectors', 'co2', 'performed', 'adriana', 'nicobar', 'financial', 'contacts', 'jaime', 'lottery', 'overtime', 'dung', 'japanese', 'fallujan', 'players', 'comment', '39', '95,000', 'hz', 'examine', 'accelerated', 'harvard', 'teenager', 'willis', 'lifted', '76', 'bowls', 'harbor', 'hatmanone', 'accented', 'toenail', '940', '???????????????', 'olson', 'khan@transredes', 'youths', 'depressed', 'compartmentalize', 'located', 'sudden', 'showed', 'filters', 'http://www.arps.org.au/chernobyl.htm', 'incredible', 'massacring', 'pack', 'wasp', 'liquor', 'shelves', 'designed', 'senseless', 'scramble', 'fitness', 'herewith', 'beach', 'aways', 'pockets', 'joystick', 'teams', '40,000', 'sued', 'emirate', 'barber', 'germany', 'breached', 'humane', 'andamans', \"pike's\", 'succint', 'counterparties', 'glut', 'programming', 'acriflaven', 'edwards', 'ld2d-#69366-1.doc', 'grams', '3.7', 'wounded', 'ernie', 'vacuous', 'abramo@enron', 'pen', '99', 'assembled', 'trees', 'dollars', 'wessex', 'hostel', 'hazim', 'revolted', 'season', 'automated', 'strict', 'bmw', 'attended', 'units', 'microsoft', 'ps.', 'fetch', 'airbase', 'statue', 'hyundai', 'scattered', 'neurological', 'sean.cooper@elpaso.com', '170', 'keeping', 'pairing', 'quilling', 'contributor', 'skull', 'indiana', 'freemason', 'halloween', 'unilevel', 'cpa', 'silly', '09/17/99', 'http://www.equinecaninefeline.com/catalog/abode-large-metal-cage-liberta-free-delivery-p-6679.html', 'forgot', 'http://www-formal.stanford.edu/jmc/progress/chernobyl.html', 'attempting', 'minorities', 'baltimore', 'barriers', 'soups', 'supports', 'majoos', 'deliciousness', 'preferable', 'rambunctious', 'woking', 'eaters', 'spine', 'effort', 'semiautomatic', 'encyclopedic', 'bustling', 'calling', 'peters', '3,500', \"sharif's\", 'retrial', 'adequately', 'http://www.chernobyl.org.uk/page2.htm', 'tibco', 'hamid', 'easter', 'pumpkin', '-stip', 'pariah', 'pepper', 'reigning', 'fresh', 'offensive', 'replacement', \"mia's\", 'gardens', 'lo9nger', 'nudging', 'trusty', 'herald', 'confirmed', 'applies', 'slight', 'coupons', 'sabotaging', 'brianp@aiglincoln.com', 'methodius', 'forgo', '01:32:35', 'text', 'champagne', 'simplifications', 'detroit', 'justin', 'ambitious', 'pyrimidal', 'crucial', 'applicable', 'dusters', '713/853-6197', 'preorder', 'unde$tood', 'tryed', 'distorted', 'tina', 'fabolous', 'jan.', \"wasn't\", 'pays', 'photographs', 'pillow', 'addict', 'http://www.mikegigi.com/techspec.htm#selctemp', 'improved', 'reopening', 'squirrels', 'prizes', 'http://www.ibrae.ac.ru/ibrae/eng/chernobyl/nat_rep/nat_repe.htm#24', 'pleased', 'doj', 'virginia', 'nmanne@susmangodfrey.com', 'weakening', 'obtaining', 'amongst', 'sciri', 'rangott', 'allawi', 'outright', 'allowed', 'eleven', 'electoral', 'fabric', 'asap', 'fahim', 'customarily', 'term', '945', 'buddhism', 'ever', 'thursday', '10/20/2000', 'unresolved', 'excellence', 'confidential', 'overthrow', 't.', 'evan', 'flavorful', 'bravery', 'amalgam', 'tracy', 'mentions', 'business', 'invent', 'railway', 'granting', 'adorable', 'shreveport', 'shuttles', 'politically', 'revell', 'voiced', \"mohammed's\", 'alain', 'corel', 'sand', 'probable', 'http://www.euci.com/pdf/trans_expn.pdf', 'rec.', 'teresa', 'penalties', 'stockholders', 'indicating', 'shipyard', 'grounds', 'icdc', 'canadian', 'beat', 'sausage', 'approvals', 'non-social', 'nights', 'accuracy', 'communicate', '1717', 'handing', 'toowoomba', 'opinons', 'guides', 'input', 'plague', 'accomplishments', 'underestimate', 'organs', 'chill', 'crappy', 'unresponsive', 'heartbreaking', 'omar', '1972', 'spouting', 'archilochus', '10:25', 'vanguard', 'deregulation', 'transmitted', '800/711-8000', 'cabbage', 'beta', '2,000', 'thugs', 'damaging', 'approves', 'ossendrecht', 'grande', 'manufacturing', 'evaluations', \"generation's\", 'controller', 'whisky', 'humour', 'grade', 'arbitrators', 'funded', 'favorable', 'pledge', '.........', 'distinction', 'request', 'companies', 'stylist', 'terror', 'scordia', 'http://www.mikegigi.com/meltmetl.htm', 'kar', 'unpaid', 'folded', 'altogether', 'jurisdictions', 'mass', 'let', 'learning', '02:49', '505-625-8031', 'transportation', 'river', 'stricken', 'remaining', 'spawn', 'poker', 'fruit', 'moussaoui', 'connolly', 'caem', 'compact', 'laughed', 'percell,', 'energyphiles', 'tall', 'fungus', 'addendum', 'kean', 'unable', 'bravely', 'bearing', 'whistle', 'aortic', 'standpoint', 'zionist', 'outlets', 'live', 'postures', 'false', 'stays', 'inland', 'fucking', 'study', 'abusers', 'join', 'occurred', 'beau', 'barclays', 'pies', 'inform', 'argument', '6.3', 'exceeded', 'engagement', 'lotus', 'annoy', 'announced', 'strzalka', 'cashier', 'cures', 'stilted', 'stanley', 'rcommended', 'activated', 'conquer', '73', 'disappointment', 'journal', 'della', 'goebbels', 'originally', 'sw', 'tends', 'antiquity', 'psychological', 'seek', 'chrisssake', 'newsweek', 'nagaland', 'executive', 'hardcore', 'frisco', 'monarchies', 'properties', 'sufaat', 'draw', 'led', 'humanpixel', 'part', 'sheer', 'inked', 'lipa', 'dwarfed', 'tgif', '7:35', 'angle', '330', 'forecasts', 'edible', 'cause', 'farm', 'acquire', 'attach', 'quietly', 'covers', 'bs', 'drives', 'aakrosh', 'things', 'accord', 'absolute', 'releasing', 'distribute', 'http://www.physics.isu.edu/radinf/chern.htm', 'enduring', 'wield', 'populous', 'newsday.com', 'bluntly', 'cge', 'derailing', 'seat', 'saber', 'superdome', 'decompose', 'blogging', 'nesting', 'remodeling', 'steak', 'shannon', 'mid-may', 'delight', 'cauliflower', 'inconvenient', 'curbing', 'sanctuary', 'cst', 'instantaneously', 'calm', 'glad', 'trademarking', 'dominance', 'al.', 'minute', 'nea', 'boys', 'teens', 'jan', 'province', 'ecommerce', 'catering', 'containers', 'hide', 'punishing', 'isi', 'stocks', 'era', 'penn', 'informing', 'alcoholism', '07:24', 'survived', 'recalculation', 'teheran', 'waterfalls', 'glove', 'funding', 'affirmative', 'parade', 'labadee', 'payed', 'intrigued', 'sailing', 'broadband', 'historical', 'endorse', 'invading', 'maybe', 'lauded', 'therefore', 'dealt', 'registration', '1928', \"bart's\", 'anna', '09:27', 'enjoy', 'collages', 'so', 'create', 'fagan', 'titanic', 'derivative', 'discount', 'complimented', 'banned', 'bath', 'guarantees', 'cargo', 'shower', 'newfound', 'impasse', 'rectangle', 'idea', 'nickname', 'thi', 'delayed', '11:23', 'antiwar', 'surprised', 'moral', 'garment', 'bourret', 'representative', 'focuses', 'riso', 'sect', 'unmanned', 'joy', 'montgomery@enron', 'reactor', 'advances', 'builders', 'barrier', 'commitments', 'posed', 'pawing', 'development', 'u', '306', 'rage', 'owned', 'desserts', 'nerve', '50th', 'showdown', 'weekends', 'period', 'autonomy', 'x36709', 'safeguard', 'breed', 'mitigated', 'paw', 'disregard', 'cigarette', 'moved', 'conservative', 'expired', 'stockpiles', 'inhuman', 'lightbulb', '1995', 'possessed', 'thresholds', 'background', 'hatred', 'vom', 'hyperion', 'beardies', 'mulberry', 'push', 'lord', 'chs', 'charged', 'madhlum', 'stint', 'affiliates', 'aziz', 'overrun', '451', 'catfish', 'secondly', 'proceedings', '9th', 'richest', 'membership', 'morbidity', 'wish', 'exhaust', 'obedience', 'ft.', 'vols', 'memorializes', 'phoned', 'peterson', 'darkness', 'locks', 'sport', 'damascus', 'enviroment', '41', 'saucey', 'jolla', 'abilities', '4193', '1:30', 'chemical', 'regulations', 'sporadically', 'grandson', 'beam', 'scooping', 'po', 'demons', 'separately', 'populate', 'alan', '__________________________________________________', 'titman', 'such', 'doorstep', 'tobias', 'greet', '548', 'vernon', 'migrations', 'stupid', '10/23/2000', 'earliest', 'scented', 'disarming', 'memories', 'chants', 'wave', 'holy', 'ladakh', 'abstraction', 'schools', '9/11', 'kuwaiti', 'whhich', 'known', 'silent', 'http://herp-info.webs.com/beardeddragon.htm', 'amman', 'charges', 'souvenirs', 'childhood', 'female', 'milking', 'stretch', \"women's\", 'appreciated', 'agenda', 'mk', 'arranged', 'salikh', '400', 'chander', 'shields', '16/10/2004', 'laurie.ellis@enron.com', 'shrewd', 'unprofessional', 'mar', 'turned', 'wound', 'welcoming', 'prescriptive', 'pork', 'tribe', 'recognized', 'either', 'horribly', 'atrocity', '09/16/99', \"cairo's\", 'luckily', 'leafy', '0.10', 'tips', '2015', 'institutionally', 'crucible', 'www.risk-conferences.com/risk2001aus', 'evaluation', 'application', '___________________________________________', 'stamina', 'flower', 'implementation', 'sophomore', 'daugherty', 'gimmicky', 'murder', 'wearies', 'motionless', 'sol', 'sends', 'boss', 'unhappy', 'wigner', 'intel', 'woods', 'guerrilla', 'info', '1943', 'dominant', 'breakfasts', 'construction', 'rockin', 'emercom', 'achievement', 'horrible', 'freeze', 'oblivious', 'conquest', 'its', 'moment', '____________________________________________________', 'stem', 'type', 'evenly', 'farrier', 'mcmahon', 're-interviewed', 'plates', 'barbecue', 'collection', 'seizure', 'similar', 'peter', 'fifteenth', 'inserted', 'intelligent', 'groups', 'bien', 'survivors', 'sweet', 'guitar', 'hammer', '80y', 'outdoor', 'http://www.bigeye.com/111003.htm', 'evacuees', 'mussels', 'churchy', 'americans', 'stubley', 'pakistani', 'andaman', 'smoked', '7/26/08', \"jihad's\", 'specified', 'brandee', 'opens', 'popes', 'monitored', 'vanilla', 'humanity', 'incited', '12:35', 'carrot', 'succulent', 'three', 'rattling', 'danced', 'pulse', 'crate', 'post', 'hotel', 'ascertain', 'miniature', 'accumulation', 'quality', 'justice', 'shoots', 'coffins', 'osler', '501', 'arts', 'disconnected', 'calico', 'filling', 'discover', 'nostromo', 'ruin', 'lacking', 'forkfuls', 'correspond', '->', 'predetermined', 'aunt', 'ulterior', 'juste', '100,000', 'nerd', 'mostly', 'eve.', 'gullible', 'couter-cultural', 'haedicke', 'hare', 'sera', 'belief', 'artery', 'familiarity', 'tossed', 'recalled', 'teen', 'report', 'serious', 'underground', \"bradley's\", 'geared', 'outline', 'fleeting', 'ipad', 'warmly', 'identifying', 'troy', 'indeed', '3,300,000', 'moderates', 'reconnaissance', '***********************************', 'congrats', 'definite', 'logistical', '899-4425', 'decade', 'subject', 'ruminate', 'canibal', 'roll', '?????', 'rocky', 'clips', \"family's\", 'noises', '11:34', 'potidea', 'inviting', '1327', 'planets', 'hehehe', 'hom', 'r.', 'bandwidth', 'enabling', 'earthworms', 'discharge', 'socially', 'firstly', 'hangout', 'confusion', '1490s', \"mom's\", 'crowd', 'darunta', 'perle', 'yards', 'instability', 'http://en.wikipedia.org/wiki/john_balance', 'equaling', '1525', 'paperwork', 'minimums', 'shrill', 'yourselves', 'grandparents', 'wallen', 'percentages', 'brightness', 'petting', 'whack', 'comedy', 'screamed', 'huskers', 'lemonade', 'resond', 'controlling', 'you', 'legitimacy', '----------------------------------------------------------------', 'bta', 'vehicle', 'direct', 'defending', 'epithet', 'coil', '300,000', 'http://gimpedblog.blogspot.com/2011/09/how-to-use-gimp-for-beginners-lesson-4.html', 'tractor', 'indefinite', 'completely', 'possible', 'mesh', 'detection', 'infections', 'access', 'decide', 'plant', 'additional', 'india', 'petrol', 'worth', 'roofing', 'blogger', 'bpd', 'ordeal', 'offsite', 'fraught', 'rules', 'protocol', 'refreshment', '730', 'acknowledges', 'invited', 'except', 'remarkably', 'epitome', 'achieve', 'behalf', 'f', '11201', 'david', 'fundamentals', 'wsi', 'woodinville', 'implicate', 'recovery', 'alt.animals.ethics.vegetarian', 'gross', 'mcallister', 'pregnant', \"80's\", 'neo-conservatives', 'kelowna', '104', 'relations', '-----------------------------------------------', 'directive', 'difficult', 'traced', '(', 'soda', 'buzzing', 'garlic', '-ll', 'delightful', \"uncle's\", 'origination', '05/25/2001', 'debate', 'carotid', 'risked', 'surfaced', '09:24', 'kingerski', 'christie', \"nation's\", 'greece', 'adorn', 'doublethink', 'mayur', 'comparisons', 'surest', 'salads', 'brazil', 'rob', 'sentiments', 'mama`s', 'violations', 'expelling', 'blending', 'mailer', 'facility', '5.2', 'wa.', 'fuse', 'hafs', 'tana', 'unapologetic', 'base', 'punctual', 'warfare', 'perceptions', 'take', 'vicki', 'gangland', 'classified', 'much', 'sexual', 'conundrum', 'skip', 'optimistic', 'afore', 'anniversary', 'notified', 'lawyer', 'proposed', '220a', 'suitcase', 'mask', 'gym', 'allies', 'marvelously', 'agip', 'networks', 'fahrenheit', 'darn', 'procurement', 'wildflowers', 'urethra', 'giggled', 'intend', 'four', 'neo-nazi', 'certification', 'gtee', 'engaging', 'wade', 'daily', 'harry', 'fleece', 'mate', 'refuse', 'neutered', 'acceptable', 'casualties', '713/646-6505', '20s', 'bras', 'absoulutely', 'pervez', 'dates', 'instigated', 'enthusiastically', 'raising', 'munk', 'purpose', 're-looking', 'ferrous', 'gouging', \"it'd\", \"kids'\", '1588', 'alike', 'charger', 'pizzas', 'khymberly', 'lap', 'giant', \"fiance's\", 'avoiding', 'funkhouser', 'cory', 'returning', 'notify', 'enchladas', 'prioritised', 'winckelmann', 'unpalatable', '04/30/2001', 'nsa', 'everland', 'vo', 'compeltly', 'thomas', 'furnished', 'would', 'monopoly', 'intrepid', 'wonders', 'sampling', 'needles', 'runs', 'kioka', 'canever', 'financially', 'fields', 'potential', 'praise', 'licensed', 'backgrounds', 'undersized', 'december', 'cranston', 'gall', 'exception', 'occasion', '01:00:51', 'shamanism', 'murillo', \"50's\", 'underpinned', 'preparedness', 'newark', 'vehicles', 'discourteous', 'lafayette', 'warm', 'i.s.c.', 'gallon', \"ltte's\", 'apologised', 'sec.', 'derrick', 'liau', '1960s', 'significant', '72', 'woke', 'hawkish', '02/22/2001', 'pig', \"20's\", 'snowboard', 'cell', 'prompt', 'dirtier', 'oil', 'evictees', 'cfc', 'posting', 'constitution', 'korea', '03:11', 'methodology', 'saboteurs', 'accused', 'shit', 'procedural', 'sorted', 'fundamentalist', 'restful', 'anti-india', 'species', 'response', '12:30', 'exterminator', 'harsh', 'gen.', 'concept', 'misc.consumers.frugal-living', 'entie', 'scheuer', 'scary', 'uncaring', 'surrounding', 'constructing', 'valuation', 'columbine', 'jorge', 'downsizing', \"lovin'\", 'colorado', \"officer's\", 'thanked', 'establish', '04/16/2001', 'narrow', 'joule', 'esimien@nisource.com', 'expedited', 'cozumel', 'remission', 'screen', 'iceberg', 'ted.bockius@ivita.com', 'she`s', '415.782.7822', 'methodical', '707-885-2508', 'iowa', 'though', 'cancel', 'eulogic', 'sharon', 'skilling', 'remind', 'disclaimer', 'panamal', \"that'll\", 'doug', 'arrogance', 'forgive', 'fuelcell', 'ronald', 'photo', 'parisian', 'attention', 'orissa', 'scoring', 'outsourcing', 'blakemore', 'plus', 'wading', 'poneh', \"america's\", 'leadership', 'pint', 'dysfunctional', 'pan', '2002', 'midterms', 'ncaa', 'stabilise', 'often', \"they'd\", '713-819-2784', 'alt.animals.tiger', 'narrowly', 'unemployable', 'oven', 'month', 'morning', 'ran', 'preserves', \"saucey's\", 'chefs', 'amsterdam', 'interrogators', 'throat', 'ted', '87', 'predator', 'conclude', 'christened', 'allegedly', 'intents', 'grimy', 'crazy', 'brown', 'ventilation', \"clinton's\", 'ale', ':/', 'noble', 'picks', 'centres', \"goose's\", 'steinberg', 'employee', 'neoplatonic', 'tale', 'eligibility', 'ansems', 'looks', '13th', 'least', 'revolutionary', 'platform', 'baath', 'ut', 'harari', './', 'espeakers', 'comprehend', 'canoeing', 'shut', 'arizona', '02/13/2001', '56', 'picasa', 'pjc', 'terrifying', 'sanzio', 'eta', 'lora.sullivan@enron.com', 'ma', 'sticks', 'sacking', 'df', '140', '23rd', 'bustle', 'bush', 'kilinochchi', 'gov.', 'conversations', 'merely', 'friendliness', 'estimated', 'assigning', 'versa', 'sahhaf', 'warlord', 'combine', '36,000,000,000', 'seperate', 'monarchs', 'influence', 'pagen', 'arby', 'severe', 'vision', 'past', 'trust', 'ye', 'accidents', 'http://www.romancescam.com/forum/viewtopic.php?t=7231', 'banana', 'retrieve', 'answers', 'dwarf', 'e.g', 'gangly', 'colleague', 'agreed', 'series', 'cleared', 'induced', 'authorization', 'borritos', 'needless', 'chineze', 'stories', 'warrior', 'orthographic', 'reffered', 'runflats', 'career', 'further', 'beverage', 'recount', 'lions', 'leach', 'posts', 'changing', 'andrew', 'farmlands', 'tds', 'wonderland', '713-853-3989', 'est', 'killer', \"coordinator's\", 'absurd', 'ended', 'pro-same', 'diebner@ect', 'overheard', 'uniform', 'considerable', 'austin', 'impose', 'uncommon', 'starr', 'draft', 'herat', 'davies', 'melanie', 'interferes', '800', 'contemplated', 'woken', 'pioneer', 'coincidence', 'guitarist', 'jr', 'fulfilling', 'learn', 'individuals', 'bob', 'stuffs', 'ashraf', 'disagreed', 'flexibiltiy', 'preparation', 'peril', 'islamabad', \"zawahiri's\", 'demands', 'residence', 'tip', 'storing', 'teach', 'installed', 'concentrating', 'syrian', 'andy', 'caper', 'postmaster', 'inquire', 'defanged', 'reminds', \"let's\", 'subdue', 'registered', 'handful', 'grossly', 'apologize', 'seats', 'zacarias', 'sciencem...@upi.com', 'leaky', 'backpacks', 'careful', 'sheikh', 'payout', 'outcast', 'zero', 'monarchy', 'sturdy', 'winding', 'subsidies', 'breeder', 'graduation', 'judge', 'rehabilitate', 'hallway', 'kurdistan', 'darfur', 'future', 'subsequent', 'appears', 'boat', 'matching', 'pulling', 'ruler', 'package', 'mecca', \"croall's\", 'baking', 'roadside', 'blame', 'oops', 'peasants', 'automotive', \"friday's\", 'followers', 'zaman', 'horrendous', 'buyer', 'camping', 'bulb', 'biloxi', 'thing', 'divy', 'natives', 'pollution', \"boss's\", 'contracts', 'transcripts', 'cages', 'truely', 'bremmer', 'guiness', 'carytown', 'partial', 'consuming', 'balloting', 'houston', 'suit', 'compete', 'theeth', 'meat', 'is', 'shiites', 'blames', 'summarized', 'blatantly', 'tgpl', 'veterans', 'larry', 'dongle', 'bike', 'european', \"essex'\", 'vpp', 'taco', 'flights', 'appear', 'jagger', 'garner', 'calendars', 'pivotal', 'killie', 'cev', 'laudable', 'reactions', 'alexander', 'bilmes', 'did', \"i've\", 'bashing', 'pedicure', 'lemell', 'fabrications', 'corssing', 'inter-', 'arthur', 'stacked', 'streamside', 'faltered', 'extinctions', 'chairs', \"horse's\", 'tablet', 'select', 'wrinkles', 'musk', 'mechanism', 'grown', 'petroleum', 'moslems', 'brazilian', 'possibly', '189', 'annex', 'rector', 'misconception', '05:17', 'sanskrit', 'phobia', 'substantiation', 'look', 'floating', 'completion', 'jamaican', '713-654-1281', 'speadsheet', 'authoritarian', 'explains', 'died', 'ticks', 'appeals', 'le', 'see', 'awake', 'positions', 'walked', 'gmt', \"1960's\", 'stil', 'plt', 'audit', 'gus', 'showing', 'devote', 'per', 'protect', 'followed', 'skater', 'goodwyn', 'oats', 'militarize', 'erosion', \"cox's\", 'fiance', 'individually', 'anti-americanism', 'companion', 'ips', 'pilot', 'voice', 'pines', 'hospital', 'bridal', 'blessings', 'dinner', 'granted', 'respectful', 'karl', 'stopping', 'teenage', 'cars', 'local', \"tiger's\", 'nord', 'cutting', 'eyes', 'went', \"navy's\", 'voting', 'mccallum', '11:25', 'prestige', 'anti-bush', 'africa', 'sheeting', 'toes', 'membrane', '$$', 'state', 'eg.', 'mush', 'invested', 'appease', 'wine', 'spokesman', 'nationalism', 'usa', 'private', \"lanka's\", 'manifest', 'citing', 'language', 'http://news.yahoo.com/nestl-purina-releases-commercial-aimed-dogs-183443091.html', 'fuck', 'christiane', 'killing', 'healthcare', 'ensured', 'deadly', 'contact', '\"', 'ignoring', 'cannistaro', 'freighter', 'butter', 'cellular', 'http://www.21stcenturysciencetech.com/articles/chernobyl.html', 'ineos.xls', 'mantia', 'hectic', '20.doc', 'ruling', 'dietrich', 'counselors', '03', 'tricks', 'animated', 'specify', 'superiority', 'fine', 'dawa', '******', 'brawler', \"winter's\", 'brin', 'trademarked', 'ext', 'refuses', 'irrational', 'vs.', '1990', 'operators', 'runaround', 'kathy', 'silk', 'run', 'warming', '2/7/2005', 'manipur', \"stojic's\", 'blackouts', 'bleak', 'sacrificed', 'scriptural', 'recite', \"mcallister's\", 'greetings', 'pertains', 'funerals', 'profile', 'infected', 'insidious', 'driven', 'sensed', 'hookless', 'inclusive', 'repercussions', 'cousins', '_______', 'egg', 'activity', '!!!', 'spaciously', 'done', 'aaa', 'ethink', 'roman', 'chant', '110', 'studied', 'significantly', 'furious', 'struggle', 'pretend', 'orally', 'band', 'battles', '55,008', 'wary', 'victrola', '12/28', 'chauvinisms', 'modernizing', 'goal', 'leader', 'patient', 'briefed', 'leite', 'beings', 'appraisal', 'bella', 'protective', 'balsa', 'vcu', 'audio', '10.0', 'flying', 'aswered', 'dingy', 'choices', 'modicum', 'necessity', 'conferees', 'camp', 'regular', 'hook', '6.2.1', 'brain', 'binds', 'unorganized', 'showroom', \"woods'\", 'increased', 'altitude', 'iris', 'funeral', 'convention', 'lorenzo', 'objectively', 'belt', 'u.c.', 'dischord', 'periods', 'murdered', 'yassin', 'nomination', 'massoud', 'tarawa', 'clientelage', 'tempers', 'haul', '1000', 'lws', 'fishman', \"russia's\", 'rhonda', 'hero', \"wolf's\", '425-415-3098', 'comp', 'recieved', 'goals', 'acquisition', 'sooo', 'undesirable', 'constraints', 'counter', 'receives', 'arafat', 'liquidweb', 'jawaharal', 'terrible', 'arsenic', 'entities', 'await', 'allege', 'hds', 'veto', 'litterarum', 'advised', 'likes', \"mcdonald's\", 'crepe', \"islands'\", 'icc', 'executives', 'mommies', 'eliminated', 'steamboat', 'unstable', 'bertone@enron_development', 'bryant', '`s', 'burrowed', 'nina', 'alignment', 'suspended', 'queso', 'doing', '30s', '7:00', '04:11', 'concluded', 'enrononline', 'fueled', 'debts', 'comparison', 'dwellers', 'potentiality', 'length', 'casting', 'beaver', 'piping', 'romanick', 'bad', 'shops', 'peddles', 'x33098', 'responded', 'because', 'sigh', 'rural', 'seventeen', 'teacher', 'roderigo', 'secretions', 'side', 'freight', 'synthetic', 'manufacturers', 'advancements', 'picky', 'bones', 'universe', '10:39:03', 'pre-war', 'flaw', 'securely', 'ranjit', 'midmarket', 'uncut', 'baseball', 'citizenship', 'describe', 'warlords', 'operating', 'implemented', 'nicest', 'suddenly', 'provide', 'concerns', 'futurism', 'brase', 'roughly', 'carless', 'dominion', 'devil', 'staffed', 'captive', 'cdg', 'crowns', 'taurus', 'rewarded', 'magazine', 'dictionary', 'convinced', 'describing', \"murillo's\", 'sail', 'disatisfied', 'checkout', 'other', 'become', 'stunk', 'confluence', 'dagger', \"vet's\", 'consider', 'supermarkets', 'degree', 'greeted', 'leaf', 'ultra', \"we've\", 'overseeing', 'dismisses', '08/17/2000', 'tow', 'll', 'slang', 'argue', 'custom', 'eloquent', 'proclaimed', 'nazis', 'nvq', 'belgium', 'spiel', '120,000', 'secretary', 'chromatograph', \"us's\", 'rep', 'dividends', 'locker', 'lava', 'liabilities', 'instep', 'allowance', 'nt', 'liberal', 'theme', '1576', 'tower', 'fare', 'earthhhhhhh', 'short', 'charlie', 'wounds', '11:57', '01:58', \"khaza'il\", '**********', 'waste', ':d', 'glanced', 'task', 'farcical', 'azzaman', 'lexus', 'post-accident', 'consistantly', 'heel', 'knudsen', 'menu', 'mixed', 'sinh', 'shrodinger', 'bredders', 'associates', 'faithful', 'disruptive', 'cp', 'studios', 'armies', 'affordable', 'deported', 'wealth', 'said', 'discovery', 'intelligence', 'crude', 'http://travel.state.gov/travel/cis_pa_tw/cis/cis_1052.html', 'unknown', 'http://www.the-dslr-photographer.com/2009/11/which-dslr-to-buy/', 'breyers', 'principal', 'bandera', 'prolly', 'reptiles', 'http://www.ebay.co.uk/itm/250927098564?var=550057729382&sspagename=strk:mewax:it&_trksid=p3984.m1438.l2649#ht_', 'pcs', 'true', 'administrative', 'crosses', 'misleading', '34', 'stressed', 'port', '415.621.8317', 'pinkies', 'bothered', 'lindh', 'miracles', 'she', 'fight', '46', 'entirely', 'beats', 'caspian', '====================================================', 'sarhid', 'wool', 'muscles', 'random', 'http://news.bbc.co.uk/2/hi/programmes/this_world/4446342.stm', 'rrly', 'souls', 'managing', 'shovel', 'acquainted', 'dogwood', 'issues', 'sen.', 'traditions', '8:35', 'editorial', 'submarine', 'send', 'presence', 'daimler', 'gallup', 'butterflies', 'artwork', 'assert', 'garrison', 'dc', 'manned', 'concern', 'almanac', 'finest', 'notification', 'mining', 'proper', 'http://www.solutions.com/jump.jsp?itemid=1361&itemtype=product&path=1%2c3%2c477&iproductid=1361', 'babies', 'gaze', 'specialist', 'bobber', 'negotiating', 'requesting', 'touched', 'phenomenal', 'controversy', 'consideration', 'previously', 'systems', 'google', \"who's\", 'standards', 'coke', 'vof', 'attachments', 'yours', 'patently', 'paradero', 'rock', 'rescheduling', 'hosting', 'tennessee', 'nigeria', 'declaring', 'evil', 'singapore', 'surgeons', 'spice', 'christians', 'coming', 'yoke', 'downloading', 'condos', 'agrees', 'husain', 'promise', 'parishioners', 'fws', 'aggregation', 'zoomed', '237', 'cayuga', 'unit', 'launch', 'bloody', 'preposterous', 'arrangements', 'worker', 'permission', 'notes', 'tms', 'labeled', '13.9', 'spends', 'nibble', 'equating', 'clearly', 'backweb', 'plain', 'ideation', 'incompletely', 'professionals', 'technologies', 'asymmetric', 'postal', 'murfreesboro', 'humvees', '11:05', 'dependant', 'venice', 'passenger', 'restoration', '---------------------------------------------------------------------', '215', 'reminded', 'kerry', 'flds', 'fades', 'martyrs', 'responsive', 'presented', 'powder', 'interest', 'highway', 'educators', 'indian', 'fits', 'prepayments', 'd:', 'jill', 'bhutan', 'deployed', 'expertise', 'wires', 'robbi', 'lamp', 'leavenworth', 'ndi', 'treatments', '1937', 'attachment', 'whdh', 'capture', 'program', 'german', 'ours', 'interpret', 'shattered', 'laughter', '445', 'challenger', 'iraqiyah', 'owner', 'targeted', 'tin', 'hotter', 'reads', 'arrayed', 'rides', 'newspaper', 'assumes', 'prongs', 'dental', 'presidential', 'established', 'foot', 'fishes', '718-780-0276', 'counseling', 'received', 'berlin', 'dish', '03/16/2001', 'gear', 'bite', 'ranking', 'wile', 'hour', 'wii', 'reinforcing', 'theft', 'skush@swbell.net', 'indefinitely', 'stove', 'sashimi', 'mein', 'creepy', 'des', 'expectations', 'darla', 'whasssup', 'sounds', 'degus', 'confessed', 'wherever', 'henderson', 'tozzini', 'confines', 'stink', 'bachelors', 'ncfa', 'http://www.ontario.ca/en/information_bundle/birthcertificates/119275.html', 'nymex', 'florida', '03/28/2001', 'saint', 'preparing', 'conferences', 'cult', 'normall', 'nearest', 'wildwood', 'harness', 'duct', 'park', 'dryer', 'considers', 'acknowledging', 'scheme', 'astounding', 'arnt', 'gloucestershire', 'grueling', 'bruised', 'fino', 'loving', 'fervor', 'notice', 'sidenote', \"counterparty's\", 'abandoning', 'switchboard', 'rendered', 'compositionally', 'tailor', 'gallop', 'blend', 'glow', 'unreliable', 'bonafide', 'rutgers', 'innermost', '978-376-9004', 'hickies', 'safety', 'deputies', '01/26/2001', '9800', 'week', 'vs', 'compelling', 'blurring', 'decisions', 'viewers', 'reaction', 'idle', 'educate', '3143c', 'bosnian', 'colder', 'thick', 'driver`s', \"o'clock\", \"vere's\", 'force', \"naha's\", 'safest', 'quotes', 'torrey', 'sate', 'drawings', 'blast', 'deffly', 'countless', 'name', 'obviously', 'routinely', 'netherlands', 'blvd.', 'conf.', 'sadistic', 'indians', 'ereader', 'scratchy', 'noel', 'soft', 'love', 'treaty', 'kaufman@ect', 'aster', '303-294-4499', 'spirits', 'vegetarianism', 'neighbor', 'threshold', 'dept', 'suspension', 'duality', 'beneficiary', 'ecc', 'assisting', '600-480', 'mythical', 'weights', 'flexibility', 'pounded', 'headboard', 'commands', 'levels', 'memorial', 'ford', 'evolution', 'position', 'alliance', 'belly', '78', 'synch', 'bikes', 'cuisine', 'terribly', 'atahualpa', 'hu', 'simplistically', 'accounting', 'grasped', 'lawsuit', 'municipal', 'illegal', 'tire', '06:02', 'traders', 'oz.', 'op', 'mattered', 'bp', 'reimbursed', 'families', 'correctly', '43228', 'condemnation', 'glitch', 'hunt', '5000', 'indignity', 'hooptie', 'pre-fab', 'fixtures', 'played', 'se', 'priority', 'scoff', 'spouses', 'advisor', 'scholarship', 'grew', 'yemen', 'cake', 'confrontation', 'scratching', 'guerra', 'lithograph', 'vanves', 'pickling', 'mist', 'literaly', 'occasionally', 'compromising', 'bluff', '21/03/2001', 'authorities', 'eol', 'sept', 'download', 'billion', 'doctor', 'http://www.rawstory.com/news/2006/us_outsourcing_special_operations_intelligence_gathering_0413.html', 'integrity', 'less', 'habitation', 'tupperwear', 'fhs', 'brought', 'castling', 'guthrie', 'chemistries', 'comfortably', 'roaches', 'blades', 'canada', 'mainly', 'nichols', 'contacted', 'acted', 'youtube', 'kidding', 'washing', 'okabayashi', 'thirds', 'andrea', 'cavies', 'rabbits', 'balasingham', '3:30', 'wander', '200', 'andrews', 'grandmothers', '14721', 'gaining', '312-666-2372', '230', 'clause', 'advantage', 'cpuc', 'encounters', 'craig', 'diseases', 'aggravated', 'ethnic', 'chemicals', 'renewable', 'basically', 'meier', 'valdiviesco', 'former', 'waters', '12:42', 'mick', 'ids', 'recommending', 'ranges', 'woman', 'teaching', 'reflecting', 'indexed', 'litgation', 'sheikhs', 'monkey', 'sump', 'framework', 'drunk', 'rouault', 'exponentially', '!!!!!!!!!!!!!', 'excellently', 'voicing', 'overwhelm', 'rubbing', 'peachstate', 'therapist', 'cutter', 'ads', 'committment', 'source', 'amplified', 'jann', 'constructive', 'homework', 'filed', 'vegetarian', 'guardian', 'threw', 'rates', 'naivety', 'rachel', 'shipment', 'empowerment', '08/07/2001', 'diminish', 'pocket', 'dishonors', 'bags', 'respectfully', 'moreton', 'juggernaut', '>', 'generation', 'daschle', 'emma', 'focusing', 'postings', 'dudley', 'online?u=mayursha&m=g&t=1', 'saxons', 'sick', 'mod', 'dramatic', 'burger', 'alabama', 'breaking', 'descriptions', 'rulers', 'liberia', 'affluent', 'marie', 'mhc', 'wielding', 'intrigue', 'knives', 'map', 'inflation', 'nations', 'literalist', 'thinking', 'denny', 'scam', 'eliminating', 'mcginnis', '1926', 'iraqi', 'fulltime', 'under', 'literature', 'convince', 'alcala', 'coastal', 'ah', 'humiliation', 'tennis', '<<', 'grill', 'onsi', 'holiday', 'embrace', 'signatures', 'writes', 'sdg&e', 'letting', 'cursor', 'precious', 'brick', '220b', '5/1/01', 'irrespective', '2018', \"c'mon\", 'frosts', 'lying', 'philip', 'spraying', '07/17/2000', '03/08/2000', 'birthday', 'gout', 'preamble', 'hellish', 'visas', 'devices', 'objectives', 'claude', 'quicker', 'bramen', 'island', 'proved', 'daisy', 'anne', 'earthquakes', 'sheep', 'lover', 'elliotts', 'crashes', 'dublin', 'surgery', '26/09/2000', 'heat', 'insane', 'emit', 'salons', 'nordic', 'rangoon', 'considerations', 'pam', 'impenetrable', '24,000', 'laptop', 'fragrance', 'establishment', 'lopsided', 'stole', '01/19/01', 'muni', 'shipped', 'walsingham', 'dempsey', 'basking', 'm16', 'shippers', 'sstaff', 'taxed', 'keenly', 'cylinders', 'severely', 'acia', 'unlce', '1974', '05/03/2001', 'mid', 'nemec', '?!?!?', 'jeremy', 'watchful', 'direction', 'master', 'summary', 'puff', 'unfair', 'confined', 'hens', 'extradition', 'only.doc', '22nd', 'contrast', 'indication', 'comes', 'gesture', 'cruisecompete', 'painted', 'bethesda', '16.3', 'handsome', 'haddock', 'logical', 'committee', 'expeditionary', 'disinformation', 'valentine', 'recomend', 'ace', 'detractors', 'iso', 'feet', 'trusted', 'streamed', 'actually', '05:59', 'fact', 'fires', 'misdirection', 'kalikhola', 'including', 'virtual', 'anton', 'elaborate', '.doc', 'fallout', 'fraser', 'funny', 'alto', 'relieved', 'aeronautics', 'accept', 'quietest', 'divest', 'jaqamofino', 'violent', 'snooty', 'redvepco.doc', 'exploration', 'dawn', 'xiii', 'mountain', 'hamster', 'emachines', 'disturb', 'ghostly', 'overflow', 'infertility', 'kaminski', 'adapted', 'mails', 'vancouver', 'extend', 'towing', 'revision', 'non-bondad', 'miui', 'objects', 'drinking', 'chloride', 'forgiveness', 'warren', 'testosterone', 'independent', 'motives', '18th', 'hiring', 'evaluated', 'respond', 'unofficial', 'ismail', 'dialague', 'knows', '3-5297', 'roofs', 'wilson', 'needs', 'pool', '??????', 'cities', 'fast', 'bench', 'assaulted', 'pager', 'razaq', 'traveling', 'pigs', 'tearing', 'reviewer', \"'akkab\", 'peacefully', 'sanded', 'celebrity', 'bodice', 'demonstrate', 'jihadi', 'handles', 'propping', 'barely', 'stewart', 'jane', 'assistant', 'deseret', 'lamb', 'campaign', 'abiding', 'equant', 'metres', 'buddy', 'ball', 'listing', 'guardsmen', 'spanish', 'jubur', 'enroute', 'addictive', 'organism', 'minus', 'mounting', 'enchilada', 'will', 'documents', 'overtook', 'vague', \"equilon's\", 'biologist', 'huver', 'ordinary', 'vij', 'slowest', 'dynamics', 'conceptualize', 'remnant', 'feeding', 'tomipilates', '75', '45', 'operatives', 'wreathed', 'naji', 'preserve', \"epa's\", 'warwick', 'russian', 'rhee', 'klimberg', 'rises', 'jointly', 'bw', '6', 'pick', \"i'll\", 'causal', 'examination', 'herding', 'congratulations', 'mormon', 'memphis', 'instead', 'samuel', 'technically', '****', 'hoot', 'having', 'unparalleled', \"969's\", 'compliance', 'lowest', 'pinning', 'negotiation', '09:45', 'breakdown', 'okinawa', '20005', 'overdose', 'criminals', 'unaware', 'commitee', 'mislabeled', 'sentence', 'complexities', 'gerry', 'scent', 'creatures', 'equality', 'gapinski', 'fps', 're-trained', 'sharq', 'cement', 'execute', 'provinces', 'alt.animals.horses.breeding', 'pre-meeting', 'young', 'sponsorship', 'canyon', 'delivered', 'continually', 'spheres', 'beavers', 'hamburg', 'debi', 'imprisoned', 'manipulate', 'governmental', 'court', 'sue', 'roof', 'set', 'kant', 'strangled', 'banking', '98011', 'fails', 'decrease', 'cock', 'cropduster', 'everywhere', 'sneaks', 'boycott', 'poisonous', 'layer', 'piccadilla', 'courage', 'sensations', 'sizes', 'disrepair', 'circular', 'insurance', 'deep', 'die', 'plunged', 'taken', 'changed', 'reagan', 'ld2d-#69334-1.doc', 'nov', 'righ...@sonic.net', '7.22', 'realized', 'creature', 'down', 'pope', 'while', 'commission', 'unlike', '$', 'women', 'sinhala', 'speaking', 'damage', \"doesn't\", 'emptiness', 'corrupt', 'wrapped', 'apprehensive', 'shoulder', 'inclusion', 'amnesties', 'dandelions', 'rer', 'mullah', 'defied', 'encouraging', 'portion', 'hbs', 'beard', '!!!!!!!!!!!!!!!!!!', 'chatillon', 'abou', 'm', \"'\", 'paris', 'attitude', 'appropriation', 'thou', 'breyer', 'hopefully', 'virulent', 'milieu', 'shop', 'btwn', 'liturgical', 'underwrite', 'aberrations', 'household', 'cancellations', 'introspection', 'x.x', 'moreso', 'continues', 'captain', 'reporting', 'gulfport', 'margaret', 'swg', '575', 'outbid', 'polution', 'arent', 'carton', 'smashed', 'saintly', 'perhaps', 'depends', 'x-37097', 'patronized', 'blanco', 'grist', 'edit', 'phones', 'amy', 'enthusiastic', 'misc.consumers', 'display', 'square', 'betta', 'socialization', 'http://www.chernobyl.info/en', 'strenuous', '25.00', 'formed', '180.9', 'mater', '2,500', 'islamophobia', 'sleeps', 'whole', 'proposal', 'convenience', 'hong', 'cisco', 'pals', 'u.s.a', 'shows', 'recipe', 'filner', 'spacious', 'deteriorated', 'cool', 'succeeding', 'mailto:rosario.gonzales@compaq.com', 'volunteers', 'windier', 'vigor', 't&d', 'analyzed', 'sharpest', 'lapses', 'delays', 'jintao', 'maintains', 'contentious', 'poverty', 'vacuum', 'appropriations', 'targeting', 'facts', 'distresses', 'plenty', 'crab', 'respect', 'deadline', 'tollis', 'liberty', 'chambers', 'speakers', 'talley', 'mahal', 'greatness', 'andreas', '2001', 'fabio', 'outer', 'moving', 'alhaznawi', 'dear', 'leon.branom@enron.com', '1.5', 'nationalities', \"wife's\", 'covey', 'selective', 'quit', 'supersonic', 'elizabeth', 'another', 'tanglewood', 'postponement', 'judging', 'resume', 'expulsion', 'cuts', '1%p701!.doc', 'heads', 'industrialist', '2.00', '1560', 'desperately', 'jug', 'suspect', 'earrings', 'nang', 'appreciate', 'time', 'comb', '77042-2016', 'podium', 'workshop', 'tub', 'employed', 'loudly', 'caucus', 'hawaii', 'railways', 'megapixel', 'lookout', 'asiaweek', 'pointless', 'strike', '18:20', 'blank', 'takes', 'heritage', 'flashy', '!', 'brainwashed', '13279', 'puerto', 'rolled', 'scotsman', 'considered', 'insecure', '----', 'argued', 'need', 'norwegians', 'ass', '0308.doc', 'alma', 'memos', 'keep', 'bockius', 'surgically', 'non-approved', 'dpa', 'resubstantiation', 'articles', 'perez', 'dominate', 'ease', 'speeches', 'painful', 'musician', 'crawfish', 'crafting', 'chronicle', 'whiteboard', \"ya'll\", 'europass', 'washes', 'aksa', 'cakes', 'i.b.', '20001', 'slats', 'probation', 'unbelievably', 'relationships', 'tea', 'jaws', 'creating', 'auto', 'atrocities', \"variety's\", 'intractable', 'penetrated', 'dissipation', 'faithfully', '.....................', 'obesity', 'cooler', 'swear', 'mirror', '60s', 'belgian', 'worthless', 'toward', 'masters', 'dispute', 'budgeted', 'photos', 'microsystems', 'trainable', 'b/t', 'beneficial', 'provision', 'dominated', 'kitty', 'embarrass', 'fastest', 'dislike', 'guns', 'lasts', 'bunch', 'justification', 'weakest', 'substantially', 'kingdom', 'limp', 'operations', 'goodness', 'virility', 'mash', \"utilities'\", 'unturned', 'embassy', 'mellon', 'battlefield', 'armament', 'single', '713-853-1696', 'superpower', \"pete's\", 'disposable', 'agreements', 'genocide', '2000', 'valentines', 'line', '11:32', '04:49', 'cute', 'sanctioned', 't1', 'proceeded', 'announcement', 'unavoidable', 'attest', 'possibility', 'oak', 'match', 'forster', 'written', 'learned', 'relatives', 'places', 'appy', 'rodents', 'hat', 'republics', 'practicing', 'alternate', 'shift', 'approaches', 'revenues', \"cookin'\", 'depression', \"pakistan's\", '05', 'defining', 'industrial', 'unexpected', 'filtered', 'separation', 'relocating', 'harp', 'epi', 'unbearable', 'asians', 'phantom', 'mansour', '1969', 'wildlife', 'sternly', 'over', 'democratically', 'shanna', 'http://www.calguard.ca.gov/ia/chernobyl-15%20years.htm', 'considerably', 'unreachable', 'services', 'tsunami', 'assume', '1400', 'metro', 'http://www.newsday.com/news/opinion/ny-vpnasa054135614feb05,0,5979821.story?coll=ny-editorials-headlines', 'texts', 'sms', 'scenery', 'clicker', 'revising', 'cass', 'unsuccessful', '1381', \"reporter's\", 'patterns', '50', 'press', 'tributaries', 'hype', 'bar', 'johnson@enron', 'passion', 'operandi', 'contents', 'teachers', 'jealous', 'soaring', 'drink', 'miami', 'classical', 'serving', 'being', 'beautiful', 'prisoner', 'meantime', 'wont', 'thinset', 'pls', '1300', 'men', 'existent', 'evening', 'toying', 'beg', 'liner', '2008', 'oliver', 'abroad', 'tacos', '202.637.4781', 'maine', 'tori', 'bernard', 'khan', 'zoo', 'ignorant', \"designers'\", '3:29', 'reilly', 'posterity', 'yahoo', 'amore', \"stuart's\", 'foulkesstraat', 'molding', 'trailer', 'defunct', 'lunch', 'definitions', 'nalapat', 'panama', 'rosemont', 'sergeant', 'relationship', 'marketing', 'colin', 'toyota', '2009', 'expositions', 'peacekeeping', 'homosexuality', 'despotism', 'baathists', 'seed', 'canned', 'avenue', 'printers', 'govt', 'pervaiz', 'que.', 'radios', 'panes', 'exploded', 'cup', 'asked', 'splitting', 'toilet', '12:01', 'matrix', 'rideable', 'unhealthy', 'itinerary', \"country's\", 'rescheduled', 'apathetic', 'statewide', 'firms', '665', 'brakes', \"npr's\", 'ignored', 'taiwanese', 'surv', '1562', 'thrilled', 'communications', 'radiographs', 'transcendental', 'enfurates', 'substituted', \"program's\", 'mix', 'congregation', 'cruises', 'geographical', 'joking', 'watering', 'nam', 'resigned', 'workshops', 'kidnapping', 'dregs', \"dad's\", 'utilitarianism', 'fathers', 'islamiya', 'raleigh', 'tactic', 'bazar', 'lighting', 'continuing', 'ruined', 'hot', '16th', 'six', 'organizations', \"today's\", 'armogida', 'shucks', 'viable', 'lines', 'dogs', 'sentiment', 'audience', 'potty', 'torn', 'rights', 'dresser', 'topics', 'mailing', 'proliferated', 'deliciously', 'fridays', 'opportunity', 'strategic', 'dozen', 'parts', 'fisheries', 'contained', 'check', 'panel', 'accommodate', 'msnbc', 'beneficent', 'anti-israeli', 'bureaucratically', 'constitute', 'nonbondad', 'chosen', 'starts', 'plummet', 'haven', '1,922,000', 'cluster', 'concluding', 'stripes', 'youthful', 'timeframes', 'internet', 'attempt', 'flakes', 'v02', '1st', 'convict', 'touting', 'platforms', 'skeptical', 'sr.', 'juego', 'pashtuns', 'un', 'sessions', 'blacklined', \"house's\", 'legit', 'python', 'furnaces', 'newspapers', 'giraffe', 'ds', 'playstation', 'tomatos', 'juggling', 'analyses', 'cents', 'dr.', 'bull', 'nile', 'bloke', 'richmond', 'economist', 'sun.', 'got', 'stop', 'southern', 'semi-automatic', 'dating', 'disappearance', 'interviewer', 'relating', 'territorial', 'surley', 'lunatics', 'adequate', 'swearing', 'sandi', 'envy', 'collusion', 'gaming', 'absurdity', 'boots', 'hourly', 'exposed', 'ton', 'gw', '430', 'tropical', 'majestic', 'surprising', 'caloy', 'a&e', 'libyan', 'screwed', 'eager', 'slovenia', 'mtm', 'alumni', '85', 'bland', 'desperation', 'manufacture', '08/03/2000', 'suggests', 'ge', 'panicking', 'crack', 'gathering', '20,000', 'overpriced', 'terms', 'adjustments', 'affect', \"monday's\", 'represented', 'addiction', 'schedule', 'lymphoma', 'belongs', 'rotorua', 'taffy', 'comforts', 'glasses', 'cycles', 'subsides', 'accent', 'http://www.radianz.com', 'reflection', 'emminence', 'thu', 'competing', 'researching', 'gem', 'definitive', 'chilling', '315-460-3344', 'modeling', 'brainstorm', 'unzipped', 'booth', 'sub-division', 'implementing', 'colourful', 'underwear', 'he', 'rinascimento', 'episode', 'hissy', 'invented', 'weekday', 'gerald', 'clothing', \"relative's\", 'ihop', 'wantons', 'distort', 'admittedly', 'console', 'cascades', 'fond', 'trickle', 'brainwashing', 'ani', 'lable', 'dillards', 'prosecutors', 'http://www.squidoo.com/nook-tablet', '09:14', 'motley', 'debtors', 'jewelry', 'mukhabarat', 'frankly', 'holding', 'chef', 'billiards', 'superintendant', 'minimal', 'mid-20s', 'husband', 'receptive', 'orla', 'sicilian', 'dragons', 'tonight', 'rows', 'rampant', 'measures', 'refunds', 'genders', '3067', '750,000', 'mpg', 'compatible', 'stuttering', 'wolak', 'hegemonic', 'wakes', 'attorney', 'bna', 'islam', 'adjustment', 'terminal', 'mechanicly', 'timely', 'staple', '12:03', 'stepping', 'sudan', 'dusted', 'missed', 'lobbed', 'vol.', 'assurance', 'scallops', 'wayne', 'chandrika', 'scream', 'keeney', 'inalienable', 'crowds', 'baghdadis', 'lied', 'sikkim', '100', 'anemic', 'prefer', 'eurasia', 'maulana', 'cookie', 'serivce', 'defense', 'crete', 'aperture', 'distributed', '!!!!!!', 'barns', 'comparing', 'coup', 'wheeler', 'organisation', 'laws', 'a.k.a.', 'sinhalese', 'npr', 'read', 'nothing', 'query', 'salvage', 'kindle', 'flea', 'irritation', 'xferring', 'rina', 'thanks', '3,200', 'humming', 'namaskar', 'ohio', 'adherent', 'retain', 'overs', 'pullers', 'urinary', 'search', 'primitive', 'cash', 'sus', '-------------------', 'enclosure', '4.7', '10:40', 'linda', 'mission', 'frighten', \"reagan's\", 'inc', 'discrediting', 'settle', 'opposite', 'finish', 'james', 'severin', 'quick', 'fray', 'leslie', 'dorsey@enron_development', 'strambler', 'sahaf', '...............', 'slapped', 'claimed', 'priest', 'explore', 'guards', 'videos', 'too', \"tablet's\", 'offend', 'baffin', 'rac', 'insider', 'dismay', 'hardliners', 'racial', 'ubs', 'roles', 'mysteries', 'fe', '345-9945', '3d', 'marine', 'smail', 'wiring', 'proceed', 'cannibals', '**', '2050', \"bremmer's\", 'listening', 'toda', 'privacy', 'prostitute', 'persian', 'trades', 'blindness', 'valiant', 'rgds', 'ny', 'updated', '713-793-1429', 'dick', 'bottles', 'coalition', 'lifting', 'dated', 'croke', 'hung', 'country', 'frothing', 'uk', 'travels', 'c&ic', 'cruelty', 'rescue', 'cuticles', 'marks', 'suffering', '853-7557', 'bible', 'tonnage', 'meeting', 'durability', 'have', 'sce', 'mimosas', 'coding', 'batter', 'shaped', '860-665-2368', 'pushing', 'ms.', 'admiration', 'reasons', 'rp', \"founder's\", 'guided', 'letters', 'fell', 'mare', 'nasa', 'sprang', 'to', 'charleston', 'tho', 'unpleasantly', 'ld2d-#69377-1.xls', 'thx', 'forest', 'periodizing', 'stardom', 'structured', 'umm', 'melodramatic', 'thinks', '3:15', 'drunkest', 'cabins', 'mud', 'producers', 'puppies', 'guaranty', 'admissions', 'desert', 'lysa', '264', 'observation', 'kingel', 'kenny', 'full', 'w/out', \"47's\", 'juicy', 'galleryfurniture.com', 'ocnversation', 'stand', 'media', 'philippines', 'implicated', 'facing', '01:35', '859-7187', 'firm', '4th', 'ripped', 'bring', 'develop', 'braque', 'adw', 'lepore', 'viewpoints', 'conclusion', 'cotillion', 'singer', 'cuddly', 'edt', 'warehouse', 'detailed', 'beatle', 'perceiving', 'predicted', 'eastgardens', 'necessary', 'fault', 'shepherd', 'lightest', 'propelled', 'tap', 'misrepresent', 'technician', '.???', 'consequence', 'searching', 'agency', 'cynangon', 'disenfranchised', 'cottonwoods', 'losing', 'valdes', 'understaffing', 'fisher', 'sacks', 'seo', 'familia', 'mandros', 'lake', 'types', 'crayola', 'shrapnel', 'avant', 'shemin', 'reluctant', 'cab', 'hyatt', 'buring', '+++++', 'possibilities', 'stupidity', 'parked', \"coldn't\", 'assessment', 'http://www.country-couples.co.uk/datingtips/basic-travel-allowance-bta-dating-scam/', 'assuage', 'rinsed', '62,500', 'succinctly', 'mine', 'vent', 'roughhouse', 'remote', ':', '411507', 'limbo', 'udcs', 'ineffective', 'prestigious', 'sir', 'held', 'sierra', 'anyway', 'factory', '...?!!!', '01/19/2001', 'demonstration', 'nelson', 'approx', 'quizzing', 'inoperable', \"iris'\", '12:12', 'powerhead', 'filter', 'scruff', 'despite', \"woudn't\", 'vera', 'residual', '0832', 'apparent', '1179', 'envoy', 'halts', 'youre', 'mollifying', 'windermere', 'army', 'pitch', 'wife', 'harder', 'southeast', 'compose', 'upheaval', '1551', 'haley', 'processor', 'rape', 'networking', 'reinvestment', 'thousand', 'gare', 'surpassing', 'beth', 'musical', \"they're\", 'p&l', 'michael.mcdermott@spectrongroup.com', 'happened', 'abused', 'infocus', 'sara', 'permits', 'sneak', 'stars', 'deeper', 'kidnapped', 'repition', 'amazes', 'jenkins', 'tile', 'ellis', 'browse', 'dove', 'patties', \"you're\", 'texture', 'xf', 'black', 'operational', 'bradley', 'mutilated', 'troops', 'heart', 'logic', 'budget', 'cape', '8', 'pot', 'shu', 'thumpstar', 'subterfuge', 'brokered', 'cleaners', 'behari', '11/29/00', 'orchestra', '3.75', 'newest', \"stephanie's\", 'sending', 'shia', 'dull', 'derived', 'eight', 'nowadays', 'passed', 'ei', 'reproduce', 'five', 'greenspan', 'coop', 'leicester', \"e500's\", 'defined', 'failing', 'docs', 'mediocre', 'supercuts', 'worse', 'jets', 'bridget', 'links', \"club's\", 'president', 'alexandria', 'gcp_london', 'rome', 'trends', 'submarines', 'entertained', 'weaken', 'multiplex', 'sicily', 'michel', 'voters', 'organisations', 'mourning', 'indices', 'petrarch', \"global's\", 'twinkies', 'yeah', '06:05', 'telephone', '1550', 'denote', 'outlines', 'calculating', 'cafeteria', 'vessel', 'purposely', 'count', 'thawed', 'hunter', 'complexes', 'optical', 'uncontaminated', 'focus', \"won't\", 'START', 'h', 'bunker', 'philipines', 'analysis', 'meira', 'tripped', 'nonjudgmental', 'bedroom', 'francis', 'afternoon', 'attorneys', 'manoeuvre', 'halls', 'renegotiation', 'judged', 'marginalized', 'relative', 'allah', 'includes', 'power', 'gillman', 'differing', 'surgeon', 'kills', 'lashed', 'delicious', 'holes', 'lasted', 'infiltrate', 'terrorist', 'substantive', 'uneasiness', 'behavior', 'archibald', 'elena', 'thief', 'division', 'furthermore', 'butt', 'weight', 'worthwhile', 'forecast', \"70's\", 'non-violent', 'preferences', 'faction', 'disrupt', 'incomplete', '620-294-4000', 'colours', 'http://www.ebay.co.uk/itm/250927098564?var=550057729382&sspagename=strk:mewax:it&_trksid=p3984.m1438.l2649#ht_2079wt_893', '11:35', 'no', 'analysis_0712', 'ap', 'goonewardena', 'fixing', 'invitation', \"kumaratunga's\", 'nicely', 'stealing', 'undergraduate', 'luxury', 'theirs', 'squeege', 'fairly', '1647', 'generalizations', 'legalised', 'enthusiasm', 'denied', 'gore', 'bang', 'armature', 'honestly', 'eyedropper', 'kueck', 'prompting', 'named', 'traveled', 'anyhow', 'tan', 'unfortunalty', 'distances', 'restricted', 'unreported', 'trouble', 'veritable', 'chumley', '70', 'pg&e', 'mp3', 'insured', 'boost', 'offs', 'hoists', 'id', 'bdr', 'caroline', '04:06:52', 'protests', 'availed', 'ai', 'elections', 'coordinator', 'fillmore', 'grimm', 'expertly', 'papeluna', 'admitting', 'hummus', 'curfew', 'haste', 'jumping', 'abuse', 'immense', 'training', 'superiors', 'thrive', 'waitstaff', 'febuary', 'participant', 'find', 'lay', 'homey', 'ranks', 'discovered', 'juice', 'haishen', 'golan', 'speak', 'thermometer', 'cracker', 'exhibit', 'spacewalks', 'complain', '0000108806', 'favorite', 'visibility', 'instance', 'thought', 'darker', 'chester', 'purge', 'represents', 'lanka', 'wandering', \"liberty's\", 'moto', 'del', 'attached', 'depot', 'receive', 'overlooked', '366', 'fellows', 'streams', 'piccadilly', 'rank', 'chalked', 'remark', 'alta', 'opted', 'acutely', 'backpedalling', 'herpes', 'crippled', 'crepes', \"organism's\", 'commissioned', 'http://www.loveallpeople.org/theonereasonwhy.html', 'puppets', 'ayman', 'compassion', 'landscape', 'indivero', 'abstaining', 'interviews', 'contradict', 'shooting', 'leaks', 'acidity', 'fiscal', '92842', 'gay', 'graze', 'displaced', 'libro', 'wash', '11/8/2000', 'singular', 'hoodie', 'jason.leopold@dowjones.com', 'spots', 'wobblers', 'days', 'implications', 'width', 'mouse', \"patterson's\", 'halliburton', 'http://www.canadavisa.com/canadian-immigration-faq-skilled-workers.html', 'hyperbolic', \"radio's\", 'wholly', 'slides', 'urgent', 'trademark', 'torturing', 'declined', 'realities', 'semifreddo', 'failures', 'formally', '362416', '6.5', 'capital', 'signac', 'parisians', 'adds', 'soviet', 'degenerate', 'potter', 'percell', 'emotions', 'judges', 'roms', 'quarterly', 'fever', 'tolerant', 'hostilities', 'listings', 'rampaged', 'article', 'product', 'climber', 'breathe', 'stumping', 'return', 'illness', 'thread', 'ss-n-22', 'temples', '979', 'god', 'others', 'http://www.nsrl.ttu.edu/chernobyl/wildlifepreserve.htm', 'sour', 'muslim', 'fixed', 'argentina', 'developer', 'http://dianacamera.com', 'balochistan', 'abundantly', 'liquidation', 'eastern', 'responses', 'during', 'currently', 'converter', 'slots', 'flustered', 'videotape', 'pressure', 'pull', 'turmoil', '03:51', 'libra', 'hawk', 'showcase', 'field', 'outshone', 'metals', 'flourish', 'jurisdiction', 'conscience', 'indiscriminately', \"town's\", 'comfort', 'sinnel', 'discounted', 'surprise', 'termination', 'sacred', 'addition', '47,500', 'dressed', 'overlook', 'researchers', 'there', 'boot', 'promoted', 'victor', 'promotional', 'reap', 'gravity', 'nagged', 'horton@enron', 'correlation', 'ferrari', 'killed', 'slaves', 'consult', 'anyways', 'ami', 'http://www.wyndham.com/washington_dc/default.cfm', 'tue.', 'mechanic', 'catalogue', 'hit', '60,008', 'beers', 'pumping', 'salon', 'calculated', 'sold', 'mark', 'hindsight', 'eighties', 'mtle', 'http://judiciary.senate.gov/testimony.cfm?id=1725&wit_id=4905', 'kennebunkport', 'glaring', 'http://www.cic.gc.ca/english/index.asp', 'collage', 'overtopped', 'olds', 'junk', 'stick', '=)', \"'m\", 'hint', \"hussein's\", 'crews', 'campsite', 'stature', 'awaited', 'puppy', 'irony', 'released', 'uofh', '1998', 'bragging', 'defendant', '02:28', 'format', 'referred', 'spoon', 'grinned', \"allawi's\", 'grills', 'average', 'bodyworker', 'secretly', 'exposure', 'multimillions', \"wednesday's\", 'unconcious', 'tested', 'rainbow', 'international', 'meticulous', 'prudent', 'cucumbers', 'georgia', 'negotiated', 'child', 'introduction', 'leaning', 'population', '713/853-5984', 'annoying', '415', 'friend', 'letter', 'judicial', 'legally', 'dunn', 'wolfowitz', 'revive', \"i',\", 'loads', 'quickly', \"l'espalier\", 'shackleton', 'ethnically', 'simultaneous', 'and', 'upset', 'concrete', 'legislature', 'rot', 'why', 'garcia@enron', '10:52', 'weekly', 'awaiting', 'flooring', 'diablo', 'doubts', 'ruhollah', 'moyross', 'dilute', 'discrimination', 'seeing', '.04', 'environmentalists', 'monotonous', 'tikrit', '0nside', 'co-signing', 'items', 'traitors', 'revolt', 'russ', 'stanford', 'stretching', '04', 'whereas', 'pouring', 'widest', 'ported', 'phonne', 'finding', 'kaminski@ect', 'wordy', 'elses', 'partially', 'prudish', 'looming', 'girl', 'warmonger', 'rebirth', 'locations', 'engage', 'gotta', 'candies', 'crosse', 'challenged', 'vassar', 'year', 'moderate', 'circulatory', 'ozs', 'bolivar', 'apprentice', 'initiate', 'wild', 'leakage', 'where-ever', 'catapult', 'suggest', 'patricia', 'choice', 'islands', 'elsewise', 'uzbekistan', 'conversos', 'travelled', 'deluded', 'answetred', 'mold', 'freedom', 'tooling', 'd', 'dealbench', 'renton', 'moore', 'unpleasant', 'phoebe', \"marketers'\", 'severly', 'litterbox', 'arthritis', 'unless', 'compares', 'guaranteeing', 'rapid', 'e.', '1.8', 'reaped', 'panko', 'feature', 'democrat', '2:30', 'cooking', 'useless', 'refugee', 'unforgivable', 'does', 'people', 'reporter', \"elena's\", 'deregulate', ';-)', 'cester', 'rabid', 'default', '02:17', 'mytouch', 'branford', 'trio', 'c.dtf', 'examples', 'fehl', 'governs', 'chrysler', 'typos', 'matters', 'enjoyment', 'penalty', 'jamaica', '1978', 'http://www.infoukes.com/history/chornobyl/elg/', 'topic', '3611', '181', 'dthat', 'westfield', 'blur', 'ruy', 'montrouge', 'investigation', \"janell's\", 'discouraged', 'palm', 'purported', 'portland', 'artistic', 'besides', 'inevitably', 'into', 'ressam', 'bhatia', 'o&m', 'http://www.unitaryexecutive.net', 'insulation', 'shirt', 'settings', 'friar', 'photoscape', 'amendment', 'food', 'emperors', 'clamps', 'purchasing', 'dope', 'workable', 'completing', 'weirder', 'evacuate', '1.800.233.1234', 'ailments', 'evidently', \"hadn't\", 'popular', 'shorty', 'mice', 'publisher', 'righter', 'kido', 'microcomputer', 'preached', 'kill', 'emails', \"aren't\", 'dust', 'whether', 'dreams', 'madam', 'faris', 'testified', '884', 'cork', 'oriented', 'spooky', 'engineer', 'abstain', 'remedies', 'gelceuticals', 'packages', '281-518-9526', 'lab', 'http://www.equinecaninefeline.com/catalog/mamble-hamster-narrow-100cm-cage-p-12642.html', 'mother', 'condo', 'pitched', 'immensely', \"c'm\", 'submerged', 'luis', 'brumation', 'county', 'campaigning', \"you'd\", 'electrical', 'sci', 'madrasas', 'undecided', 'hcc', '02:42', 'signs', 'l.i.t', \"'02\", 'creekside', 'heres', '03:58', \"ba'athists\", 'fury', 'feb', 'minkin', 'dh', 'succumbed', 'flourished', 'screem', 'wanna', 'arco', 'room', 'extermination', 'alarms', 'apply', '11:45', 'reproductive', 'ammount', 'reputable', 'comfyy', 'lies', 'racking', '1920s', 'entrance', 'bonded', 'clerics', 'confirmations', 'wrapping', '01:04', 'abuses', 'spa', 'stress', 'universities', 'guaranties', 'marino', 'religion', 'modest', 'defaults', 'bateman', 'lighten', 'onboard', '973-3634', 'substance', 'photographers', 'supporter', 'tenet', 'ultrasonic', 'instinct', 'paradoxically', 'windsheild', 'premium', 'skittish', '01:14', 'lists', 'conditioning', 'truly', 'internal', 'compensation', 'crushed', 'output', 'wheels', 'kissed', 'polluting', 'urinals', 'supported', 'religiously', 'mouths', '12.46', 'punishment', '4:30', 'conservationists', 'melded', 'hammie', 'clue', 'tactics', 'able', 'presid...@whitehouse.gov', 'don', 'till', 'planeloads', 'raging', 'exotic', 'deserves', 'gains', 'install', 'effective', 'cal', '20', 'snowstorm', 'essex', '540,000', 'mohawk', 'contrary', 'narrowed', 'http://www.tecsoc.org/pubs/history/2002/apr26.htm', 'assertions', 'brunt', 'utter', 'secured', 'dishonest', \"steffes'\", 'hamas', 'landlocked', 'flowered', 'ahmed', \"god's\", 'signatories', 'pushy', 'than', 'localized', '175', 'sherri', 'cows', 'booked', 'outfitting', 'radiation', 'munching', 'seeks', 'acknowledged', 'depicts', 'stepped', 'metroplex', 'r', 'audiotape', 'provocation', 'tasks', 'twante', 'draped', 'formula', 'garibaldi', 'society', 'divorced', 'lights', 'digs', 'proxy', 'manhunt', 'intuition', 'supposedly', 'dress', '==', 'disciplines', 'graphic', 'huh', 'visual', 'costumes', 'regreted', 'understand', 'win', 'packets', 'assailant', 'untrue', 'data', 'newly', 'realists', 'verify', 'enhanced', 'angeles', 'ports', 'success', 'sure', 'pretended', 'reuters', 'fei', 'surpassed', 'kia', 'unloading', 'profound', 'suitcases', 'ariel', 'southeastern', 'usd', 'generals', 'aggravation', 'police', 'prayer', 'babalon', 'senatorial', 'supervised', '113', 'upper', 'ram', 'sempra', '202.582.1234', '09:01', 'titts', 'http://www.utrechtart.com/craft-supplies/woodworking%20supplies/', 'outlet', '11/30/2000', 'saem_aero', 'fanfuckingtastic', 'col.', 'blumenfeld', 'dan', \"aa's\", 'ipn', 'forsyth', 'inquisitive', '09:40', 'starters', 'solas', 'sice', 'plane', 'exploding', 'kilometres', 'ordinarily', 'madea', 'squirm', 'delvery', 'annotated', 'older', 'teething', 'pompey', 'breeding', 'payers', 'architectural', 'bands', 'http://www.playatmcd.com/en-us/main/gameboard', 'gon', 'trotting', 'di', 'annexed', 'realizing', 'bees', 'philipinos', 'israel', '\"\"', 'airline', 'non-moslem', 'hopes', 'library', 'valet', 'engine', 'irrelevant', 'governments', 'nervous', 'gtcs', 'untreated', 'jeans', 'hr', 'dentist', 'sidelines', 'combined', 'francisco.pinto.leite@enron.com', 'shredded', 'tis', 'hariri', \"i'd\", 'batch', 'drop', '11.5', 'listed', 'many', 'sort', 'thames', 'at', 'pouch', 'suffered', 'hysterical', 'correspondence', 'periodically', 'countertop', 'travelling', 'cooled', 'chocolate', '619-231-9449', 'puffing', 'loud', 'fx', 'briggs', 'am', 'prevent', 'bj', '17:32', 'northeastern', 'permit', 'sovereignty', 'song', 'ksm', 'directorate', 'analytical', 'inquiry', 'uv', 'occupied', 'comply', 'earmuffs', '1993', '-', 'they', 'scammer', 'dux', 'responsibilities', 'industry', '3/9/00', '???', 'elevated', 'kuykendall', 'riders', 'pressed', 'sided', 'dropped', 'willie', 'you-ll', 'stuff', 'biting', 'parmigiana', 'lorie', 'libel', 'outnumber', 'finds', '18t', 'we', 'brink', 'foreground', 'magnetic', 'crust', '10:44', 'repaired', 'cache', 'promised', '30th', 'sleeves', 'styrofoam', 'jeep', 'chandelier', 'bedding', 'hull', 'sanders', 'riding', 'sometime', 'confirmation', 'primaries', 'chasing', 'frosting', 'mines', 'morph', 'candidate', 'reaffirmation', 'likely', '12/27', 'fistfights', \"''\", 'proprietary', '646-8420', 'childrens', 'todd', '04:31', \"platt's\", 'noone', 'liberties', 'alaskan', 'unpopular', 'blackworms', 'soil', 'beijing', 'amiriya', 'sushi', 'contributes', 'seller', \"parties'\", 'greed', 'lift', 'grrrrrrrreeeaaat', 'boats', 'tax', 'oppressive', 'rectified', 'embarrassment', 'diarrhea', 'laundromats', 'causing', 'typical', 'mvb', 'arabic', 'france', 'extension', 'guardians', 'sofa', 'rto', 'leisure', '1:00', 'x35172', 'steps', \"didn't\", 'risking', 'come', 'mach', 'skies', 'noisy', 'shaft', 'connecticut', 'rated', 'hui', 'route', 'misstated', 'stylists', 'otc', 'hav', 'mcconnell@ect', 'dries', 'saga', 'itll', 'gracee', 'buddakan', 'feathers', 'cop', \"dj's\", 'collapsed', 'mad', 're-schedule', 'un-ruly', 'fallujah', 'gained', 'p', 'muscle', 'monitor', 'non-compete', 'html', 'partners', \"syria's\", 'driveway', 'mooney', 'graduating', 'adopted', 'district', 'ensure', 'amanda', 'haha', 'austria', 'longer', 'excited', 'mogadishu', 'symbols', 'mexico', 'eccl', 'favorites', 'subscription', 'cone', 'featured', 'native', 'tamed', 'privilege', 'arnold', 'solar', 'theres', 'referrals', 'reball', 'inspected', 'warwickshire', 'couch', 'door', 'chess', \"martin's\", 'meiko', 'puct', 'invitees', 'overstay', 'caps', '48', 'divined', 'tagesthemen', 'suppressed', '04:52', \"sear's\", 'alcohol', 'filipino', 'thin', 'boulder', 'tales', 'do', 'w.a.b.b.y', 'inserts', 'cheaply', 'storm', 'serpent', 'yahoos', 'barrels', 'owns', 'behold', '01:02', 'kuwait', 'intercepted', 'illustrated', 'arena', 'stroke', 'interesting', 'guard', 'born', 'phd', 'grandsons', 'jeffrey', 'commissioners', 'anti-american', 'odd', \"hobbes'\", 'million', 'matter', 'inquired', 'signoffs', 'where', 'if', '1989', 'dyspepsia', 'coerce', 'believed', 'begins', 'booking', 'aries', 'harpoon', 'spring', 'cycling', 'execution', 'journalists', 'tumor', 'murders', 'diapers', 'conflicts', 'darius', 'tattoo', 'mb', 'wholesome', 'amid', 'resounding', 'jehad', 'existing', 'prosecution', 'ideological', 'fiona', 'tours', 'mon.', 'meraux', 'atty', 'receiver', '01/12/2001', 'bid', 'document', 'hopelessness', 'out', 'outbreaks', 'pursue', 'dream', 'nineteenth', 'netmeeting', 'encased', 'recent', 'appliance', 'theyre', 'left', 'description', 'hilton', 'pedantry', 'ventures', 'bun', 'unlikely', 'astonished', 'prayers', 'indonesia', 'l.', 'stadiums', 'eatables', 'repeat', 'troubles', 'restored', 'wildland', 'flatfish', 'resulting', 'dirt', 'waiter', 'anticipate', 'nachos', 'perfumes', 'couldnt', 'yet', 'preventing', 'beatles', 'shark', 'curr', '????', 'sitting', 'learns', 'trenerry', 'infinite', 'looking', 'boarding', 'inconsiderate', 'amrullah', 'scrummy', 'walkin', 'exchange', 'relief', 'levitt', 'predominantly', 'picture', '25th', 'bilboa', 'eis', 'pixel', 'resell', 'person', 'meaning', 'attributed', 'persuade', 'level', 'step', '03:15', 'cannot', 'bn', 'root', 'awesome', 'sliver', 'compaq', 'hanging', 'karzai', 'favourite', 'technique', 'tzu', 'defrosted', 'tough', \"tuesday's\", 'alone', 'earthquake', 'heather', 'declarations', 'leads', 'simple', 'cowboy', 'quad', 'eelam', 'mathematical', 'contracted', 'call', 'book', 'cintra', 'appetizing', 'jennifer', 'deputy', \"computer's\", 'billiard', 'forgotten', 'coogan', '07/18/2000', 'retake', 'northern', 'translated', 'mkm', 'downs', 'ramtanu', 'revived', 'rooting', 'vomit', 'pairs', '34.6', 'official', 'jerusalem', 'drew', '1775', 'subjected', 'butterfly', 'trauma', 'beast', 'cabin', 'rover', 'orbiting', 'namsan', 'insulting', 'borenstein', 'infuse', 'uhh', 'lessons', 'schott', 'files', 'uses', '1.024', '1590', 'ray', 'lawyers', '150301', 'islamists', 'rolling', 'wears', 'personable', \"bear's\", 'command', 'realistic', 'kosher', 'counterattacked', 'golden', '1,000', 'marked', 'hurling', 'setups', 'serve', 'dial', 'moorland', 'firmly', 'reschedule', 'bait', 'hardness', 'shrewdness', 'screw', 'purse', 'bd', 'henley', 'wontons', 'hickory', 'frank', 'statement', 'barren', '512', 'lynch', 'mutilation', 'radiantly', 'ye$', \"state's\", 'centralize', 'migrates', 'aplocheilus', 'breathing', 'landing', 'neither', '700', '02:39:27', 'arab', 'hailstorm', '5.87', 'turns', 'picked', 'postage', '21', 'mmc', 'dangers', 'proficient', 'libya', 'savier', 'paragraph', 'aires', 'grocerys', 'tentative', 'chiara', 'coincidental', 'swept', 'waited', 'turkistan', 'regroup', 'salatim', 'airport', 'scammers', 'expectancy', 'norma', 'swiffer', 'tasting', 'essie', 'pentagon', '06:20', 'huston', '5107', 'aubrey', 'increasing', 'screening', 'rosette', 'fostering', 'across', 'ethics', 'area', 'domains', 'coordination', 'flex', 'okay', '***', 'tighter', 'temporary', 'hh', 'cm', 'recently', 'metering', 'citygate', '1/30/10', 'them', 'indo', 'afshari', 'brigade', 'plants', 'ppi', 'grim', 'larger', 'laser', 'attracted', 'shindand', 'bullfights', 'inclined', \"o'rourke\", 'betrayed', 'troubled', 'normal', 'retaking', 'listeners', '3rd', 'squeezed', 'hostages', 'intimidating', 'witness', 'stationery', 'texan', 'imposingly', 'diet', 'refer', '5:00', 'first', 'humble', 'punctuation', 'confirming', 'coach', 'encircle', 'meagan', 'usually', 'hotpot', 'canon', 'requirements', 'obtuse', 'shirtsleeves', 'slide', 'contractor', 'pure', 'merge', 'designers', 'late', '77541', 'savannah', 'intervening', 'jacob', 'appointed', 'cordially', 'contain', 'caused', 'http://www.oneworld.org/index_oc/issue196/byckau.html', 'metal', 'yelled', 'wonder', 'scottish', 'surveillance', 'rooms', '1984', 'engineers', 'faster', 'dallas', 'aftershocks', 'kalkat', \"tigers'\", 'beseech', 'jackets', 'laos', 'hacking', '3/8/00', 'unitary', 'gravel', 'junlong', 'latte', 'seal', 'ps3', 'assets', 'onshore', 'desires', 'liwei', \"tw's\", 'battered', 'pjm', 'norway', 'effects', 'landfall', 'p.o.', '350,000', 'retreat', 'harbour', 'robust', 'jantar', 'panics', 'chats', 'philadelphia', 'ummmm', 'feelings', 'clinton', 'katrina', 'influenced', 'crapfest', 'major', 'incurred', 'otago', 'reachable', 'grandeur', 'lesser', '03/21/2001', 'bloodying', 'chipotle', 'directing', 'peanuts', '1983', 'approachable', 'spree', 'bahamas', 'mauling', 'embedded', 'similarities', 'planned', 'arabiya', 'hookers', 'homeland', 'digest', 'questioning', 'min', 'unconsumables', 'laboratory', 'facilitated', 'scored', 'jui', 'deacon', \"rahman's\", 'overcharges', 'sunjay', '!!!.', '11/28/2000', 'reassured', 'non-hodgkin', 'resolution', 'exporter', '31', 'slum', 'general', 'thei', 'camper', 'greendale', '12.45', 'knocks', 'grants', 'ages', 'replaced', 'relay', 'car', 'turkish', 'collar', 'followup', 'advert', 'objection', 'speeding', 'convert', '03:43', 'subpar', \"industry's\", 'umbrella', 'chao', 'patron', 'sox', 'therapy', 'toothache', 'allard', 'packaged', 'http://haas.berkeley.edu/~borenste', 'phillies', 'enquiry', 'ago', 'spent', 'nhut', 'qadoos', 'barno', 'rubbish', 'aspirin', 'frustration', '2500', '06/04/01', 'miscreants', 'materials', 'omfg', 'nationalists', 'robin', 'magnet', 'condoleeza', 'http://www.csmonitor.com/2006/0509/p02s01-ussc.html?s=t5', 'means', 'tolerating', 'nearby', 'sheets', 'expand', 'feeds', 'radison', 'neglected', 'observes', 'unclear', 'notional', 'desisted', '200,000', 'adopt', 'quote', 'pm', 'permeate', 'programmed', 'http://www.compaq.com/products/notebooks/index.html', 'mousse', 'lifeguard', 'sinking', '1774', 'vaunted', 'small', 'struggling', 'worry', 'armored', 'troubling', 'methods', 'conquered', 'backup', 'sherrar', 'uvb', 'grabbing', 'attractions', 'dividing', 'canan', 'ivan', 'nancy', 'shot', 'willing', 'gpa', 'night', 'heyday', 'catagory', '102', 'ranging', 'inhabited', 'broader', 'electrostatic', '1579', 'taiwan', 'oilfield', 'cut', 'asbestos', 'naturalisation', 'merger', 'generic', 'embarrased', 'drivers', 'acronym', 'happiness', 'historians', 'comments', 'approximately', 'cftc', 'parental', 'projects', 'grades', 'functioning', 'loved', 'johnette', 'olbina', 'fo', 'daughter', 'christopher', 'minerals', 'sculpture', 'discouraging', 'globalflash', 'malaysian', 'woud', 'chat', 'rays', 'signers', 'longest', 'critters', 'stakes', 'claim', 'blizzard', 'dip', 'resorted', 'chances', 'connections', 'arancini', 'reflector', \"ksm's\", 'subscribe', 'respectable', '9866', 'fossum', 'placing', \"katrina's\", \"labour's\", 'martin', 'load', 'lora', 'flavor', 'urine', 'tankmates', 'flow', 'gras', 'paraded', 'martyr', 'abu', 'trillions', 'interacting', 'ninevah', 'user', 'brazen', 'migrate', 'madrid', 'hutch', '9', 'coordinated', \"rac's\", 'generated', 'non-violence', 'upsetting', 'creditor', 'figuratively', 'offset', 'delta', 'compel', 'drug', 'yamwhatiyam', '95', 'lazers', 'varie$', 'endeavor', 'proceeding', 'navigation', 'originated', 'spel', 'olgletree', 'officially', 'crawford', 'sundays', 'adverse', '54', 'clubhouse', 'hawijah', 'kept', '8:15', 'tens', 'impatient', 'tribes', 'up', 'redwood', 'hitch', 'gmat', 'amuse', 'modern', '58369', 'bailey', ':.', 'blossoming', 'ii', 'dissemination', 'geometrically', 'transmission', 'military', 'horrifying', 'fixation', 'crap', 'ould', 'pesticides', 'player', 'excluding', 'sussex', 'adjust', 'boasting', 'googlenut', 'responsiveness', 'emerged', 'me', '281-518-1081', 'third', 'supplies', '11:42', 'unfortunate', 'jazz', 'gant', 'hmmm', 'parking', 'breeze', 'injustice', 'digital', 'harbouring', 'buis', 'inversion', 'birdie', 'comm', 'dozens', 'blew', 'lebanese', 'abramoff', 'jmb', '43', 'stronghold', 'eg', 'manage', 'info.', 'barrett', 'suites', 'yeaa', 'filled', 'elevator', 'months', 'shrimp', \"clement's\", 'mariner', 'intuitively', 'equips', 'entity', 'phonies', 'preference', 'whatnot', \"owner's\", '........', 'double', 'khaki', 'padmasana', 'attributing', '500.00', 'underage', 'impacts', \"qa'ida\", 'weaponize', 'drool', 'lead', 'invoiced', 'grindstone', 'reins', 'dispossesed', 'adorama', 'laird', 'thankfully', 'occasional', 'investigating', 'mfm', 'rosalee', 'heard', 'giving', 'section', '77030-2707', '$ervice', 'place', 'authored', 'shitty', '.!', 'affirmed', 'debit', 'hardship', 'seince', 'ferguson', 'by', '.', 'surrounds', 'declaration', 'products', 'guacamole', 'rumsfeld', 'csis', \"software's\", 'danny_jones%enron@eott.com', '26', 'fro', 'bucket', 'whilst', 'spend', 'north', 'minimum', 'institutions', 'sploid.com', 'bankruptcies', 'microwaved', 'negotiate', 'gregg', 'http://www.dailykos.com/story/2006/5/12/232746/857', 'cranmore', 'beloved', 'edgar', 'height', 'bargain', 'hippy', 'galen', 'tariff', 'weighed', 'preventive', 'wanted', 'portugal', 'dodge', 'ideology', 'setup', 'yea', 'ucas', 'loses', 'theories', 'splitter', 'corking', 'injuries', 'pursuant', 'hosanna', 'approximate', 'pile', 'someone', 'hybrid', 'planners', 'deworming', 'pep', 'shallow', '253', 'underlying', 'intermarrying', 'clockwork', 'e.g.', 'driest', 'leather', 'fidelity', 'arakan', '09:37', 'imported', 'reliability', 'sercvice', '5.1', 'essence', \"ba'athist\", 'conspiracy', 'agree', 'bascom', 'clearer', 'grateful', 'ramadi', 'employer', 'nedre', 'transport', 'consist', 'peacekeepers', 'injured', 'grey', 'chaps', 'bout', 'founders', 'sensitivity', 'crisis', '272,000', 'machine', 'polish', 'itemized', 'postcards', 'reduce', 'attacked', 'quo', \"weren't\", 'gentleman', 'checking', '03:48', '713-790-2605', 'mek', 'wel', 'segments', 'believe', 'withdraw', 'vitamins', \"modell's\", 'blackmail', 'falters', 'switzerland', 'curious', '713-853-3098', 'unpredictable', 'avenger', 'family', 'associated', \"nasa's\", 'wit', 'ounce', 'karen', 'entry', 'montgomery', 'england', 'fill', 'transfers', '832.676.1329', 'physically', 'switch', 'nine', \"world's\", 'responsible', 'haas', 'disguise', 'alive', 'body', 'com', 'generous', 'virile', 'grandfather', 'communist', 'aeron', 'bonnard', 'crisp', \"they'll\", 'bishop', 'collective', 'muffs', 'using', 'greeting', 'heartless', 'http://www.caribbean-cruising.net', 'wellington', '8:30', 'breaks', 'saw', 'lifelong', 'purchased', 'limitations', 'segment', 'binalshibh', 'rode', 'realm', 'ruona', 'cooperating', 'traveller', 'novel', \"'ve\", 'snyder', \"chris'\", 'h=guys', 'fan', 'joke', 'tuesday', 'tired', 'nadereh', 'napkin', 'procreating', 'kaoshikii', 'sciences', 'realises', ')', 'economically', 'consistently', 'occurrence', 'faces', 'circumstances', 'expressway', 'informative', 'bans', 'disputes', 'persians', 'flats', 'introduces', 'payment', 'leo', 'omelets', 'shake', '205', 'preseason', 'buying', '6,000', 'magician', 'interracial', 'commented', 'romeo', 'intercompany', 'kindly', 'cayman', 'tick', 'realty', 'onpeak', 'humor', 'unnecessary', 'stevens', 'fold', 'angie', 'progresses', 'percentage', 'cook', 'milf', 'gamaa', 'herbalist', 'provoke', 'pastries', 'compounding', 'foreign', 'lange', 'euro', 'sheisters', \"don't\", 'ahead', 'unequipped', 'fluorescent', 'supreme', 'q1', 'louisianna', 'collected', 'maids', 'wished', 'temporarily', 'conceivable', 'rate', 'branom', 'departing', 'atrophy', 'proportion', 'stan', 'closely', 'pop', 'suffers', 'bu', 'delay', 'pointing', 'ya', 'battle', 'gambling', 'fusion', 'israelis', 'g', 'aftermath', 'hacienda', 'unravelling', 'iguazu', 'soldier', 'actionable', '571-9571', 'sri', 'kiyani', 'purchase', 'disease', 'janice', 'multi-national', 'equally', '582', 'head', 'quietness', 'penny', 'saving', 'afford', 'ul', 'detentions', 'updo', 'victim', 'numerical', 'parrot', 'miscellaneous', 'senator', 'caged', 'clauses', '3', 'ballad', \"military's\", 'highest', 'nailed', 'codes', 'corey', 'datamanager', 'prime', 'brass', 'overtures', 'usage', 'a.m', 'bbq', 'gee', '61', 'tasteful', 'french', 'cleaser', 'gelatos', 'trying', 'pleasantly', 'sexing', 'high', 'poison', 'alarm', 'dealership', 'britani', 'totes', 'craziest', 'acupuncture', 'anwser', 'channel', 'brings', 'shown', 'seclusion', '03/01/2001', 'abdel', 'commentators', 'mosque', 'sponsoring', 'defeat', 'process', '200,000,000,000', 'taxpayers', 'mailto:amy.cornell@compaq.com', 'anti-democratic', 'arrangement', 'disc', 'theodore', 'mild', '10.99', 'reproduced', 'donating', 'presenting', 'rack', \"bbc's\", 'bacon', 'regarded', 'deals', 'transaction', 'hikes', 'toledo', 'coin', '50,000', 'amerithrax', '713-654-0365', 'hold', 'courses', 'snub', 'tilt', 'film', 'bushes', 'anger', 'tradename', 'won', 'pressurized', 'coffman', 'cleric', 'donations', 'portugese', 'behaviors', 'hahahaahh', 'counterintelligence', 'supply', 'cafe', 'several', 'taj', 'extent', 'elementary', 'uncertain', 'eating', 'uc', 'libeled', 'easier', 'throws', 'underneath', 'truck', 'clinic', \"people's\", 'reconciled', 'pastor', 'cia', 'gentrified', 'split', '5.5', 'vastness', 'regimen', 'cabinet', 'on', 'preacher', 'pour', 'publishes', 'bogus', 'http://www.adiccp.org/home/default.asp', 'require', 'sobriquet', 'trash', 'appetite', 'smells', 'baja', \"mailer's\", 'foods', 'environment', 'marriages', 'feathery', 'investigations', 'http://www.cic.gc.ca/english/immigrate/skilled/assess/index.asp', 'charity', 'sat', 'sill', 'resistance', 'dictators', 'charge', '340', 'missing', 'bexar', \"consumers'\", 'scale', 'gyanendra', 'anti-trust', 'explicitly', 'transferability', 'channing', 'gwb', 'rats', 'ceasefire', 'brochure', 'mcgowan', 'ethical', 'challenges', 'avail', 'angry', 'sounded', 'introductions', 'micro', 'brothel', 'reappropriation', 'stops', 'racked', 'birdy', 'social', '112', 'oversees', 'anti', 'mountaintop', 'off', 'detrimental', 'curb', 'conventional', 'isle', 'photographed', 'dee', 'world', 'vietnamese', 'white', 'buffet', 'wahhabis', 'detrick', 'organized', 'principally', 'johann', 'lt.', 'supplied', 'container', 'belittling', 'naval', 'usual', \"musharraf's\", 'ss', 'http://lllreptile.com/store/catalog/reptile-supplies/uvb-fluorescent-lights-mercury-vapor-bulbs/-/zoo-med-24-repti-sun-100-fluorescent-bulb/', 'hostess', 'instantly', 'condiments', 'meanings', 'solidarity', 'go', 'daughters', 'interpersonal', 'peking', 'chennai', 'colors', 'raina', 'bug', 'helps', 'refusing', 'tour', 'fazlur', 'wil', '1520', 'consumer', 'powers', 'insists', 'science', 'aa', 'imperative', 'rush', '.:', 'conscious', 'pdt', 'scud', 'invasive', 'f.o.b.', '12:00', 'ag', 'gosh', 'arresting', 'case', 'impression', 'weak', 'etc.', 'acrylics', 'mid-july', 'mountains', 'front', 'toe', 'hartpury', 'shadow', 'implication', 'dislikes', '10:46', 'cannes', 'accomplices', 'mcnealy', '11030', \"f'ers\", 'firing', 'requiring', 'reviewers', 'express', 'votaw', 'gambit', '2.8', 'someon', '713', \"orwell's\", 'sculpted', 'happening', 'potato', 'aerial', 'e.t.', 'crop', 'clicked', 'amen', 'triggered', 'vegetables', 'workers', 'realise', 'portable', 'prop', \"else's\", 'please', 'bolivia', 'tensions', 'attacks', 'persue', 'evident', 'stuart', 'cancers', 'relax', 'kazakhstan', 'http://youtube.com/watch?v=d46_ctqdmi4', 'although', 'warmth', 'cons', 'sarah', 'brandeis', 'however', 'applied', 'jet', 'claws', 'advertised', '207', 'circle', 'economical', 'suwayrah', 'joux', 'anywere', 'coined', 'sunburn', 'strippers', 'em-enro2.doc', 'maria', '01/11/2001', 'nuria_r_ibarra@calpx.com', 'borrow', 'accountant', 'lithos', 'fdr', '46c1', 'lacked', '`', 'saved', 'initials', 'surrey', 'removing', 'sky', 'simone', 'quebec', 'pre-made', 'league', 'concur', 'childish', 'devraj', 'suggestion', '!!!!!!!!!!', 'powell', 'docking', 'illegals', 'bengal', 'org', 'volunteered', 'hugs', '1500', 'mexican', 'township', 'reapply', 'minutes', '416-865-3700', 'understanding', 'signal', '21st', 'grandmother', 'giovannini', 'heebee', 'patel', 'uncommitted', 'lack', 'myanmar', 'testimony', 'lingering', 'cole', 'mango', 'cd', 'u.', 'sony', 'soul', 'zealot', 'everyday', 'macro', 'sourced', \"love's\", 'recorded', 'blasted', 'http://www.cic.gc.ca/english/immigrate/index.asp', 'resting', 'servers', 'yourself', 'spatial', 'cindy', '49', 'bro', 'notepad', 'cafes', 'hosted', 'captured', 'sulfur', 'hibernate', 'hospitality', 'condemn', 've', 'ogden', 'foe', 'duke', 'balls', 'seeker', 'carl', 'control', 'comfy', 'chernobyl', 'motivation', 'suerat', 'biking', 'spoke', '1980', 'appellation', 'deposit', 'non-stop', 'tel', 'publish', 'fired', 'cbd', 'busy', '2010', 'holocaust', 'pro', 'worldwide', 'nineteen', 'wealthy', 'delicate', 'withdrawing', 'driftwood', 'fantasy', \"'72\", '04/28/2000', 'brainwash', '86m', 'dark', '01:39:56', '16s', 'disaster', 'anticipates', '13011', 'hughes', '03:20', 'plover', 'bathing', 'relentless', 'glands', 'rekindle', 'mailto:galent@nepco.com', 'marshall', 'tended', 'undertaken', 'fish', 'fit', 'arrived', '11/09/2000', 'nj', 'switching', '5th', 'counts', 'johnelle', 'amused', 'fernando', 'falls', 'masterminds', 'removed', 'downside', 'getting', 'ashcroft', '713/871-5119', 'anyting', \"dsl's\", 'knocking', 'coronas', 'decook', 'fot', 'seleznov', 'omg', 'colada', 'inch', 'smsu', \"susan's\", '94.40', 'socio-political', \"hood's\", 'http://nigeria.usembassy.gov/scams.html', '-2-f.doc', 'update', 'obudu', 'quieter', 'emancipate', 'sevil', 'interfere', 'compassionate', 'space', 'heavily', 'decisively', 'smile', '1483', 'priests', 'bellevue', 'incentives', 'vajpayee', 'yes', 'gates', '28', 'baudelaire', '33,000', 'gaps', 'mansoor', 'additionally', 'holder', '17th', 'instilling', 'continental', '14.2', 'yr', 'nonsensical', 'disarm', 'schooling', 'club', 'headcount', 'hasina', 'tournament', '380', 'produces', \"sullivan's\", 'enrongss.xls', 'wyndham', 'called', 'mercury', 'squadrons', '345-3436', 'pat', 'jiffy', 'courts', '0417', 'runner', 'micro-fiber', '1996', '2nd', 'tor', 'ice', \"hcc's\", 'communicated', 'rang', 'breslau', 'siege', 'hiatus', 'burckhardt', 'camps', 'wagging', 'toilets', 'reversal', \"customer's\", 'reiterate', 'peeling', 'hadith', 'gentel', '35620', 'eternally', 'cappelletto', \"t's\", 'beliefs', 'teng', '05/02/2001', 'browns', 'chaman', 'hizbullah', 'puke', 'saaaaaam', 'foresee', 'jack', 'secession', 'afterward', 'chicken', 'bettas', 'train', 'threat', 'conduits', 'satellite', 'tide', 'persuasive', 'iranian', 'targetting', 'initiatives', 'atlantic', 'visitor', 'horrific', 'worship', 'sniffing', 'fated', 'node', 'anthony', 'situated', 'http://www.loveallpeople.org/theonereasonwhy.txt', 'thane', 'psychiatrists', 'encounter', 'advisors', 'inexpensive', 'biggest', 'designer', 'absent', 'large', 'starvation', 'blade', 'trafficking', 'boxer', 'scrub', 'airliners', 'bottle', 'grandma', 'xray', 'sao', 'd.', 'transparent', 'own', 'diane', 'shade', \"uth's\", \"banks'\", 'accounts', 'rallying', 'democratic', 'felicia', 'pizza', \"a'nandamu'rti\", 'bus', 'va', 'toast', 'counsel', 'vet', 'stenosis', 'graduated', 'affiliate', 'traumas', 'butcher', 'maitra', 'partly', 'mob.', 'amy.cornell@compaq.com', 'useing', 'opinon', 'dispersal', 'tavern', 'outrages', 'thumbs', 'erratic', 'dominos', 'insurgents', 'haves', 'unruly', \"n't\", 'sin', 'unify', '05:37', 'region', 'petersen', 'comedians', 'libby', 'ga', 'perform', 'invoice', 'beachcrofts', '202.456.1111', 'delivering', 'carlos', 'armada', 'global', 'sides', 'timing', 'bangladeshis', 'sonya', '46093', 'collectively', 'excuse', 'ticket', 'hey', 'used', 'max', 'grandchild', 'pronunciation', 'professors', 'perv', 'excellant', 'withdrawn', 'interviewed', '1605', 'wana', 'freese', \"month's\", 'pelham', 'manne', 'discounts', 'do@enron_development', 'authoritative', 'assessing', 'blair', 'temper', 'sell', 'virgo', 'jared', 'keystone', 'yummy', '500', 'dna', 'islami', '+1', 'balard', 'rosa', 'christian', 'fort', 'boil', 'invalides', 'whatever', 'football', 'montavano', 'recommends', 'parole', 'mo', 'traditionally', 'descendants', 'lennon', 'pre-cut', 'wd', 'pictured', 'round', 'shape', '448-9499', 'buster', 'conditons', 'drags', 'wheel', 'gis', 'bust', 'sadat', 'dartmouth', 'abdullah', 'pleadings', 'normality', 'music', 'labs', '3801a', 'met', 'somebody', 'meant', 'photograph', 'trainers', 'combative', 'solve', 'sterile', 'fat', 'adhamiya', 'pain', 'giraffes', 'coats', 'happy', 'la', 'reservations', '10:07', 'snails', 'naming', 'neighborly', 'requested', 'mouthpiece', 'optimization', \"worship's\", 'labels', 'bowl', 'curating', 'acquiring', 'restructuring', '281-443-3744', 'bjs', 'leak', 'appropriated', 'roast', 'inability', 'http://www.environmentalchemistry.com/yogi/hazmat/articles/chernobyl1.html', 'suggesting', 'untalented', 'zipped', 'beef', 'lambs', 'various', 'absorbing', 'fanatic', '12:48', 'militarism', 'yelped', 'complaints', 'disturbing', 'mcnuggets', 'leonardo', 'coast', 'attractive', 'voicemail', 'purporting', 'newport', '30', '!?', 'decorated', 'www.norcalfightingalliance.com', 'hall', 'symbolism', 'unmistakable', 'enjoys', 'cauldron', 'net', 'receiving', '1584', 'suck', 'drama', 'involved', 'slant', 'spongy', 'lease', 'crossed', 'dealing', \"davio's\", 'burner', 'comfty', 'ambassador', 'reccomend', 'qaeda', 'expect', 'resources', 'forgetting', 'na', 'surrender', 'else', 'numbing', 'dharma', 'http://www.blueoakstables.com/breyerhorsebarns_barn003.asp', 'rescuers', 'dugway', 'fives', 'photoshop', 'spell', 'mercenaries', 'prior', 'shrii', 'shaykh', 'tele', 'chinatown', 'sitcom', 'habits', 'lizards', 'sensitive', 'preceded', 'class', 'microwave', 'robbie', 'girlfriend', '07/14/2000', 'over-generalizations', 'kiddies', 'lose', 'sweden', 'benefit', 'spin', 'aaron', 'detract', 'bother', '24', 'plantation', '0400', 'sr', 'final', 'drafted', 'yearly', 'feed', 'halibut', 'sooner', 'idk', 'unsteady', 'intellectuals', 'aspiring', 'graduate', 'rapidly', 'karim', 'iep', 'tijuana', '420072', 'modes', 'contract', 'ames', 'tks', 'snows', 'envelopes', 'rosario', 'adventurous', 'gap', 'telling', 'outing', 'noticed', 'nashua', 'maam', 'unwillingness', 'shall', 'climate', 'verizon', 'investigate', 'additive', 'abstinence', 'voluntarily', 'deliver', 'copeland', \"snake's\", 'declared', 'hooray', 'wase', 'horse', 'view', 'bumping', 'prospect', 'swifties', 'col', 'spreading', 'militarily', 'plunder', 'trips', 'randy', 'housed', '6.1', 's&s', '36', 'providers', 'pakistan', 'attn.', 'asparagus', 'hugo', 'tasteless', 'sj', 'dignitary', 'stokes', 'border', 'natural', 'chased', 'unscear', 'mention', 'withdrew', 'hints', 'judiciary', 'deficit', 'flashpoints', '11608', 'actualy', 'sharp', 'rewind', 'unprocessed', 'helped', 'venezuela', 'paq', 'bosnia', 'paving', 'mezza', 'reimbursable', 'money', 'imagination', 'morton', '04:37', 'www.veraakulov.com', 'bioweaponeer', 'filipinos', 'jamie', 'leave', 'bandar', 'counted', 'juno', 'flashlight', 'impeccable', 'pemex', 'gotschal', 'dynamic', 'doltish', 'conditioner', 'solutions', 'cramped', 'classiest', 'chilis', 'controllers', 'nuclear', 'm.d.', 'uw', 'medal', 'cheaper', 'metastasis', 'holofernes', 'cats', 'asus', 'libertarian', 'humans', 'vetri', 'status', 'salama', 'expectation', 'dancers', 'connection', 'prized', 'coordinating', 'guz', 'tendencies', 'rumor', 'kriste', 'misery', 'chief', 'mubarak', '759933', 'psychology', 'broccoli', 'gibbs', 'scare', 'fourth', 'enronr~1.doc', 'fifty', 'islamic', 'insights', 'kindopp', '5', 'zimbalist', 'precautions', 'vic', 'eyewitnesses', 'headquarters', 'palmer@enron', 'messaging', 'parenteau', 'wisconsin', '1962', 'blog', \"ees's\", 'relaxing', 'location', 'creel', 'wight', \"prosecution's\", 'inner', '13381', \"deb's\", 'dad', 'civet', 'havens', 'occur', 'marval', 'reputation', 'steadily', 'meh-risk', 'rusted', 'ok', 'chorion', 'messenger', 'cellphones', 'pekin', 'ali', 'honro', 'miracle', 'collateral', 'figured', 'monet', 'unanimously', 'tongue', 'webpage', '1964', 'giovanni', \"atta's\", 'fussy', 'brickell', 'bombing', 'gearbox', 'brimming', 'darkest', 'hates', 'abandoned', 'glen', 'information', 'ambiance', 'chair', 'evidentary', '80', 'flipping', 'tasty', 'attack', 'possesses', 'mart', 'atop', 'a.k.a', '202.785.0786', 'alex', '2:300', 'sent', 'jamming', 'nail', 'nick', 'bmc...@patriot.net', 'overcooked', 'nylon', 'te', 'develope', 'surprisingly', 'your', 'give', 'umbilical', 'outreach', 'haight', 'reflect', 'pipe', 'operates', 'fumarase', 'destination', 'haunt', 'experiencing', 'main', 'adam', 'pray', 'opposition', 'dry', 'easily', 'bombs', 'bea', 'bodies', 'hainan', 'doctors', 'tolerable', 'intelligencer', 'waning', 'never', 'raw', '07/19/2001', 'bangs', 'collapse', 'two', 'despair', 'isdas', 'rice', 'blak', 'yield', 'good', '248', 'owe', 'spike', 'scroll', 'westmoreland', 'florence', 'windfall', 'mutually', 'renal', 'retarded', 'reflects', 'shocking', 'fax', 'thyroid', 'airholes', 'corns', 'vomiting', 'frightening', 'overview', 'handling', \"sharon's\", 'folly', 'ourselves', 'laureate', 'quimba', '90s', 'perpetuates', 'versions', 'america', 'chartering', 'handy', 'jihad', 'z1', 'contribute', 'moi', 'clues', 'margaritas', 'disappear', '?!', 'speed', 'subtle', '60622', 'meters', 'vastly', 'tc', 'ordering', 'rotarua', 'norwegian', 'unnamed', 'successors', 'participate', 'dsl', 'boston', 'enemies', 'aviation', 'aryan', 'post-war', 'guatemala', 'abyss', 'sleeve', 'layout', 'rabbit', 'spears', 'elegant', 'enter', 'co-workers', 'recipient', 'determined', 'code', 'again', 'talkshow', 'story', 'toll', 'tagg', 'chickens', 'retracted', 'kelley', 'stipes', \"you'll\", 'schemes', 'recreate', '01/25/2001', '---', 'fed', 'molesters', 'intellect', 'lives', 'clh', 'appropriators', 'stay', 'hauls', 'expecting', 'bowes', 'announcing', 'boutique', 'kc', 'phase', '42,008', 'http://www.cic.gc.ca/english/contacts/index.asp', 'http://www.nea.fr/html/rp/chernobyl/conclusions5.html', 'blount', 'amount', 'strength', 'note', 'sommer', 'manliness', 'deeply', 'litigation', 'economy', 'wodges', 'yo', 'tells', 'connected', 'benign', 'separatists', \"ucan's\", 'smartwolves', 'subsume', '*****', 'dressage', 'irene', 'bachelor', 'highlighting', 'designs', 'claudia', 'dmetcalfe@cullenanddykman.com', 'sensors', 're-type', 'online', 'aspect', 'popup', 'assassinate', 'http://tong.visitkorea.or.kr/cms/resource/81/188181_image2_1.jpg', 'overflowing', 'wherein', 'outta', 'rugova', 'scheduling', 'elliott', 'myths', 'selling', 'defective', 'co$t', 'praises', '04:50', '3,000', 'legislative', '06:16', 'limits', '11/7/08', 'intellectual', 'socio', '14', 'loom', 'sommelier', 'assumption', '11/10/2000', 'splash', 'kashmir', 're-read', 'assassin', 'commit', 'bud', 'upon', 'security', 'outperformed', 'astride', 'offices', 'minicab', 'grandmas', 'slaughter', 'veggie', 'proliferation', 'horrors', 'wider', 'hamsters', 'superior', 're-routed', 'interception', 'denunciation', 'onwards', 'amaze', 'para13', 'sailors', 'spotlight', 'tofu', 'equipped', 'bugless', 'bypassing', 'typo', 'consequences', 'casual', 'secure', 'assistance', 'pursued', 'probing', 'him', 'export', 'ruthless', 'yep', '17', 'aquarium', 'factor', 'supplement', 'flush', 'fbi', 'job', 'gunpowder', 'amounts', 'thrifty', 'thoughts', 'flagship', 'running', 'lobby', 'romaine', 'spending', '16,000,000,000', 'handcuffs', 'guantanamo', 'cases', 'l.p', 'evangelicals', 'gods', 'names', 'din', 'christina', 'la.', 'quetta', 'bearkadette', 'technology', 'lacks', 'better', 'strategies', 'thousands', 'reopened', 'peregrino', 'jumbled', 'ibrahim', 'pools', 'ex-pat', 'pre', 'planning', 'patrons', 'ukraine', 'effect', 'kidnappings', 'reviews', 'wildernest', 'public', 'radicals', '165.9', 'violation', 'properly', 'ecological', 'bit', \"son's\", 'mt', 'light', 'drove', 'seconds', 's...@sonic.net', '09/15/99', 'brian', 'du', 'grid', 'mccullough', 'ena', 'swallowing', 'disagree', 'levis', 'reference', 'asian', 'navigator', 'tussock', 'beans', 'stalemated', 'eir', 'delegation', '25,000', 'laurel', 'expects', 'block', 'nationally', 'smuggle', 'g&g', 'simultaneously', 'harris', 'seinfeld', 'representation', 'idiots', 'speaker', 'when', 'laden', 'unheeded', 'stable', 'cropdusters', 'messages', 'extracurricular', 'non-crumbly', 'seldom', 'maximized', 'slammed', 'loosing', 'api', 'secret', 'feathered', 'http://www.beardeddragon.org/articles/caresheet/?page=1', 'ordered', '-s', 'walton', 'prague', 'ceron', 'challenging', 'mary', 'regent', 'med', 'satan', 'revalue', 'concerning', 'kayani', 'reliable', 'prod', 'puc', 'withhold', 'headed', 'gallery', 'brokerage', 'communicator', 'ridiculed', \"hambali's\", 'soaking', 'husseiniyas', 'dissenting', 'responds', 'e-mailed', '10:57:32', 'smoothly', 'schwartzenburg@enron_development', 'reducing', 'eminent', 'byron', 'pry', 'nasim', 'bakeries', 'deleted', 'massive', '3926', 'jihadist', '12/22/2000', 'hospitalized', 'departure', 'warning', 'nation', 'accordingly', 'vietnam', 'robber', 'edmark', 'closing', 'vicious', '800-553-3119', 'from', 'conversation', 'jesus', 'married', 'considering', 'milnet', 'chrome', 'cults', 'terminate', 'explanation', 'e@tg', 'shankman', 'temperatures', \"magician's\", 'hiller', 'kabul', 'corner', 'whir', 'hvae', 'repeating', 'deathly', 'updates', 'expense', 'semester', 'l.l.c', 'scratches', 'pal', 'separating', 'symbolizes', 'mazda', '04:41', 'wholeheartedly', 'http://www.laweekly.com/general/features/satan-loves-you/13454/', 'action', 'tail', '284', '01:57', 'aceh', 'satisfactory', 'topline', 'entartete', 'wells', 'rothko', 'j.doc', 'sanborn', 'serenely', 'rebels', '15,000', 'ps', 'sings', 'vibe', 'arguing', 'affectation', \"taxpayers'\", 'causes', 'recessive', 'bred', 'unwittingly', 'afterwards', 'troublesome', 'journalistic', '4.99', 'mutt', 'game', 'congratulated', 'silkies', 'proven', 'capability', 'rating', 'hotels', 'u.k', 'jiuquan', \"who'd\", 'as', 'sept.', 'message', 'spikes', 'shorten', 'osteos', 'faulty', 'woody', 'disastrous', '...........', 'presto', 'guarentee', 'jimmy', 'below', 'horizon', 'recommendation', 'sections', \"dpc's\", 'autumn', 'microphone', 'appologized', '06/01/2000', 'cross', 'chiefs', 'youngsteers', 'p.s.', 'robsart', 'philosophies', 'da', 'actully', 'thanksgiv8ing', ';p', \"sara's\", 'edmonton', 'hello', 'negative', 'creation', 'pamplona', 'enclosing', 'flowers', 'slit', 'http://www.justcages.co.uk/ferret-cages/ferplast-furet-plus-ferret-cage#v_431', 'bacteriologist', 'meanest', 'make', 'spadework', 'alt.animals.cat', 'link', 'migrant', 'nadu', 'sit', 'gunmen', 'mumbai', 'chew', 'mia', 'conseguences', 'reaches', 'makes', 'denial', 'springs', 'implant', 'break', 'incorporated', 'rounds', 'investors', 'yahoo!', 'collect', '1967', 'increasingly', 'jure', 'shura', 'chris.germany@enron.com', 'release', 'characterize', 'highlight', 'bryer', '21,000', '01:09:32', 'tropez', 'territory', 'putin', 'strongid', '763736', 'shona', 'descends', 'offspring', 'road', 'partnerships', 'condone', 'representing', 'j', 'alford', 'shuttle', 'glowing', 'joe_lardy@cargill.com', 'disruption', 'gillies', 'dslr', 'infidels', 'downtown', 'inverted', 'distributing', 'palestinian', 'chaos', 'galloping', 'nun', 'b.', 'repeated', 'khalid', 'employable', 'loot', 'tearful', 'wise', 'preserving', 'mid-afternoon', 'comma', 'customize', 'components', 'relying', 'diligent', 'durer', 'our', 'rehearing', 'racing', 'tau', 'causey', 'meats', 'mess', 'integrate', 'antique', 'east', 'garnishes', 'benefiting', 'following', 'puppet', 'wmd', 'indifferent', 'longs', 'lucy', 'buttered', 'save', 'enjoyed', '>=', 'soaked', 'measured', 'receptionist', 'bt', '-final.doc', 'inad', 'co', 'burden', 'hams', 'asks', 'ifa', '202.429.1700', 'non-human', 'currency', 'def', 'neuter', 'start', 'speech', 'friendly', 'commence', 'extinction', 'designated', 'nobel', '68', 'admin', '510-642-3689', 'reasonable', 'winging', '9221', 'cease', 'neighbouring', 'familiar', \"child's\", 'removal', 'undeniable', 'stainless', 'ty', 'milan', 'overly', 'mortal', 'advisers', 'osama', '11/2', 'campus', 'mediterranean', 'wing', 'donohue', 'http://www.time.com/time/daily/chernobyl/860901.accident.html', 'stability', 'womanish', 'traffickers', 'cartoon', 'phenology', 'trios', 'falsehoods', 'nmemdrft8-7-01', 'stooge', 'iss', 'submit', 'pinto', 'goldman', 'quite', 'imperiled', \"gulliver's\", 'pacify', 'prey', 'devout', 'principles', 'sponge', 'conciliatory', 'fundamental', 'hornet', 'advocate', 'transition', 'ultimately', 'testing', 'service', 'trapped', 'latter', 'back', 'forida', 'inks', 'rested', 'bites', 'accomplished', 'enron', 'sancho', 'grenades', 'surprises', 'stranded', 'gel', 'davio', 'fri', \"enron's\", 'flops', 'sonny', 'bell', 'notable', 'cavern', 'ect', 'feeble', 'slowly', 'define', 'like', 'shrines', 'kyle.jones@ra', 'cca-15', 'hesitate', 'holidaying', 'insist', '4434', 'goddard', 's.a.', 'securities', '03/02/2001', 'prepared', 'drill', 'cosmos', 'locally', 'sampler', 'ohh', 'choir', 'jermeier@earthlink.net', 'procedures', '02-05-02.doc', 'impressive', 'totaling', 'sodium', 'antipasti', 'infant', 'sheltered', 'remarks', 'awhile', 'infested', 'crime', 'rockies', 'counter-propaganda', 'ramifications', 'hiking', 'awarded', 'pleasing', 'groom', 'reclusive', 'barcoding', 'himself', 'baggage', 'elpaso', 'dec.', 'hobby', 'assure', 'redlined', 'vomited', 'melted', 'wings', 'tints', 'proponents', 'operator', 'anesthetic', 'signage', 'brazosport', 'businesses', 'borders', 'equip', 'substrate', 'losers', 'regard', 'irs', 'degu', 'travel', 'requests', '974-6721', 'lisbon', 'ellison', 'believers', 'correspondent', 'timeframe', 'chooses', 'panels', 'replace', 'element', '857-771', 'coworkers', 'fabulous', 'lisa', '02:19', 'f*ck', 'peggy', '1980s', 'wreck', 'kenneth.lay@enron.com', 'poland', 'produced', 'memo', 'entree', 'lethargy', 'pittsburgh', '713/345-7942', '191', 'simpler', \"channel's\", 'helpers', 'buenos', 'danny', 'relates', 'guilt', \"nick's\", 'policemen', 'chest', 'pa', 'soften', 'royale', 'vincent', 'shukrijumah', 'lyrics', 'leopold', '1', 'intent', 'installation', 'demographic', \"16's\", 'entery', 'bobby', 'electric', '2.4', 'alla', 'dual', 'passing', '814014', 'washington', 'courtesy', 'tiffany', 'delivers', 'asset', 'looked', '42,000.00', 'wines', 'paths', 'albergo', 'denise', 'mysterious', 'barbershops', 'intending', 'exactly', 'steering', 'fetishism', 'lost', 'diarheya', \"day's\", '5,000', 'w/o', 'grapple', 'proprietors', 'distant', 'vice-president', 'saddened', 'divorce', 'atlanta', 'julia', 'ad', 'sanwiches', 'overseas', 'slick', 'multi-nation', 'grows', 'suspicion', '1971', 'tajiks', 'arrival', 'uncle', 'outdoors', 'extremists', 'jacket', 'translates', 'unthinkable', 'crooks', 'microns', 'vicsandra', 'masonic', 'grain', 'hands', 'troublefunk', 'joan', 'hippies', '11/03', 'conveniently', 'object', 'mac', 'signature', 'irregularities', 'quebecker', 'mrs.', 'burrito', 'salad', 'manzano', 'pd', \"garibaldi's\", 'unscreened', 'cry', 'innocents', 'branches', 'politely', 'hurricane', 'bruce', 'influx', 'hammy', 'functional', 'trousers', 'eve', '3/10/00', 'visualization', 'colleagues', '20th', 'atomic', 'alternating', 'mentioning', 'http://www.speedtest.net/result/1155244347.png', 'enquirer', 'fumes', 'arbitration', 'marcelo', 'centennial', 'brave', 'pge', 'afghanistan', 'shocked', 'temperance', 'incompetence', 'diplomacy', '919819602175', 'office', 'domestic', 'important', 'pin', 'st.', \"guantanamo's\", '14:14', 'advocates', 'coupon', 'carcinoma', 'c.v', 'greedy', 'v', 'ramzi', 'dishes', 'sympathizer', '2.2', 'ie', \"foreigner's\", '92', 'gets', 'pakistanis', 'sporadic', 'heed', 'prepare', 'paradise', 'unarguable', 'annoyed', 'reaping', 'acceptance', 'buildings', 'pea', 'crash', 'treats', 'intimacy', 'extradite', 'expected', 'dab', 'hitler', 'ruth', 'alberta', 'executing', 'journey', 'appartment', 'evaporate', 'jacoby@ect', 'torneby', 'ways', 'ships', 'handcuffed', 'val', 'dusting', 'condominium', 'filo', \"'ll\", 'cotton', 'onions', 'sonia', 'montague', 'deceiving', '1701', 'tails', 'banging', 'drag', 'defend', 'cargill', 'confirms', 'ears', 'promotion', '281-435-0295', 'steer', 'stayed', 'drawers', 'harrison', 'summarised', \"',\", 'explain', \"sheik's\", 'bilbray', 'consolidation', 'translate', 'wen', 'eric', 'caucasian', 'seth', 'reaching', 'loyal', 'hoods', 'clean', 'cheryl', 'explosives', 'performers', 'ratchet', '23', 'aquiriums', 'rick', 't.v.', 'embryo', 'suite', 'dusty', 'mccafe', 'university', 'democrats', 'icon', 'concentration', 'ucc', 'maarten', 'egypt', 'nashville', 'intra-day', 'underwriting', 'reprioritised', 'biosphere', \"ain't\", '60', 'orbit', \"sanders'\", 'lagrange', 'chemically', 'poet', 'lawless', 'imbalances', 'budgie', \"linda's\", 'judy', 'destructive', 'pennysaver', '|', 'studying', 'wal', 'fluids', 'cried', 'populist', 'learnt', 'overcrowded', 'eco', 'pose', 'hauling', 'bart', 'hindi', '05/31/2001', 'towed', 'merchanting', 'unfortunately', 'trigger', 'argumentative', 'profit', 'worksheet', 'agents', 'sympathizers', 'chance', 'uncover', \"hornet's\", 'croall', 'april', 'matisse', 'morgan', 'unquestionably', 'packed', 'visiting', 'elimination', 'guidance', 'editor', 'market', 'luna', \"enforcement's\", 'dont', 'alienating', '55', 'offers', 'beside', \"wouldn't\", 'wake', 'premier', 'boleyn', 'breath', 'arch-murderer', 'chi', 'parent', 'bechtolsheim', 'dualities', 'lonely', 'presents', 'popularly', '11:02', 'deli', 'misto', 'invest', 'suspicious', 'divorces', 'symptoms', 'osu', 're-secured', 'attempts', 'grave', 'homemade', 'deed', 'rafik', 'bechtel', 'footwear', 'jerry', 'rittenhouse', 'texting', 'conceivably', 'uninteresting', 'para.', 'mainstream', 'dr', 'smelling', \"boyfriend's\", 'experts', 'w/', 'the', 'priced', \"qaeda's\", 'walking', 'veterinary', 'compare', 'face', '401.3', 'aggressively', 'stir', 'improve', 'neatly', 'monaco', 'entered', 'smarter', 'mole', 'laying', '===================================================', 'iraqiya', 'scandals', 'accumulate', 'elite', 'http://www.collectinghistory.net/chernobyl/', 'missiles', 'reduced', 'eaiser', '08:22', 'childbirth', 'tv', 'fitting', 'abrasive', 'certainty', 'advisory', '{', \"we're\", 'aimed', 'titer', 'china', 'really', 'apron', 'ilk', 'arrv.', 'marketplaces', 'sponsered', 'holders', 'forged', 'housing', 'miseries', 'buttons', 'gulf', 'defeats', 'association', 'whats', 'dot', 'easiest', 'altar', 'fanaticism', 'psycho-spiritual', 'desired', 'implement', 'client', 'nonenforcement', 'revolutions', 'arabian', 'reassure', 'hunks', 'sadr', 'locked', 'conf', 'tasted', 'prs', 'lifeboat', 'confidentiality', 'yasushi', 'diverse', \"snap's\", 'gladly', 'indicator', 'adult', 'republic', 'averted', 'intimate', 'http://www.sploid.com/news/2006/05/evil_priest_gui.php', 'exmearden', '150', 'ayad', 'making', 'inquiring', 'azerbaijan', 'duration', 'incorrectly', 'reality', 'celsius', \"china's\", 'knowledge', 'copies', 'dulaym', 'produce', 'delete', 'ending', 'mrs', 'pao', '*ss', 'seated', 'whomever', 'inspection', 'adhering', 'cedar', 'northwest', 'willl', 'http://www.un.org/ha/chernobyl/', 'floor', 'bathroom', 'economists', 'starbucks', 'after', 'freely', 'governor', 'nationals', 'chords', 'roaming', 'opened', 'customers', 'supposition', 'intentions', 'criminal', 'squirelled', 'ot', 'cover', 'emperor', 'http://www.guardian.co.uk/obituaries/story/0,3604,1371372,00.html', 'get-a-free-house.com', 'milk', 'screaming', 'issue', 'growth', 'rod', 'defects', 'liverpool', '11831', 'jeju', 'becky', 'katie', 'wording', 'nehru', '09:22', 'overnight', 'grinder', 'tenn', \"students'\", 'grand', 'jews', 'pictures', 'tbh', 'warn', 'oatmeal', 'necessities', \"o'connell\", 'always', 'koran', '07:48:44', 'capitol', 'julie', 'bistro', 'accommodation', 'helicopters', 'stored', 'satanists', 'refreshing', 'expansion', 'outrageously', 'castagnola@enron_development', \"someone's\", 'columnist', 'hundreds', 'spirit', 'encouragement', '!!!!!!!!!!!!!!!!!!!!!!!!!!!!!!!!', 'exceptionally', 'stages', \"'em\", 'trailor', 'red', 'capricorn', 'filet', 'abundance', 'deutsched', 'choose', 'cooperate', 'bleeding', 'attitudes', 'fins', 'corp', 'bidding', 'dessert', 'minimizing', '5:30', 'startling', 'provisional', 'mcdonald', 'vests', 'useability', 'spain', 'motherwell', '&', 'looser', 'screws', '80435', 'magical', 'factors', 'kobeys', \"joe's\", 'editing', 'inciting', 'static', 'enable', 'hustle', 'provocative', 'onesie', 'apartments', 'zahav', 'weathermen', 'takeover', 'inca', 'stalls', 'living', 'biz', 'depth', 'universal', 'raffle', 'hoax', '28/10/2004', 'confiscation', 'receipt', 'span', 'painting', 'http://v2.cache7.c.bigcache.googleapis.com/static.panoramio.com/photos/original/42661265.jpg?redirect_counter=2', 'roberts', '1.00', 'rumours', 'rather', 'giants', '04:03', 'palatine', 'frequent', 'snow', 't3i', 'shampoo', 'swing', 'videoconference', 'hoog', 'ill', 'fresco', 'bombers', 'dispatched', 'bases', 'board', 'fee', 'composed', 'princeton', 'weblogic', 'united', 'commonsense', '1535', 'gda', 'scratched', 'x34703', 'wits', 'sunday', 'backs', 'infantry', 'ribs', 'dvd', 'hannah', 'focal', 'earned', 'sex', 'genuinely', 'sleepers', 'blocks', 'grether', 'i', 'milligan', 'seals', 'v.', 'fully', 'rent', 'appointments', 'algeria', 'shady', 'sharayu', 'mathematics', 'certainly', 'http://en.wikipedia.org/wiki/bullfighting', '++++++', 'http://www.amazon.ca/exec/obidos/asin/0915765381/701-3377456-8181939', 'enlightenment', 'midas', 'exact', 'holidays', 'accidentally', 'demonstrates', 'marking', 'riiight', 'akashi', 'ineos', 'http://i.imgur.com/s2md2.jpg', 'hospitable', '1533', 'antichrist', '12:21', 'pharmacy', 'epa', 'cabalah', '1990s', 'downloaded', 'iconic', 'intended', 'succintly', 'bozos', 'websphere', \"jerry's\", 'lara', '82', 'cheap', 'casinos', 'different', 'spacetoday.net', 'blowback', 'whereabouts', 'goode', \"how's\", 'page', 'agonizing', 'extends', 'habit', 'manikins', 'seizures', 'pitfalls', 'nz', '4641', 'peels', 'combines', 'van', 'magickal', 'loc', 'politician', 'salesperson', 'tourism', 'laptops', 'consulted', \"mkm's\", 'probably', 'gas', '22s', 'overwhelming', '7', 'knowledgeable', 'scene', 'enterprise', 'modernization', 'matt', 'drinks', '05:07', 'shrink', 'flatten', 'squeaky', 'alerts', 'cutlery', 'typically', 'specials', 'cries', 'handwritten', 'cathy', 'relaxes', 'hairdresser', 'bumrungrad', \"member's\", 'capitalize', 'shame', 'grove', 'mujahedeen', 'sorts', 'differ', 'residences', 'participating', 'lens', 'took', 'drafting', 'anbar', 'varied', 'insatiable', 'fountain', 'kristof', 'taliban', 'dioxide', 'inferior', 'gasp', 'dubious', 'llc', 'far', 'gradually', 'muang', 'citizen', 'pete', 'hypocrisy', 'skinner', '^_^', '!!!!!', 'identity', 'assigned', 'nukes', 'yorkedness', 'capabilities', 'toby', 'maintain', 'aerocom', 'picket', 'above', 'totalitarian', 'talked', 'allegations', 'january', 'forwarding', \"israel's\", 'uth', 'outward', 'jana', 'db', 'viral', 'drying', 'intifada', 'bugs', 'siphoned', 'guy', '4.5', 'incoherent', 'farmer', 'within', 'sistani', 'parish', 'ld2d-#69381-1.doc', 'zealander', 'colony', 'nationality', 'wiser', 'revocation', 'chapel', 'forum', 'fi', 'returns', 'spore', 'bless', 'worsening', 'invoices', '9:30', 'spreadsheet', 'homosexual', 'lifespan', 'liquefied', 'manged', 'curves', 'airlift', 'vented', 'densely', 'ultimate', 'circus', 'partner', 'brats', '06:15', 'sliding', 'officers', 'federation', 'evenings', 'rented', 'e-mail', 'toronto', 'revise', 'skill', 'foz', 'box', 'traffic', 'imposters', 'pre-killed', 'restrictions', 'unlimited', \"sam's\", 'foie', '08:00', 'results', 'rivalry', 'heating', 'genealogy', 'quantity', 'journalist', 'forming', 'virus', 'prudential', '42,000', 'er', 'enroneauction', 'crawling', 'spills', 'taxi', 'electronics', 'nearly', '10,000.00', 'righteousness', 'zeros', 'efficiency', 'store', 'skilled', 'gain', '01', 'punish', 'luan', 'touts', 'posing', 'counterparty', 'scratch', 'travellers', ':(', 'edge', 'experienced', 'deteriorate', 'fought', 'spinner', 'misinformation', 'top', 'flocked', 'gagged', 'haim', 'mwh', '2301', 'macs', 'ha', 'http://www.cruisecompete.com/specials/regions/world/1', 'jacobs', '____________________________________________________________', '10:51', 'pho', 'destruction', 'apr', 'loop', 'graydon', '6th', \"arabia's\", 'features', 'destinies', 'affirm', 'afghan', 'russians', 'perceive', 'desire', 'featuring', 'clayton', 'injury', 'sector', 'transact', 'i/c', \"purus'a\", \"havn't\", 'ginger', 'endevour', 'jbennett@gmssr.com', '05:51', 'impressed', 'sixty', 'moher', 'folds', 'mischief', '1575', 'something', 'vivid', 'polygamous', 'listlessness', 'bathrooms', 'marly', 'reached', 'astr', 'segueway', 'mid-cities', 'trifurcation', 'maharishi', 'excuses', 'ugly', 'factions', 'multi-compartment', 'mosul', 'rusk', 'timer', 'michelle', 'hats', 'appalled', 'insult', 'patronage', 'unemployed', 'joby', 'iran', 'kitchens', 'platt', '850', 'rhino', 'weathertrade', 'hydration', '1,200', 'arvn', 'deployments', 'comp.sources.d', 'open', 'reconciliation', 'mujahidin', 'caches', 'correct', 'dg', 'reduction', 'tissues', 'aiming', 'snaffle', 'devries', 'fleming', 'paint', 'achieved', 'cruze', 'wrath', 'trap', 'administration', 'www.juancole.com', 'immediate', 'beutel', 'neighbors', 'permitted', 'modify', 'mauled', 'zawahiri', 'help', 'trails', 'extensive', 'towns', 'shoppers', 'charging', '6.00', 'nx3', 'sirloin', 'treatment', 'deposition', 'cited', 'spread', \"ngo's\", '238', 'unrestrained', 'millennium', 'strongly', 'trend', 'jodud...@aol.com', 'ed', 'herself', 'anti-fraud', 'unprofessionalism', 'video', 'yugoslavia', '+44', 'martinez@enron', 'accomplishing', 'vigilant', 'maker', 'ownership', 'announce', \"cat's\", 'tx', 'solely', 'spurs', 'political', 'twenty', 'hosts', 'brigades', 'thouhgt', 'sunnis', 'governorates', 'hissing', 'politics', 'toxic', 'overcome', '19:14', 'constantly', 'complicated', 'stopped', 'wa', 'questar', \"robinson's\", 'leainne', 'roasted', 'mail', 'wood', 'play', 'thirdly', 'squeaks', 'pickup', 'hillegonds', 'hears', 'cec', 'surplus', 'packer', 'any', 'kenneth', 'remodel', '3,202.61', 'fedayeen', 'obliged', 'prominent', 'concentrate', '02:10', 'moslem', '969', 'decides', 'nurse', 'carrots', 'ranasinghe', 'scoured', 'passcode', 'mcneally', 'settlements', 'lung', 'defines', 'lbj', 'dos', 'middle', 'requires', 'assassinated', 'ba.consumers', 'waxman', 'schizophrenic', 'craft', 'agra', 'tube', 'placid', 'dads', 'debt', 'compounded', 'cancer', 'x365', 'remember', 'passengers', 'kosas', 'casualty', 'historic', 'floridian', 'missive', \"fraiser's\", '---------------------------', \"couldn't\", 'unpriced', 'carried', 'triage', 'watched', 'experience', 'sql', 'exploring', 'buyers', 'thieves', 'retirement', 'whenever', '7,000', '1,700', '1528', 'castano@ees', 'mins.', 'managers', 'temp', 'walkie', 'appartently', 'igts', 'staff', 'record', '05:39', 'skinned', 'was', 'recording', 'glass', 'ability', 'seafood', 'galleries', 'baked', 'correspondents', 'communicative', 'heavyweight', 'stronger', 'officiate', 'jokes', 'hubbard', 'crossbred', 'apologies', 'weakened', 'excel', 'lethal', 'transcendent', '5.37', 'phenomenon', 'alterations', 'lucrative', 'alleged', 'cleveland', 'slow', 'views', 'hamilton', 'latin', 'usally', 'due', 'assisted', 'jenny', 'trek', 'muster', 'waiters', 'memoir', 'stating', 'ada', \"media's\", 'subparagraph', '11:16:58', 'x3-9890', 'viability', 'roundtable', 'dhaka', 'poorest', 'http://www.consumerreports.org/health/healthy-living/beauty-personal-care/hair-loss-10-08/hair-loss.htm', 'sweared', \"missile's\", '12.99', 'garden', 'badge', 'fannin', 'haiti', 'stunning', 'rosario.gonzales@compaq.com', 'fighters', 'opening', 'tracks', 'pending', '22,600', 'independence', 'justifies', 'inception', 'fascinating', '5.6', 'yam', 'chestney', 'majority', 'it', 'referring', 'contractual', 'calendar', 'gandhi', 'chain', 'grenade', 'rnr', 'vast', 'blackline', 'wonderfully', 'extinct', 'corpse', 'trailers', 'flew', '832.676.3177', \"girl's\", 'ohm', 'pasquallie', \"there's\", 'markings', \"could've\", 'adults', 'renaissance', 'shapes', 'persuading', '>:(', 'dropping', 'alchemical', 'blind', 'soon', 'hijackers', 'wwii', '11/8/00', 'torture', 'ledger', 'kilometers', 'doesnt', 'dems', 'aficionados', 'goose', 'www.caem.org', 'accessibility', 'kimberly', 'distinguished', 'movies', 'allegation', '++++', 'diy', 'student', 'auction', 'privileged', 'portends', 'hearts', 'mosquito', 'prearranged', 'parmesan', 'poorly', 'motivations', 'frozen', 'students', 'implying', 'sales', '376-9004', 'concentric', 'near', 'bundling', 'ridiculing', 'times', 'mid-august', '2006', '80,000', 'accessing', 'wow', 'sculpting', 'irritates', 'carrier', 'extremist', 'murderous', 'affects', 'environmental', 'immigrants', 'wouldnt', 'peru', 'contaminated', 'dudes', 'montana', 'dasovich', 'travelguides', 'thy', 'homeopath', 'march', 'advice', 'susan', 'nestled', 'rio', 'mormonism', 'regenesis', 'y', 'enjoyable', 'school', 'titled', \"he's\", 'remains', 'grocery', 'saloon', 'pop...@spinach.eat', 'poop', 'younis', 'anticipated', 'violate', 'clan', 'extended', 'organised', 'walls', 'neuendorffer', 'gi', '}', 'phenophases', '36647', 'oklahoma', 'manual', 'hannon', 'los', 'deliteful', 'accurate', 'starzz', 'finesse', 'executed', 'made', 'purple', 'understandably', 'jonathan', 'replied', 'interview', 'spaniard', 'ppl', 'required', 'bondad', 'maviglio', 'unmolested', 'integral', 'giverny', '0800', 'imo', 'predators', 'intermediate', 'western', 'recognizes', 'downgrading', 'mshames@ucan.org', 'sage', 'britney', 'arrests', 'about', 'glandular', '2005', 'disclosed', 'kindy', 'defiled', 'remain', 'verifies', 'lobster', 'newborn', 'sweets', 'fleeing', 'contemporary', 'solemnity', 'acer', 'wasting', 'affinity', 'whie', 'ribbons', 'resolutions', 'accents', 'sinks', 'dealship', 'spines', 'supporters', 'italiano', 'competitive', 'kyle', 'instrumentation', 'p.m.', '-------------------------------------------------------------------', 'ecp', 'reeks', 'seem', 'arguments', \"kelly's\", 'intranet', 'suppose', 'innovation', 'sown', \"isn't\", 'management', 'disclose', 'contradicting', 'drive', 'astronomy', 'keywords', 'snack', 'equity', 'transformational', 'dave', 'consistency', 'barros', 'peak', 'column', 'vaulted', 'dubai', 'spill', 'capelin', 'appetizers', 'dears', 'mornings', 'metabolism', 'printing', 'royally', 'honka', 'ufos', 'crickets', 'mixture', 'bridges', 'repulsive', 'preferring', 'sesame', 'respectively', 'accomplish', 'personaly', 'restore', 'repeal', 'incorporate', 'exocet', 'delivery', 'choramine', 'drunken', 'generators', 'interaction', 'conflict', '----------------------------------------------------------------------', 'mid-evenings', 'tca', 'lopez', 'ba', 'storage', \"geno's\", 'cate', 'appropriating', 'watt', 'shell', 'hirier', 'void', 'foremost', 'kb', 'soldiers', 'cookies', 'yale', 'maternal', 'harshest', 'were', 'c', 'scorn', 'weird', 'weather', 'yellow', \"right's\", 'honda', 'viewing', '100,000,000,000', 'demonstrated', 'tool', '2012', 'latitudes', 'murderer', 'brand', 'real', '11/13/2000', 'ward', '09:48', 'polansky', 'sandbags', '1s9', '11:48', 'landlord', 'roger', 'theatres', 'overbearing', 'bbc', 'leasing', \"payers'\", 'harms', 'sandeep', '4-ever', 'canal', 'solheim', 'foresaw', 'blowing', 'luck', '6/14', 'identified', 'perfume', 'gstrathmann@mediaone.net', 'parama', 'me$$age', 'cartoons', 'benefits', ':-)', 'tripartite', 'notions', 'aplo.', 'plunge', 'blanket', 'expensive', 'slightly', 'participated', 'events', 'proviso', 'threaten', 'iroq', 'swallows', 'killifish', 'soothing', 'forward', 'bat', 'wall', 'nordau', 'cheque', 'include', 'technical', 'stressful', '08:15', 'cared', 'phone', 'boi', 'nwp', 'therapies', 'constitutional', 'unweaponized', 'sunroom', '612-205-9814', 'informed', 'creates', 'shrubs', 'admonished', 'nook', 'obscurity', 'index', 'peanutjake', 'sorta', 'routine', 'relaxed', 'curate', 'remove', 'friday', 'reconfirm', 'refused', \"area's\", 'amphibious', 'hottie', 're-enlist', 'resolve', '917', 'amendmnets', 'awards', \"ok'd\", 'elk', 'cleaner', 'blocked', 'complex', 'shrug', 'foster', 'flat', '12:33', 'rests', 'rallied', 'k.', 'handicap', 'hospitals', 'firepower', 're-run', 'inappropriate', 'shaky', 'exclude', 'happens', 'bareback', 'ominous', 'winter', 'magnum', 'programme', 'stamp', 'informally', '+852', 'stephen.dyer@bakerbotts.com', \"d'\", 'bill', 'chips', 'hurry', 'fingers', 'garten', 'greek', 'candle', 'son', 'proves', '09:46', 'vengeance', 'pace', 'nov.', 'without', '......', 'holderness', 'list', 'mma', 'discretion', 'n.o.', '94', 'disgusting', 'psycholical', 'amends', 'has', 'chavez', 'vba', 'tend', 'seasoned', '09', 'york', 'feb.', 'smutney', 'hooser', 'holistic', 'managed', 'seaboard', 'realtion', 'nourishing', 'constant', 'popularity', 'issuing', 'reserve', 'tries', 'misinform', 'traveler', 'utterly', 'aids', 'unfavourable', 'jwvs', 'lagesse', 'botn', 'theory', 'nicer', 'junior', 'forger', 'hesitant', 'projected', '2', 'converted', 'each', 'sunshine', 'october', 'duck', 'company', 'intolerance', 'criticized', 'francisco', 'theraphy', 'vapor', 'recover', 'seamstresses', 'exacerbated', 'hedge', 'espeak', 'feild', 'nie', 'survival', 'guessed', 'header', 'smokers', '10/29/2000', 'cleaning', 'spawning', 'etiquette', 'orderd', 'honest', 'crackdown', 'through', 'populated', 'confronting', 'slowed', 'entertainment', 'cpcg', 'altering', 'mannered', 'neocons', 'behind', 'mueller', 'chapter', 'stuck', 'garbage', 'building', 'shakespearean', 'unneccesary', 'intruders', 'formidable', 'robertson', 'rein', 'hirsohima', 'mitigating', 'http://www.petsathome.com/shop/combi-1-dwarf-hamster-cage-by-ferplast-15986', 'pigeon', 'freakin', 'solids', 'instrumental', 'flirting', 'jurek', 'included', 'hilgert', 'cockatiel', 'meds', \"man's\", 'moines', 'margin', 'indulged', 'tension', 'gather', '11/08/2000', '10/31/00', 'transwestern', 'unspeakably', 'overcharged', 'scandal', 'intervention', 'boutiques', 'brunch', 'females', 'manners', 'mentally', 'commander', 'saws', 'planing', 'steakhouse', 'bay', '04:18', '600', 'watch', 'barbour', 'sonus', 'cuba', 'pottstown', 'sustain', 'moments', '713-853-4743', 'melts', 'cullen', 'eventually', 'healing', \"adam's\", 'inseparable', 'wars', '1000.00', 'lawman', '02/27/2001', 'aunte', 'greensboro', 'neighborhoods', 'nagin', 'burnt', 'stoner', 'sheds', 'definition', 'samoa', 'hers', 'gifts', 'rejection', 'http://www.world-nuclear.org/info/chernobyl/inf07.htm', 'critic', 'adjacent', 'delicately', 'affection', 'tremendous', 'lineatus', 'alt.animals.dog', 'tied', 'somethin', 'pedestal', 'anti-ship', '483.00', '4_28_00.doc', 'penetrates', 'burrow', 'tight', 'ar', 'taxes', 'swift', 'diversity', 'a.m.', 'sleeping', \"can't\", 'quadra', 'stolen', 'project', 'compliment', 'lube', 'reconcile', 'wields', 'frustrated', 'phoenix', 'males', 'sewage', 'conviction', 'sunlight', 'minded', 'fran', 'started', 'sons', 'habitat', ']', 'eather', 'spoilt', 'ratify', 'invitations', 'cans', 'subsidiary', 'winfrey', 'pacific', \"he'll\", '___________', 'pewter', 'flowed', 'today', 'automatic', 'interfering', 'crimes', 'publicly', 'starroute', 'nature', 'salute', 'leash', 'slices', \"saturday's\", 'recruiting', 'obvious', '250', 'untouched', 'suggestions', 'genetics', 'emitting', 'ld2d-#69397-1.doc', 'man', 'hikmetar', 'czech', 'hunters', 'licks', 'heavy', 'ireland', 'drawn', \"trustee's\", 'remained', 'usamriid', '850-748-0740', 'desirable', 'oh', 'values', 'ftw', 'objections', '90', 'heaven', 'glacier', 'cruel', 'saviour', 'preferably', 'taste', 'flight', '60,000', 'dong', 'mid-2004', 'batawi', 'nice', 'judgments', '1912', 'shaikh', 'meanwhile', '137', 'becomes', 'rare', 'gro', 'mapping', \"morton's\", 'lately', 'deer', 'categories', '8274', 'para', 'assault', 'lock', 'tortilla', 'demanding', 'committing', 'avian', 'bk', 'delainey', 'inappropriately', 'golfers', 'selah', 'plantains', 'achievements', 'questioned', 'indonesians', 'manipal', 'performance', 'refinery', 'songs', 'cowpland', 'literate', 'selection', 'minds', 'n', 'encourage', 'buddhist', 'unconnected', 'pledged', 'total', 'purely', 'invite', 'perishable', 'losses', 'envision', 'overage', 'differential', 'waterproof', '6.25', 'dean', 'midnight', 'flirted', 'picketing', 'naturally', 'hatfill', 'tongues', 'instructor', 'janet', 'clarify', 'target', 'honey', \"bees'\", 'multi-millionnaires', 'diary', 'fragile', 'advising', 'prophet', \"kerry's\", 'alena', 'education', 'apogee', 'cheek', 'strictly', 'maintenance', 'problems', 'long', 'notably', 'reviewing', 'dylan', 'mutilating', 'dramatically', 'interviewers', 'arsenals', 'hysteria', 'pup', 'woollies', 'disco', 'exceed', '92101', 'bloom', 'vegan', 'maryam', 'checks', 'refold', 'romance', 'flock', 'http://www.ibiblio.org/expo/soviet.exhibit/chernobyl.html', 'abomination', 'act', 'yellowstone', 'anti-shipping', 'faxed', 'ian', 'last', 'sum', 'burial', 'leaflets', 'underway', 'smaller', 'kendel', 'incorrect', 'abolishing', '38,000', 'meek', 'malaysia', 'befuddled', 'ideate', 'fernandina', 'republican', 'killers', 'milks', 'unity', 'sealed', 'consume', 'fluid', 'prove', '>>', 'risk', 'tomorrow', 'flexible', 'postive', 'complications', 'diplomat', 'u.k.', 'hoss', 'hurt', 'skipping', 'chanukah', 'employs', 'alt.animals.felines.snowleopards', 'sufficient', 'nepco', 'best', 'helicopter', '22', 'thereafter', 'jeffs', 'phy', 'corn', 'blessed', 'prescott', 'liver', 'prognosis', 'stowed', 'soo', 'existed', 'secular', 'http://www.mikegigi.com/castgobl.htm', 'involvement', 'hoorah', 'cruise', 'hairstylist', 'paper', \"rachels'\", 'say', 'abbudi', 'tasking', 'confuse', 'offshore', 'dragon', 'u.s.', 'freeman', 'ltd', 'lovely', 'unexplored', 'health', 'expires', 'alter', 'massacre', '2;30', '16,900', 'gate', 'jafar', 'walters', 'ling', 'mid-2003', 'cage', 'inactive', 'mousey', 'assortment', 'braman', 'qualified', \"tom's\", 'bubble', 'contend', 'fortunate', 'weapons', \"nixon's\", 'wonderful', 'published', 'eyewitness', 'http://loveallpeople.org/usconstitutiona.txt', 'sydney', 'stain', 'roosevelt', 'hijacker', 'voices', 'pester', 'neck', 'gonna', 'chicks', 'parochial', 'p&i', 'lecture', 'halfway', 'extraction', 'clearing', '!!!!!!!!!!!!!!', 'abb', 'withdrawal', 'tm', 'conspirator', 'developers', 'counting', 'levine', 'civilization', 'oprah', 'torrance', 'transatlantic', 'mosques', 'soper', 'tanya', 'login', 'salary', 'labat', 'brinkmanship', 'ft', 'adjustable', 'b****', 'directors', 'clog', 'victory', 'jalapeno', 'eats', 'fernley', 'risks', 'fair', 'macrocosm', 'chili', 'tna', 'naive', 'manipulating', 'acedraz', 'seminal', 'repent', 'yelling', 'smuggled', '1572', 'excepted', 'calaria', '300', 'icing', 'careers', 'taller', 'prejudice', 'programmes', 'bail', 'notebook', 'airliner', 'substances', 'remainder', 'trot', 'dari', '31,000', 'dinasaurs', 'crept', 'aware', 'retreats', 'puttagenius', 'turnover', 'marcus', 'mackinaw', 'u.n.', \"fbi's\", '!!!!!!!', \"california's\", 'envelope', 'sourcing', '1892', 'sweat', 'camels', 'deteriorating', 'sixteen', 'catastrophic', 'hygiene', 'kline', 'charming', 'milky', 'ucan', 'navy', 'payments', 'thanx', 'polluter', 'accomdating', 'september', 'sheraton', 'redeploying', 'sympathy', 'domain', 'evaluate', '2007', 'insulted', 'enjoying', 'patent', 'burn', 'pacifying', 'mom', 'flip', '713-793-2000', '1542', 'x940', 'karma', 'silently', 'between', 'self', 'exile', 'lodge', 'despective', 'proposes', 'noticing', 'ld2d-#69345-1.doc', 'pad', 'ulgg', 'crispy', 'attend', 'comedian', '1,650,000', 'served', 'flies', 'initiative', 'superb', 'ready', 'property', 'inn', 'cambodia', 'everybody', 'divisions', 'litter', 'streak', 'percent', 'spices', 'convoys', 'dictatorship', 'manufactured', 'unspecified', 'metaphors', 't...@sonic.net', 'burglar', 'clumps', 'spot', 'hotline', 'tmobile', 'genius', '8th', 'http://www.thetruthseeker.co.uk/article.asp?id=4503', '3.2', 'rumored', 'mantar', 'exceptions', 'behaviour', 'stereo', 'predict', 'proof', 'adhered', 'fool', 'nivine', 'subcontinent', 'numero', 'practically', 'graceful', 'tre', 'restrain', 'station', 'healthy', '888-422-7132', 'filthy', 'slacked', 'scaring', 'cue', 'warned', '260', '16/11/2004', 'transit', 'duties', 'relaxation', \"leon's\", 'sample', 'biological', 'cairo', 'hopeful', 'malignant', 'citizens', 'kinesiologist', 'opossums', 'resumes', 'thankful', 'renee', 'leaned', 'oxford', 'excerpts', 'approach', 'downfalls', 'departments', 'kerrigan', 'http://farm3.static.flickr.com/2406/2527255596_db23df940f.jpg', 'maple', 'keeps', 'touching', '1527', 'uniforms', 'jose', 'kaffee', 'rebuilding', 'exploited', \"i'm\", \"manson's\", 'john', 'pahl', 'iron', 'harshly', 'assam', 'ursula', 'rocca', 'addicting', 'blender', '5249025', 'suarez', 'gerbil', 'analyze', 'sectarian', 'themselves', 'www.weathereffects.com', 'proud', 'extrcurricular', 'paulo', 'blogshares', 'conflagration', 'physician', 'can', 'semicolon', 'mandir', 'reliant', 'manufacturer', 'eei', 'decision', 'similarly', 'unsociable', \"gtc's\", 'creativity', 'uin', 'mcinnis', 'albanian', 'historically', 'skimmer', 'australian', 'lihaib', 'saudi', 'mcnamara', 'damaged', 'tonne', 'bed', 'branch', 'tet', 'houson', 'fallibility', 'smartest', 'scotland', 'land', 'understands', '*', '02:18', 'roosters', 'convience', 'aspire', 'disrupting', 'dealer', 'try', 'meals', 'brad', 'annual', 'earthly', 'egm', 'detectable', 'delainey@ect', '11/01/01', 'protecting', 'e-reader', 'distribution', 'resident', 'consists', 'sponsored', 'theatre', 'prolong', 'http://i.imgur.com/xytex.jpg', '01:09', 'terry', 'prabhakaran', 'strengthened', '680', 'snakes', 'poses', 'kyle.jones@radianz.com', 'mitten', 'bunnell', 'vowed', 'hight', 'horn', 'puts', 'vendors', 'rumors', 'caribbean', 'wheat', 'someday', 'toss', 'hopkinson@enron_development', 'bundle', 'panera', 'fighting', 'x54667', 'outdated', 'crim', 'danelia', 'convictions', 'northeast', 'progress', 'marriage', 'petition', 'shreds', 't2i', 'william', 'gentle', 'provocations', 'adoption', 'busted', 'situations', 'satisfied', ':o', 'uterine', 'counters', 'bounces', 'leigh', 'dangerous', 'ipa', 'peninsula', 'observations', 'privatized', '70s', 'calgary', 'kitten', 'nausea', 'minister', 'mares', 'giap', 'regulate', 'no.', 'thwarted', 'production', 'score', '!!!!!!!!!!?', 'bankroll', 'oglethorpe', 'perp', 'ideally', 'endangered', 'societal', 'circulated', 'slimskim', 'appointees', 'airlines', 'kwik', 'maximum', 'leavy', 'rib', 'parachute', '10/31/2000', 'instigate', 'spectacular', 'row', 'borenste@haas.berkeley.edu', 'youngsters', 'author', 'toddler', 'winton', 'standing', 'blaming', 'diner', 'farce', 'repeatable', 'trick', 'somehow', 'guilds', 'comprise', \"intelligence's\", 'bulbs', 'monday', 'gene', 'words', 'smug', 'dedicated', '64.2', 'partnership', '32', 'grazing', 'manager', 'irons', 'producer', 'escape', 'qld', 'credibility', 'subpoenas', 'certified', 'trustee', 'campbell', '30.00', 'blackened', 'chinese', 'protection', '2029', 'clashes', 'END', 'kung', 'seeking', 'examining', 'lloyd', 'clash', 'emailed', '4-12', 'experimental', '1689', 'ambitions', '281-735-5919', 'overplayed', 'ingredients', 'cashion', 'badly', 'electronically', 'emerging', 'nordstrom', 'non-interference', 'sender', 'concert', 'meetings', 'lighter', 'hoa', '828-296-8466', 'censored', 'defendants', 'oozing', 'flirty', 'strathmann', 'discriminatory', 'upscale', 'airports', 'putting', 'theocratic', 'nonetheless', 'beards', 'demotion', 'relate', '1307', 'cure', 'salsa', 'remembered', 'guss', '02:02', '71', 'dismissing', 'wo', 'furnace', 'ex-cons', 'rails', 'succumbing', 'signing', '---->===}*{===<----', 'murderers', 'diversification', 'safe', '.....', 'dies', 'retailers', 'messed', 'waziristan', 'fun', 'principle', 'lifeboats', 'singh', 'lunar', 'restrained', 'curse', 'shipping', 'struck', 'of', 'consenting', \"credit's\", 'vendor', 'mindset', '7th', 'gentlemen', 'amusement', 'ciac', 'inevitable', 'fire', '12/26/2000', 'sensor', 'ethicities', 'walks', 'hmm', 'nowhere', 'chloe', 'recruits', 'idaho', 'had', 'gandalf', 'untouchable', 'florist', 'mothers', 'polykron', 'propose', 'bathed', 'catherine', 'fundraising', 'financials', 'trotters', 'forced', 'maw', 'dealerships', 'diglipur', 'jacks', 'washer', 'cognitively', 'protested', 'q', 'broad', 'accusing', 'vintage', 'par', 'muslims', 'manson', 'fyi', 'none', 'lit', 'voided', 'circling', 'culprit', 'totally', 'marquez', 'propaganda', '###', 'comic', 'discuss', 'haemorrhage', '120', 'pale', 'wed.', 'ocean', 'jordan', 'ofos', 'pieces', 'hood', 'oct.', 'deceive', 'mid-october', 'dykman', 'bread', 'ceo', 'regulation', 'clothes', 'trashy', 'vacations', 'crawls', \"ena's\", 'how', 'cabinets', '19', 'hail', 'finances', '11/27/2000', \"de'\", 'selections', 'fiji', '.?', 'iw', 'wisteria', 'minh', 'forget', 'sacramento', 'lousy', '1555', 'denis', 'varanasi', 'know', 'jammu', 'denmark', 'stall', 'dollar', 'theater', 'mature', '16.4', 'regardless', 'suppliers', 'felix', '0448', 'b&b', 'coating', 'credit', 'launcher', 'centimetre', 'prison', 'opinion', 'conferenced', 'hazards', 'authorized', 'regret', 'kale', 'bankruptcy', 'throwing', 'penines', 'kusal', 'reform', 'reaaaally', 'gianutto', 'expert', 'reminding', 'broke', 'shifting', 'distance', 'modified', 'cob', 'spies', \"korea's\", 'emphatically', 'spinach', 'medusa', 'prelude', 'iis', 'phillips', 'greatest', 'confusing', 'warpspeed', 'reception', '16.2', 'wedges', 'motive', 'prevented', 'sf', '1/31', 'lame', 'centers', 'lasting', 'stations', 'whose', 'apart', 'bean', 'ji', 'content', 'premadasa', 'piece', 'clarification', 'redefine', 'kings', 'render', 'downstairs', 'described', 'reports', 'pseudonym', 'louisiana', 'vinod', 'decoud', 'anything', 'spoiled', 'multiplayer', 'fy05', 'yvan', 'finalize', 'robots', 'rider', '2300', 'heated', 'patty', 'decline', 'geopolitics', 'stl', 'dock', 'unwanted', 'blush', 'bladder', 'th', 'moda', 'techniques', 'error', 'with', 'inflammatory', '70.85', '295870', 'income', 'mississippi', 'intrusion', 'actual', '10:34', 'dujail', 'deffenitly', 'grille', 'few', 'apparently', 'antiques', 'needing', 'hisses', 'negotiations', 'hassle', 'rifles', 'jen', 'occasions', 'gnosticism', 'recognition', 'unfriendly', 'escaping', 'fantastic', 'mailto:galen.torneby@nepco.com', '4101', 'bureau', 'only', 'expression', 'strong', 'parliament', 'k', 'alerted', 'predicting', 'murphy', 'l', '@', 'operation', 'indicate', 'non-indians', 'additions', 'stirrups', 'fritters', 'residents', 'clement', \"stan's\", 'morrell', 'consent', 'leaders', 'officer', 'titles', 'wishes', 'ecology', 'lankan', 'detach', 'alpha', 'rossi', 'shapiro', 'anderson', 'impatiently', 'pillars', \"'s\", '8.25', 'brooklyn', 'mount', '973-2776', 'searches', 'law', \"student's\", 'powerful', 'toni', 'dependent', 'shine', 'haircut', 'ak', 'us', 'horror', 'customer', 'laid', 'ruins', 'photographer', 'romatic', 'hamma', 'warner', 'detail', 'contraction', 'gardneri', 'synthesis', 'shores', 'launches', 'remodeled', 'unsure', 'surely', '02920', 'obligations', 'cynagon', 'versus', \"'n\", 'soap', 'maintained', 'believer', 'bounce', '105', 'unique', '6565', 'openings', 'deb', 'taylor', 'rotation', 'funneled', 'masquerade', 'abnormal', 'withstanding', 'pleasant', 'hoston', 'descriptive', 'allocated', 'attendant', 'intercourse', 'callon', 'rogue', 'mecole', 'filigree', 'drawer', 'phuket', 'pluto', 'facilities', 'm306', 'cured', 'garcia', 'effeminate', 'surrounded', 'members', 'ranger', 'loretta', 'circa', 'recruitment', 'gender', 'recoil', 'nabbed', 'carol.st.clair@enron.com', 'undermine', 'nerf', 'patrol', 'mekong', 'hogtied', 'ets', 'indoor', 'grabbed', 'huge', 'aggregators', 'municipalities', 'nose', 'cocked', 'surveyed', 'unset', 'fraction', 'approved', 'dining', 'tenth', 'compromise', 'hinges', 'childcare', 'biochemical', 'databases', 'buckingham', 'treated', 's@p', 'initial', 'socal', 'yang', 'prawns', 'salmon', '416-865-3703', 'croissants', 'eid', 'voted', 'parents', \"ferc's\", 'host', 'passes', 'formatted', 'flown', 'freak', 'wireless', 'resturant', 'adjusting', 'ironically', 'senior', 'et', 'sithamparanathan', 'washed', '07:50', 'lynn', 'research', 'horizons', 'steal', 'motors', 'breeeding', 'flips', 'norms', 'banczak', 'wikipedia', 'reviewed', '646-5847', 'plastic', 're', 'prepares', 'reside', 'cheney', 'danger', 'beer', 'suspects', '3s', \"canape's\", 'gives', 'coz', 'http://www.thekcrachannel.com/news/4503872/detail.html', 'cocktail', 'coordinate', 'neat', 'fixeded', 'their', 'asserted', 'walmart', 'pass', 'determining', 'obsessed', 'orleans', 'origins', \"sha'lan\", 'jaw', 'nikon', 'steam', 'salt', 'bothell', 'molly', 'involving', 'tug', 'giddy', 'ego', 'still', 'birds', 'mystical', 'educated', '1.877.999.3223', 'desparate', 'taylors', 'pilates', 'against', 'distinguishing', 'central', 'runflat', 'purchases', 'curve', 'fusionretail', 'wintering', 'metcalfe', 'ip', 'key', 'dixie', \"year's\", 'yoga', '1908', 'ideal', 'intentional', 'cehf', 'solving', 'eye', 'repeatedly', 'ct', 'tenacity', '281-514-3183', 'those', 'respective', 'versailles', 'labor', 'windsor', 'tame', 'intruder', 'ti', 'subcommittee', 'outside', 'avoided', 'hate', 'post-call', 'centre', 'hayat', 'menger', 'creek', 'starting', '4g', 'kind', 'establishments', 'transports', 'rosemary', 'deserted', 'oregano', 'guys', 'extract', '66', 'huble@enron', 'saturday', 'throw', 'sites', '13389', 'oldest', '03/09/2000', 'mangers', 'petsmart', '+', '2,210', '510-642-5145', 'post-saddam', 'spartan', 'occurring', 'peoples', 'interconnect', 'bass', 'affectionate', 'perfection', 'ph', 'khomeini', 'dekalb', 'purportedly', 'bisexual', 'calender', 'guidelines', 'diligence', 'gastroenteritis', 'uva', 'govind', 'hell', 'suitable', 'pathalias', 'gibraltar', 'swung', 'opposed', 'assembly', 'referenced', 'tees', '??', 'lol', 'waterfront', 'his', 'amendments', 'executable', '_', '10.6', 'clair', 'memorable', 'bilked', 'cuckoo', 'rubber', 'napkins', '202.456.2461', 'core', 'kaufman', '1904', 'berkeley', 'economic', 'immigrate', 'bark', 'cells', 'enclosed', 'revealed', 'unto', 'numerous', 'quarter', 'melt', 'estimate', 'combination', 'saddle', 'missile', 'billy', 'concerned', 'penetrate', 'arrive', 'opinions', 'enrolled', 'eagle', 'vulnerability', 'strut', 'kathleen', 'mounds', 'dat', 'critical', 'cosmic', 'http://www.bullatomsci.org/issues/1993/s93/s93marples.html', 'sought', 'rivers', 'passport', 'organization', 'home', 'scientific', 'dispatch', 'prohibited', 'honor', 'persistently', '619-696-6966', 'skin', 'apollo', 'turkey', 'compounds', 'mobilised', 'tattoos', 'government', 'email', \"trio's\", 'detention', 'substantial', '17h', 'misanthropy', 'jacobsen', 'obl', '153b09', '09/11/99', 'snap', 'fax.', 'mcmuffin', 'climb', 'dimly', 'esp', 'negligence', 'tie', 'winning', 'sandy', 'contacting', 'bidders', 'scipio', 'intermediary', '978', 'oblivion', 'usenet', 'enemy', 'tenants', 'propane', 'trinidadian', 'proverbial', 'http://3.bp.blogspot.com/-x_e2uwt6wpw/tkj_7uvtw6i/aaaaaaaaags/e_hicadypyi/s1600/lotte_world_from_high_up.jpg', '10/27/2000', 'popcorn', 'pushed', 'joint', 'galveston', 'cooked', 'west', 'lme', 'seville', 'landmines', 'm.', 'somewhere', 'working', \"sistani's\", '2.5', 'fried', '050901.doc', '65', 'mileage', 'birla', 'scenes', 'linguists', 'laurent', 'absorb', 'network', '05/01/2001', 'liquidweb.com', 'team', 'pythons', 'foreigners', 'a&k', '08:38', 'hundred', '....', 'swell', '26th', 'mahesh', 'pipette', 'inspiring', 'workpapers', 'free', 'feagan', 'ebs', 'bolder', 'volumes', 'proliferate', 'forwarded', 'welcome', 'reiteration', 'certificates', 'undermines', 'vets', 'grips', 'homosexuals', 'incubation', 'phenological', '$ome', 'salty', 'leithead', 'columns', 'whim', 'rubble', \"we'll\", 'anytime', 'ban', '648', 'vanished', 'viii', 'eliminate', 'http://isc.enron.com/site', 'tundra', 'damp', 'grandchildren', 'wifi', 'lots', 'tommorow', 'reflective', 'goods', 'attaching', 'solicit', 'ring', 'maati', 'spoken', 'costumer', '23.8', 'allot', 'lifestyle', 'formatting', 'follows', 'residency', 'pesky', 'delights', 's', 'persons', 'national', '12/14/2000', 'cracked', 'expressionist', 'russell', 'oakley', 'petshoppe', 'conduit', 'theological', 'bedlam', 'sign', 'some', 'breakfast', 'youll', 'dresses', 'abdul', '68.4', 'chose', 'arose', 'intake', 'miserable', 'spacecraft', 'enquiries', 'fce', 'x37047', 'goats', 'heading', '0', 'foreigner', 'moors', 'ltake', 'determiner', 'offended', 'worst', 'nato', 'pre-owned', 'medieval', 'table', 'sez', \"kim's\", 'sub-cultures', 'laminated', '1594', 'dyed', 'mauritania', 'venezuelan', 'tankers', 'absolutely', 'genes', 'ambitiously', 'millions', 'ripple', 'bakery', 'balances', '12-20-2000', 'interface', 'grad', 'news', 'perspective', 'divinity', 'been', 'prince', 'identifies', 'outstanding', 'bodytalk', 'embassies', 'shee', 'moves', 'mysterys', 'warranties', 'rocks', 'testify', 'formulate', 'over-priced', 'denying', 'argentine', 'tastes', 'illusions', 'cancelled', 'be', '43.6', '9.95', \"driver's\", 'whitehouse.gov', 'eneedle', 'literally', 'socialists', 'previous', 'australia', '30,858', 'meditation', 'frustrating', 'attain', 'ones', 'tronicus', 'labyrinth', 'dulaim', 'toned', 'caffe', \"japan's\", 'fused', 'put', 'vice', 'cursed', 'globe', 'http://www.mikegigi.com/firehole.htm', '02:34', 'rejuvenate', 'transactional', 'courteous', 'manner', 'marvelous', 'critics', 'que', 'seven', 'majeure', '!!!!!!!!!!!!!!!!!!!!!', 'whatsoever', 'hut', 'broker', 'thanh', 'fuji', '13339', 'attendance', 'tuning', 'proposition', 'forbidding', 'ranked', 'neil', 'pro-palestinian', 'paying', 'atm', 'colleges', 'regulatory', 'stage', 'staffs', '1002`s', 'cc', 'tablets', 'vary', \"anthony's\", 'bond', 'minimunm', 'hollering', 'trademarks', 'm5j', 'http://www.restaurant.com', 'hes', \"farmer's\", '19/11/2004', 'mergers', \"yang's\", 'cellfone', 'proclaiming', 'wan', 'sniffed', 'silkie', 'ekrapels@esaibos.com', '37', 'must', 'murph', 'cantering', 'revenge', 'optimal', 'pubs', 'vial', 'ought', 'separated', 'knowing', 'handily', '1,183', 'gently', 'nondescript', 'numbered', 'exam', 'strategy', 'abt', '29', 'reservation', 'blindly', 'jobs', 'sponsors', 'mid-80s', 'shopped', 'enormous', 'threatened', 'mcclelland', 'deepen', 'auckland', 'mystery', 'ene', 'pants', 'degeneration', \"uecomm's\", 'wed', 'mildew', 'advises', 'janell', 'reprisals', 'fundamentalists', 'sitara', 'cope', '143', 'm.nordstrom@pecorp.com', 'tormented', 'george', 'restfully', 'cere', 'current', 'version', 'great', 'notre', 'wee', 'empirical', 'resource', 'scheduler', 'windows', 'colored', 'wore', 'movie', 'overcharge', 'barcelona', 'calls', 'monies', \"car's\", 'which', 'corporations', 'hydor', 'burgers', 'pinky', 'nationwide', 'diagnostic', 'are', 'knife', 'bruha', 'worht', 'backward', 'awsat', 'upstairs', '1570', 'exceeds', 'harming', 'rip', 'yanhee', \"lopez's\", 'assuming', 'crucify', 'trillion', 'traces', 'warmer', 'effectively', 'successful', 'witnesses', 'calif', 'simulation', 'cleverly', 'according', 'conscientious', 'masks', 'coeur', 'planted', 'imprisonment', 'foundation', 'haircuts', 'breakthrough', 'bare', 'legal', 'sympathetic', 'festivals', 'kick', 'labour', 'faith', 'tigers', 'curtains', 'meets', 'beds', 'choate', 'rich', 'loose', '215,000', 'ther', 'udorn', 'taught', 'consortium', 'studies', 'soup', 'lesion', 'tw', 'kicking', 'populations', 'sham', 'communistic', 'alt.animals.rights.promotion', 'markedly', 'omitted', 'packs', 'palestine', 'pennsylvania', 'kos', 'positioned', 'poll', '11/22/2000', 'holds', 'personal', 'extreme', 'paddled', 'san', 'reconciling', 'benedict', \"seller's\", 'tots', 'miles', 'downloads', 'mailto:mayur...@yahoo.com', 'remembers', 'budge', 'slept', 'mysteriously', \"luna's\", 'neighbourhood', 'smartwolf', 'geno', 'convicted', 'girlie', 'solo', 'globalsecurity.org', 'experice', 'noticeable', 'sluts', 'brief', 'patience', 'replies', 'joints', 'disintegration', 'booster', 'lope', 'protein', 'monotony', 'frontier', 'pisces', '[', 'appearance', 'liked', 'ibn', 'conservatives', 'motel', 'sailed', 'calmness', 'co-ordination', 'slower', 'sixties', '61,000,000,000', 'doves', 'swivels', 'loch', 'observed', '620-294-3000', 'kelly', 'www', 'secretive', 'blow', 'isolated', 'old', 'shelter', 'bowen', 'easy', \"prophet's\", 'inherent', 'logging', 'torch', 'diurnal', 'course', 'participation', 'site', 'dingle', 'thicker', 'veterinarian', 'imagine', 'pyramid', 'luv', 'policies', 'developing', 'juvenile', '77.92', 'destiny', 'waked', 'vc', 'physios', 'w', 'settled', 'movement', 'ltte', 'atal', '1302', 'prefere', 'detonated', 'hobbes', 'strengthen', 'launchers', 'conditions', 'palestinians', 'doliver', 'teeth', 'resurrect', 'card', 'wolens', 'batteries', 'ayatollah', 'profits', 'difficulties', 'outlined', 'bulgaria', 'functions', 'rogers', 'exocets', 'fees', 'guaranteed', '******************************************************************', 'provincial', \"parents'\", 'prickly', 'shoot', 'carol', 'openly', 'warranty', 'disgruntled', 'rental', 'threatening', 'http://www.ukrainianweb.com/chernobyl_ukraine.htm', '11th', 'dig', \"leahy's\", 'cussing', 'uninspired', 'rice@enron', '10:45', 'nawaz', '1810', 'nye', 'dulaymi', 'basis', 'flyer', 'manually', 'bodhi', 'rat', 'fossil', 'tress', 'reciprocate', 'diego', 'petco', 'appliances', 'uneven', 'grumble', 'deciding', 'brenda', 'disability', 'alternative', 'reps', 'alt.animals', 'phat', 'multi', 'my', 'gun', 'beware', 'peregrinate', 'blowout', 'recommendations', 'stiglitz', 'fifth', '07:55', 'unbeatable', 'shoe', 'nudes', '!!!!!!!!!!!!', '16:29', 'kurdish', 'favour', 'sea', 'cups', 'terminated', 'yoko', 'nurtured', 'pics', 'comparable', 'lebanon', 'alarming', '4632', 'ssd', 'havoc', 'straits', 'classmates', 'fear', 'approve', 'nutrients', 'j.', 'potable', 'oxygen', 'automatically', 'adolf', 'militants', 'jim', 'enables', 'add', 'trimmers', 'calculation', 'context', 'pink', 'pasture', 'fallen', 'lined', 'mystics', 'el', 'pertinent', '1e', 'tourists', 'hair', 'kids', 'evaluating', 'biased', 'distinct', 'assassination', 'juan', 'youngster', 'refine', 'title', 'sticker', 'appropriate', 'luxurious', 'bullshit', 'cites', 'amnesty', 'measure', 'shanks', 'obligates', 'chick', 'barn', 'darkroom', 'chirping', 'bearded', 'functionally', 'excluded', 'blaine@enron_development', 'raiser', 'sq', 'http://www.antifraudcentre-centreantifraude.ca/english/home-eng.html', 'privatly', 'louise', 'regretted', 'http://www.adventurehobbycraft.com/products/hobby_craft_supplies.html#metal', 'amended', 'collingswood', 'misunderstanding', 'orientation', 'accompany', 'retrofitting', 'counterweight', 'venues', 'arabia', '!!!!!!!!!!!', 'smell', 'cascade', 'deliberately', 'spirituality', 'curtain', 'parakeets', '1997', '1991', 'quest', 'va.', 'tradition', 'stock', 'worthy', 'medici', 'l.a.', 'rangers', 'hoping', 'gnocchi', 'waht', 'already', 'justified', 'warmed', 'epc', 'wholesale', 'question', '18:32', 'seating', 'padded', 'rejected', 'ignorance', 'collisions', 'r.i', 'mommism', 'dow', 'rsjacobs@encoreacq.com', 'conned', 'happily', 'ruts', 'ismat', 'ins', 'hotmail', 'manmohan', 'talk', 'dissatisfaction', 'carpet', 'recruit', 'organize', '11:30', 'change', 'improving', 'tucson', 'expressed', 'ala', 'rev.', 'hawker', '888.916.7184', 'gf', 'omission', 'sketch', 'given', 'symbol', 'springfield', 'cares', 'downgrade', 'affected', 'conjunction', 'employment', 'regions', 'postpone', 'grip', 'ebic', 'brothers', '11:08', 'aim', 'smart', 'neon', 'smoker', 'endowment', 'offline', '538', '4861', 'changeable', 'kevalam', '330i', 'scientist', 'pgt', 'dempseys', 'aaaaaggghhhhhh', '130', 'belong', 'hue', 'reworded', '18:11', 'pit', 'farriers', '74419', 'perfectionist', 'kunst', 'enchiladas', 'concerted', 'contrasted', 'fl', '35,000', \"john's\", 'wasted', 'human', 'tolerate', 'confession', 'comers', 'diversion', 'track', 'smoke', 'litttle', 'oz', 'gustavo', 'boggles', 'coal', 'assuring', 'catch', 'posters', 'poisoning', 'fighter', '1530', 'burrows', 'parakeet', 'kong', 'consisted', 'log', 'exclusion', 'hope', '1.888.509.3736', 'utensils', 'rushed', 'founder', 'paws', 'practices', 'jump', 'goes', 'crowleyan', 'aggression', 'evened', 'physical', 'flee', 'vladimir', 'entire', 'finishing', 'registrar', 'confidently', 'certain', 'incredulity', '..........', 'potatos', 'succeeded', 'ortiz', 'merits', 'incorporates', 'coned', 'depart', 'portions', 'finger', 'tussey', 'discomfort', \"sufaat's\", \"governor's\", 'variety', 'radar', '1574', 'works', 'jam', 'absorption', 'smirk', 'bucks', 'stark', 'eyelids', 'precise', 'http://www.disinfo.com/archive/pages/dossier/id334/pg1/', 'model', \"nashville's\", 'assist', 'fuss', 'discussing', 'guest', 'realy', 'livestock', '12-20-00.doc', 'scholars', 'straightforward', 'verified', 'comprised', 'chains', 'istanbul', 'right', '899-4310', 'blower', 'visible', 'common', 'kori', 'lv.', 'flawless', 'hairstyling', 'dandenong', 'completly', 'hand', 'philosophy', 'crescent', '1561', 'refund', '<-', 'fake', 'mind', 'braining', 'clarkson', 'destinations', 'stringing', 'dutifully', 'visited', 'slice', 'work', 'sabeer', 'hopeless', 'viola', 'anglo', 'reneged', 'distinguish', 'superficial', '*~*~*~*~*~*~*~*~*~*', 'administered', 'heater', 'tract', 'twisted', 'pinkie', 'jack-s', 'suzanne', 'dealers', 'alatorre@enron', 'byargeon', 'tweed', 'raphael', 'feith', 'youth', 'styled', 'freshly', 'devoted', 'adapt', 'gcp', 'adn', 'kyoto', 'procedure', 'orders', 'harass', 'ousting', 'alt.animals.lion', 'nano', 'arrest', \"administration's\", 'tana.jones@en', 'standings', '345-8702', 'multiple', 'louis', 'arabs', 'cattle', 'computers', 'linked', 'intestines', 'jupiter', 'invoking', 'dec', 'chineese', 'sociable', 'touch', 'attracts', '12.48', 'hiding', 'crest', 'ridiculous', 'shoes', 'transferred', \"pg&e's\", 'antonio', 'plays', 'nicaragua', 'drip', 'nobody', 'afraid', 'lewiston', 'melissa', 'becuse', 'entreaty', 'petersburg', 'vanish', 'non', 'starter', 'walk', 'delectable', 'fertile', 'peaceful', 'incredibly', 'mba', 'shih', 'spanned', 'deutsche', 'overland', 'crafter', 'premature', 'infinity', \"hormel's\", \"'05\", 'midget', 'campenni', 'jihadis', 'enough', 'cap', 'member', 'peanutjak...@usa.com', 'der', 'counselor', 'reestablished', 'ric', 'youngest', 'rule', 'kittens', 'grandure', 'surveys', 'antiquities', 'stones', 'focused', 'newer', 'il', 'fitters', 'repairs', 'trade', 'hoped', 'tacoma', 'liz', 'vulnerable', 'logan', 'winds', 'revisions', 'atithi', 'inspired', 'nesbitt', 'occupations', 'slack', '02', 'tweezers', 'insomnia', 'urge', 'http://www.ebay.co.uk/itm/130589513308?var=430034792128&sspagename=strk:mewax:it&_trksid=p3984.m1438.l2648#ht_1500wt_660', 'clark', '94720-1900', 'equivalant', 'crra', 'consultants', 'personally', 'controls', 'cultures', '1251', 'rough', 'destroyer', 'davis', 'vote', 'perkins', 'tag', 'saltimboca', 'also', 'erik', 'advertising', 'revealing', 'sprdopt', 'cough', 'entourage', 'laurie', 'wendy', 'crystallizes', 'napa', 'provoked', 'wangs', 'mistake', 'keys', '06:07', 'aud', 'fleshing', 'boards', 'busybodies', 'financed', 'lane', 'charm', 'evergreen', 'gorse', '416-865-3704', '4.319', 'intertwined', 'jumbo', \"eurasia's\", 'palace', 'surface', 'garments', 'snake', 'kindergarten', 'nitrogen', 'profitable', 'beared', 'gardening', 'guiding', 'nepal', 'ridiculized', 'wax', '1982', 'prideful', 'princess', 'brittany', 'actions', 'cliffs', '713-853-3044', 'repoire', 'influential', \"sommer's\", 'fincher', 'hoof', 'delicacy', 'households', 'protects', 'concentrated', 'summer', 'minority', 'before', 'brack', 'invovled', 'father', 'cuyahoga', 'imperil', 'lautrec', 'clock', 'bullseye', 'jalalabad', '1348', 'assured', 'qwest', 'porch', 'mantra', 'rude', 'reconsider', 'insert', 'sacrifice', 'compensate', 'corners', 'notch', 'quantitatively', 'bereaved', 'operate', 'moon', 'phlox', 'submission', 'conduct', 'worshippers', 'vegetable', 'greeter', 'once', 'curveball', \"sarah's\", 'studio', 'whore', 'cos', 'injure', 'probe', 'combat', 'kumon', 'samchawk@aol.com', 'hurtling', 'italia', 'polar', 'tent', 'icq', 'poster', 'mi', 'aka', 'fixable', '|--------+----------------------->', 'carries', 'perseverance', 'offered', 'lackluster', 'moscoso', 'guernica', 'revolution', 'talks', 'refers', 'fascist', 'levi', \"anyone's\", 'refundable', 'fans', 'pound', 'ground', '03:13:58', '2:25', 'amazed', 'retiring', 'liquidations', 'http://i.imgur.com/t2zff.jpg', 'cdec', 'worries', 'prosecute', 'bank', 'tagesspiegel', 'gracious', 'violence', 'kumaratunga', 'chiro', 'buses', 'plotter', \"species'\", 'snorkeling', 'plaza', 'sumatra', 'arrange', 'plumbers', 'carter', 'escaped', 'attentive', 'mike', 'asi', 'texas', 'may', 'caracas', 'heightened', 'cheveux', 'fixes', \"rosemary's\", 'sonic', 'anybody', 'kay', 'muhammad', 'hermeticism', 'con', '09819602175', 'added', 'kennedy', 'celebration', 'rabble', 'waitress', 'psychic', 'equivalent', 'eeftl', 'hi', 'hay', 'presumably', \"we'd\", 'crowded', 'timber', 'bridge', '408', 'commodity', 'smiling', 'rhythm', 'predisposition', 'michigan', 'leibman@enron', 'wisdom', '4,700', 'clip', 'monthly', 'lip', 'posted', 'thorny', 'dictator', 'dzida', 'ally', '57', 'guild', 'pony', 'sources', 'ps4', '52', 'collaborate', 'grizzly', 'ristorante', 'fluffy', 'briefing', 'assignment', 'promising', 'earning', 'palces', 'hungry', 'kinga', 'survive', 'kennels', 'helping', 'widely', 'form', 'abbotsford', 'photography', 'kaplan', 'fulfil', 'meadowlarks', 'modem', 'ammonia', 'scots', 'combo', 'goofy', 'admit', 'echo', 'suttle', 'u.t.', 'basket', \"monet's\", 'driving', '5.8', 'blogosphere', 'killings', 'menace', 'tables', 'unbelievable', 'solicitous', '10/26/2000', 'purposes', 'hating', 'bringing', 'perry@enron_development', 'lodging', 'closs', 'respects', '23,000', \"hoot's\", 'luncheon', 'oppose', 'tiny', 'knees', 'drugs', 'dime', 'sauce', 'temecula', 'offering', 'opportunities', 'commanders', 'commanded', 'interrogations', 'pst', 'threatens', 'miller', 'f.r.s.', \"coil's\", 'around', 'nomenclature', 'heifers', '10:30', 'apprised', 'lynx', 'neoconservative', 'writing', 'scrutiny', 'puttino', 'http://www.mikegigi.com/castgobl.htm#lggobproj', '129', 'seems', 'hid', 'knew', 'introducing', 'flooded', 'http://en.wikipedia.org/wiki/degenerate_art', 'strobe', 'http://www.netpetshop.co.uk/p-19500-savic-chichi-2-chinchilla-rat-degu-ferret-cage.aspx', 'overt', 'insurgency', \"lynch's\", 'thur.', 'sharing', 'enw_gcp', 'insensitive', 'placed', 'barrel', 'reprisal', 'overdue', 'hire', 'generating', 'boasts', 'spelling', 'disgustingly', 'moisture', 'jgerma5@aol.com', 'henry', 'veils', 'plight', 'decades', 'ho', 'leading', 'any1', 'walnut', 'cpys', 'cohen', 'wang', \"smith's\", 'iii', 'contributed', 'til', 'refute', 'syria', 'developed', 'upi', 'smith', 'romantic', 'dump', 'carreau', 'mill', 'seas', 'apartment', 'hurdles', 'obeying', 'kowalke', 'anti-army', 'naked', 'engineering', 'benjamin', 'backside', 'radio', 'dell', 'ur', '2545', 'gatherings', 'print', 'jemison', 'pastures', 'fortunately', 'regularity', 'hop', 'pancreatitis', 'camera', \"iraqi's\", 'extending', 'naha', 'sussman', 'carrying', 'joys', 'regimes', 'replacing', 'nostrils', 'e', 'battery', 'basic', \"diego's\", 'acquistion', 'punk', 'picasso', 'contains', 'burst', '25/01/2001', 'knee', \"'09\", '~', 'temperament', 'visitors', 'communication', 'anxious', 'weeks', 'technological', 'appropriately', 'http://www.equinecaninefeline.com/catalog/savic-freddy-cage-free-delivery-p-6750.html', 'e-commerce', 'garage', 'www.kaffeeeis.co.nz', \"ham's\", 'attract', 'spaghetti', 'mid-february', 'twig', 'convicts', 'cajunish', 'discussions', 'defensive', 'jersey', 'tactical', 'wrap', 'circulating', 'present', 'method', 'incitement', 'incarcerated', 'shunted', '08:50:01', 'caring', 'murdering', 'bradford', '9000', 'ballot', 'sketchy', 'continued', 'potentially', 'cooper', 'punches', 'gated', 'sponoring', 'ranchers', 'town', 'paragraphs', 'timings', 'mangold', 'fortier', 'invaded', 'merit', 'hikmetyar', 'appendices', 'unfreeze', 'congressional', 'deserve', 'buy', \"park's\", 'htc', 'garganta', 'november', 'evolves', '503/464-7927', 'magic', \"raina's\", 'apocalyptic', 'nrc', 'travis', 'dried', 'pancake', 'rams', 'dipping', 'tamils', 'kosa', '2543', 'deal', \"lay's\", 'workplace', 'outcomes', '7.5', 'frequency', 'standard', 'sample.doc', 'multitude', 'administer', 'degrees', 'intoxicating', '177', 'quixote', 'kut', 'lucky', 'herbs', 'flatbread', 'valencia', 'mini', '11:07', 'undercurrents', 'continents', 'a', 'funds', 'compliments', 'waiver', 'yorkshire', 'mabruk', 'suv', 'hoover', 'dances', '7484', 'hizb', \"powell's\", 'vacancy', 'adsl', 'rail', 'pretends', 'seasons', 'handle', 'angel', 'fabulously', 'criticism', 'meal', \"brent's\", 'involve', 'handsomely', 'gulliver', 'mgr...@usa.pipeline.com', 'creeping', 'paranoid', 'mop', 'fugitives', '44', 'safer', 'uni', 'nonessential', 'reporters', 'art', 'wht', 'cannon', 'flickering', 'svce', 'could', 'trip', 'lamonica', 'd.c.', 'camille', 'efrem', 'pickups', 'oracle', 'tree', 'owning', 'interrupted', 'this', 'machines', 'spaceflight', 'censor', 'pre-screened', 'city', 'respecting', 'gripped', 'binding', \"shi'ite\", 'nest', 'crumbling', 'brewery', \"one's\", 'directly', 'judaism', 'handled', 'aquarist', 'hauled', 'modell', 'apps', '/', 'thievery', 'initially', 'musharraf', 'recalls', 'parks', 'williams@enron_development', 'alt.consumers', 'ideologue', 'spitting', 'donor', 'annexation', 'kingston', \"george's\", 'hatch', 'permanent', 'accommodations', 'cheques', 'structuring', 'pasta', 'retired', 'festival', 'nottingham', 'sacre', 'nicknamed', 'bmil', 'detective', 'hierarchical', 'sheesh', 'europe', 'waist', 'software', 'truths', '1.6', 'chuck', 'browser', 'referral', 'hnd', 'carnival', 'marianne', 'malls', 'tom', 'refurb', 'marketers', 'conveyor', 'tripura', 'sweety', 'trail', 'pressured', 'thi$', 'finch', '42', 'british', \"group's\", 'brainer', 'banner', 'repsitun', 'fri.', 'sequence', 'removes', 'messy', 'account', 'lan', 'diplomatic', 'jumped', 'lihaibi', 'artist', 'websites', 'sees', 'kinda', 'maintaining', 'immaculately', 'shopping', 'graphics', 'toy', 'shy', \"'60s\", 'battling', 'upcoming', 'corporation', 'reader', 'selected', 'printed', 'motion', 'contemporaries', 'covert', 'catalytic', 'justifying', 'al', 'achieving', 'scenario', 'aboard'}\n"
          ]
        }
      ],
      "source": [
        "#Create a vocabulary set of all the used words in the training corpuse\n",
        "vocab_s=set()\n",
        "\n",
        "u = 0\n",
        "uu = 0\n",
        "\n",
        "#preparing the training corpuse\n",
        "for s in parsed_train_pos :\n",
        "    for w in range(len(s)):\n",
        "      #print(w)\n",
        "      vocab_s.add(s[w][0])\n",
        "      if s[w][0]==\"START\" and w != 0:# checking if some \"START\" comes not in the start of a sentence\n",
        "        u+=1\n",
        "      if s[w][0]==\"END\" and w != len(s)-1:# checking if some \"END\" comes not in the end of a sentence\n",
        "        uu+=1\n",
        "\n",
        "print(u , uu)# result of checking \"START\" and \"END\" # if 0 , 0 then everything is good\n",
        "\n",
        "print(len(vocab_s) , \"unique tokens\")\n",
        "print(vocab_s)#Tokens of the set of unique tokens"
      ]
    },
    {
      "cell_type": "code",
      "execution_count": null,
      "metadata": {
        "id": "wkmmL24u7GQD"
      },
      "outputs": [],
      "source": [
        "# vocab dictionary where the key is the token and the value is the index ( Unique int)\n",
        "vocab_dict = {}\n",
        "\n",
        "\n",
        "for i, word in enumerate(sorted(vocab_s)):\n",
        "    vocab_dict[word] = i\n",
        "\n"
      ]
    },
    {
      "cell_type": "markdown",
      "source": [
        "Testing with some words"
      ],
      "metadata": {
        "id": "n3_YtVdpeHhZ"
      }
    },
    {
      "cell_type": "code",
      "execution_count": null,
      "metadata": {
        "id": "NG8qbKJr7GQD",
        "outputId": "7a147dac-b510-4fbe-ec84-233add64a74d",
        "colab": {
          "base_uri": "https://localhost:8080/"
        }
      },
      "outputs": [
        {
          "output_type": "stream",
          "name": "stdout",
          "text": [
            "24\n",
            "5301\n",
            "9128\n",
            "13754\n",
            "5558\n",
            "10374\n",
            "Vocab betwen 1650 and 1700\n",
            "alt.animals.lion:1651\n",
            "alt.animals.rights.promotion:1652\n",
            "alt.animals.tiger:1653\n",
            "alt.consumers:1654\n",
            "alta:1655\n",
            "altar:1656\n",
            "alter:1657\n",
            "alterations:1658\n",
            "altered:1659\n",
            "altering:1660\n",
            "alternate:1661\n",
            "alternates:1662\n",
            "alternating:1663\n",
            "alternative:1664\n",
            "alternatives:1665\n",
            "although:1666\n",
            "altitude:1667\n",
            "alto:1668\n",
            "altogether:1669\n",
            "aluminum:1670\n",
            "alumni:1671\n",
            "always:1672\n",
            "am:1673\n",
            "amalgam:1674\n",
            "amanda:1675\n",
            "amaze:1676\n",
            "amazed:1677\n",
            "amazes:1678\n",
            "amazing:1679\n",
            "amazingly:1680\n",
            "ambassador:1681\n",
            "ambiance:1682\n",
            "ambitions:1683\n",
            "ambitious:1684\n",
            "ambitiously:1685\n",
            "ambulance:1686\n",
            "ambulances:1687\n",
            "amelia:1688\n",
            "amen:1689\n",
            "amend:1690\n",
            "amended:1691\n",
            "amendment:1692\n",
            "amendments:1693\n",
            "amendmnets:1694\n",
            "amends:1695\n",
            "america:1696\n",
            "america's:1697\n",
            "american:1698\n",
            "americans:1699\n",
            "americas:1700\n",
            "1164\n"
          ]
        },
        {
          "output_type": "execute_result",
          "data": {
            "text/plain": [
              "17062"
            ]
          },
          "metadata": {},
          "execution_count": 13
        }
      ],
      "source": [
        "print(vocab_dict['#'])\n",
        "print(vocab_dict['dog'])\n",
        "print(vocab_dict['land'])\n",
        "print(vocab_dict['see'])\n",
        "print(vocab_dict['eat'])\n",
        "print(vocab_dict['mosque'])\n",
        "\n",
        "print(\"Vocab betwen 1650 and 1700\")\n",
        "cnt = 0\n",
        "\n",
        "\n",
        "cnt = 0\n",
        "for k,v in vocab_dict.items():\n",
        "    if cnt > 1650:\n",
        "      print(f\"{k}:{v}\")\n",
        "    cnt += 1\n",
        "    if cnt > 1700:\n",
        "        break\n",
        "\n",
        "\n",
        "print(vocab_dict[\"START\"])\n",
        "len(vocab_dict)"
      ]
    },
    {
      "cell_type": "markdown",
      "source": [
        "# Preparing the data and counting needed before creating the matrices of probabilities\n",
        "\n",
        "This part will beounting each transition and emission instance and put the values in dictionaries"
      ],
      "metadata": {
        "id": "o1kqqo_ZehaB"
      }
    },
    {
      "cell_type": "code",
      "execution_count": null,
      "metadata": {
        "id": "IFt-9lsK7GQF"
      },
      "outputs": [],
      "source": [
        "\n",
        "def create_dictionaries(parsed_train_pos, vocab_dict):\n",
        "\n",
        "\n",
        "    # defaultdict for ease of use\n",
        "    emission_instances_values = defaultdict(int)\n",
        "    transition_instances_values = defaultdict(int)\n",
        "    tag_values = defaultdict(int)\n",
        "\n",
        "    # Starting at the start token\n",
        "    prev_tag = '--s--'\n",
        "\n",
        "    # Index for tracking\n",
        "    i = 0\n",
        "\n",
        "    # Going through each word and collecting data\n",
        "    for  s in parsed_train_pos:\n",
        "        for word_tag in s:\n",
        "\n",
        "            i += 1\n",
        "\n",
        "            # after each 20,000 word\n",
        "            if i % 20000 == 0:\n",
        "                print(f\"word count = {i}\")\n",
        "\n",
        "\n",
        "            token, tag = word_tag[0]  , word_tag[1]\n",
        "            #get_word_tag(word_tag, vocab_dict)\n",
        "\n",
        "            # counting each transition instance\n",
        "            transition_instances_values[(prev_tag, tag)] += 1\n",
        "\n",
        "            # counting each emission instance\n",
        "            emission_instances_values[(tag, token)] += 1\n",
        "\n",
        "\n",
        "            tag_values[tag] += 1\n",
        "\n",
        "\n",
        "            prev_tag = tag\n",
        "\n",
        "\n",
        "\n",
        "    return emission_instances_values, transition_instances_values, tag_values"
      ]
    },
    {
      "cell_type": "code",
      "execution_count": null,
      "metadata": {
        "id": "vkDwAdhj7GQF",
        "outputId": "9db8c0e1-310b-485b-80ee-d4bf89924096",
        "colab": {
          "base_uri": "https://localhost:8080/"
        }
      },
      "outputs": [
        {
          "output_type": "stream",
          "name": "stdout",
          "text": [
            "word count = 20000\n",
            "word count = 40000\n",
            "word count = 60000\n",
            "word count = 80000\n",
            "word count = 100000\n",
            "word count = 120000\n",
            "word count = 140000\n",
            "word count = 160000\n",
            "word count = 180000\n",
            "word count = 200000\n",
            "word count = 220000\n"
          ]
        }
      ],
      "source": [
        "emission_instances_values, transition_instances_values, tag_values = create_dictionaries(parsed_train_pos, vocab_dict)"
      ]
    },
    {
      "cell_type": "markdown",
      "source": [
        "Making a list of all POS tags"
      ],
      "metadata": {
        "id": "UzB-CPRVfwhi"
      }
    },
    {
      "cell_type": "code",
      "execution_count": null,
      "metadata": {
        "id": "-7rurfBA7GQF",
        "outputId": "8deac029-de79-49f4-cbb7-ec93a1484f9f",
        "colab": {
          "base_uri": "https://localhost:8080/"
        }
      },
      "outputs": [
        {
          "output_type": "stream",
          "name": "stdout",
          "text": [
            "Number of POS tags (number of 'states'): 20\n",
            "View these POS tags (states)\n",
            "[('--e--', 12544), ('--s--', 12543), ('ADJ', 13155), ('ADP', 17797), ('ADV', 10103), ('AUX', 12805), ('CCONJ', 6688), ('DET', 16300), ('INTJ', 695), ('NOUN', 34801), ('NUM', 4125), ('PART', 5708), ('PRON', 18660), ('PROPN', 12618), ('PUNCT', 23479), ('SCONJ', 3822), ('SYM', 720), ('VERB', 22602), ('X', 355), ('_', 2559)]\n",
            "['--e--', '--s--', 'ADJ', 'ADP', 'ADV', 'AUX', 'CCONJ', 'DET', 'INTJ', 'NOUN', 'NUM', 'PART', 'PRON', 'PROPN', 'PUNCT', 'SCONJ', 'SYM', 'VERB', 'X', '_']\n"
          ]
        }
      ],
      "source": [
        "# get all the POS states\n",
        "states = sorted(tag_values.items())\n",
        "tags = sorted(tag_values.keys())\n",
        "print(f\"Number of POS tags (number of 'states'): {len(states)}\")\n",
        "print(\"View these POS tags (states)\")\n",
        "print(states)\n",
        "print(tags)\n"
      ]
    },
    {
      "cell_type": "code",
      "execution_count": null,
      "metadata": {
        "id": "C0VSet3e7GQG",
        "outputId": "a9426e9a-d785-427d-a929-07e907b6c7af",
        "colab": {
          "base_uri": "https://localhost:8080/"
        }
      },
      "outputs": [
        {
          "output_type": "stream",
          "name": "stdout",
          "text": [
            "transition examples: \n",
            "(('--s--', 'PROPN'), 1560)\n",
            "(('PROPN', 'PUNCT'), 3176)\n",
            "(('PUNCT', 'PROPN'), 1343)\n",
            "\n",
            "emission examples: \n",
            "(('NOUN', 'willingness'), 2)\n",
            "(('ADJ', 'main'), 30)\n",
            "(('NOUN', 'difference'), 20)\n",
            "\n",
            "ambiguous word example: \n",
            "('ADV', 'back') 176\n",
            "('VERB', 'back') 4\n",
            "('ADP', 'back') 17\n",
            "('ADJ', 'back') 5\n",
            "('NOUN', 'back') 33\n",
            "('X', 'back') 1\n"
          ]
        }
      ],
      "source": [
        "print(\"transition examples: \")\n",
        "for ex in list(transition_instances_values.items())[:3]:\n",
        "    print(ex)\n",
        "print()\n",
        "\n",
        "print(\"emission examples: \")\n",
        "for ex in list(emission_instances_values.items())[200:203]:\n",
        "    print (ex)\n",
        "print()\n",
        "\n",
        "print(\"ambiguous word example: \")\n",
        "for tup,cnt in emission_instances_values.items():\n",
        "    if tup[1] == 'back': print (tup, cnt)"
      ]
    },
    {
      "cell_type": "markdown",
      "source": [
        "# Calculating Emissions probabilities from the collected values (Emissions Matrix)"
      ],
      "metadata": {
        "id": "uOACPMuSzFBR"
      }
    },
    {
      "cell_type": "code",
      "source": [
        "#del emission_probabilities\n",
        "emission_probabilities = defaultdict(float) # initializing Emissions Matrix\n",
        "x= 0\n",
        "for tag in tags:\n",
        "    total_emissions = 0\n",
        "    for token in vocab_s:\n",
        "       total_emissions += emission_instances_values[(tag, token)]\n",
        "    for token in vocab_s:\n",
        "        emission_probabilities[(tag, token)] = emission_instances_values[(tag, token)] / total_emissions\n",
        "\n",
        "        #tests:\n",
        "        if tag == \"ADJ\" and emission_probabilities[(tag, token)] > 0:\n",
        "          #print(emission_probabilities[(tag, token)]*100 , tag , token)\n",
        "          x+=emission_probabilities[(tag, token)]\n",
        "\n",
        "\n",
        "print()\n",
        "print(emission_probabilities[('--e--' , 'END')])\n",
        "print(emission_probabilities[('--s--' , 'START')])\n",
        "print(x)\n",
        "#tests end"
      ],
      "metadata": {
        "colab": {
          "base_uri": "https://localhost:8080/"
        },
        "collapsed": true,
        "id": "omyB4njbtGQi",
        "outputId": "abdd8ab5-8a74-4691-c913-e2f0a0a62a2a"
      },
      "execution_count": null,
      "outputs": [
        {
          "output_type": "stream",
          "name": "stdout",
          "text": [
            "\n",
            "1.0\n",
            "1.0\n",
            "0.9999999999999766\n"
          ]
        }
      ]
    },
    {
      "cell_type": "markdown",
      "source": [
        "# Calculating Transitions probabilities from the collected values (Transition Matrix)"
      ],
      "metadata": {
        "id": "P3H8BJrh4cMI"
      }
    },
    {
      "cell_type": "code",
      "source": [
        "#del emission_probabilities\n",
        "transition_probabilities = defaultdict(float) # initializing Transitions Matrix\n",
        "\n",
        "\n",
        "print(   \"training some expected values to see how correct the code was:\")\n",
        "\n",
        "\n",
        "for prev_tag in tags:\n",
        "    total_transitions = 0\n",
        "    for next_tag in tags:\n",
        "       total_transitions += transition_instances_values[(prev_tag, next_tag)]\n",
        "    for next_tag in tags:\n",
        "        transition_probabilities[(prev_tag, next_tag)] = transition_instances_values[(prev_tag, next_tag)] / total_transitions\n",
        "\n",
        "        #tests:\n",
        "        if prev_tag == \"--e--\":\n",
        "          print(transition_probabilities[(prev_tag, next_tag)] *100,prev_tag , next_tag )\n",
        "        if prev_tag == \"--s--\":\n",
        "          print(transition_probabilities[(prev_tag, next_tag)]*100 ,prev_tag , next_tag )\n",
        "        if prev_tag == \"ADV\":\n",
        "          print(transition_probabilities[(prev_tag, next_tag)]*100 ,prev_tag , next_tag )\n",
        "        if prev_tag == \"ADJ\":\n",
        "          print(transition_probabilities[(prev_tag, next_tag)]*100 ,prev_tag , next_tag )\n",
        "\n",
        "print(transition_probabilities[('--s--' , 'NOUN')]*100 ,prev_tag , next_tag)\n",
        "print(transition_probabilities[('--s--' , 'ADV')]*100 ,prev_tag , next_tag)\n",
        "print(transition_probabilities[('--e--' , 'ADV')]*100 ,prev_tag , next_tag)\n",
        "print(transition_probabilities[('--e--' , 'NOUN')]*100 ,prev_tag , next_tag)\n",
        "#tests end"
      ],
      "metadata": {
        "colab": {
          "base_uri": "https://localhost:8080/"
        },
        "collapsed": true,
        "id": "LIKvqsSkzWF6",
        "outputId": "cb3795c6-8143-4dd1-9cd9-bd1e7a2a6cfa"
      },
      "execution_count": null,
      "outputs": [
        {
          "output_type": "stream",
          "name": "stdout",
          "text": [
            "training some expected values to see how correct the code was:\n",
            "0.0 --e-- --e--\n",
            "100.0 --e-- --s--\n",
            "0.0 --e-- ADJ\n",
            "0.0 --e-- ADP\n",
            "0.0 --e-- ADV\n",
            "0.0 --e-- AUX\n",
            "0.0 --e-- CCONJ\n",
            "0.0 --e-- DET\n",
            "0.0 --e-- INTJ\n",
            "0.0 --e-- NOUN\n",
            "0.0 --e-- NUM\n",
            "0.0 --e-- PART\n",
            "0.0 --e-- PRON\n",
            "0.0 --e-- PROPN\n",
            "0.0 --e-- PUNCT\n",
            "0.0 --e-- SCONJ\n",
            "0.0 --e-- SYM\n",
            "0.0 --e-- VERB\n",
            "0.0 --e-- X\n",
            "0.0 --e-- _\n",
            "0.0 --s-- --e--\n",
            "0.0 --s-- --s--\n",
            "4.081632653061225 --s-- ADJ\n",
            "4.368622448979592 --s-- ADP\n",
            "7.509566326530612 --s-- ADV\n",
            "2.5510204081632653 --s-- AUX\n",
            "2.3198341836734695 --s-- CCONJ\n",
            "10.060586734693878 --s-- DET\n",
            "3.2286352040816326 --s-- INTJ\n",
            "6.194196428571429 --s-- NOUN\n",
            "3.9142219387755106 --s-- NUM\n",
            "0.47034438775510207 --s-- PART\n",
            "25.247130102040817 --s-- PRON\n",
            "12.436224489795919 --s-- PROPN\n",
            "3.4040178571428568 --s-- PUNCT\n",
            "3.5634566326530615 --s-- SCONJ\n",
            "0.7732780612244898 --s-- SYM\n",
            "5.970982142857143 --s-- VERB\n",
            "0.007971938775510204 --s-- X\n",
            "3.8982780612244894 --s-- _\n",
            "0.3800836183960471 ADJ --e--\n",
            "0.0 ADJ --s--\n",
            "5.419992398327632 ADJ ADJ\n",
            "7.647282402128468 ADJ ADP\n",
            "1.3759026985936906 ADJ ADV\n",
            "0.33447358418852147 ADJ AUX\n",
            "4.27213987077157 ADJ CCONJ\n",
            "0.5017103762827821 ADJ DET\n",
            "0.03800836183960471 ADJ INTJ\n",
            "51.539338654503986 ADJ NOUN\n",
            "0.8361839604713037 ADJ NUM\n",
            "3.14709236031927 ADJ PART\n",
            "1.178259217027746 ADJ PRON\n",
            "6.545039908779931 ADJ PROPN\n",
            "12.953249714937288 ADJ PUNCT\n",
            "2.280501710376283 ADJ SCONJ\n",
            "0.15963511972633979 ADJ SYM\n",
            "0.8969973394146713 ADJ VERB\n",
            "0.11402508551881414 ADJ X\n",
            "0.3800836183960471 ADJ _\n",
            "0.35632980302880335 ADV --e--\n",
            "0.0 ADV --s--\n",
            "14.07502721963773 ADV ADJ\n",
            "9.106206077402753 ADV ADP\n",
            "8.918143125804216 ADV ADV\n",
            "4.077996634662971 ADV AUX\n",
            "2.5932891220429575 ADV CCONJ\n",
            "4.5630010887855095 ADV DET\n",
            "0.09898050084133425 ADV INTJ\n",
            "1.41542116203108 ADV NOUN\n",
            "1.8014451153122835 ADV NUM\n",
            "1.7618529149757498 ADV PART\n",
            "8.353954271008611 ADV PRON\n",
            "0.9205186578244086 ADV PROPN\n",
            "17.07413639513016 ADV PUNCT\n",
            "3.543501930119766 ADV SCONJ\n",
            "0.30683955260813617 ADV SYM\n",
            "19.489260615658715 ADV VERB\n",
            "0.12867465109373452 ADV X\n",
            "1.41542116203108 ADV _\n",
            "6.194196428571429 _ _\n",
            "7.509566326530612 _ _\n",
            "0.0 _ _\n",
            "0.0 _ _\n"
          ]
        }
      ]
    },
    {
      "cell_type": "markdown",
      "source": [
        "# Ambiguity examples that can be solved with hidden markove model"
      ],
      "metadata": {
        "id": "7MkoJiLi-dhP"
      }
    },
    {
      "cell_type": "code",
      "source": [
        "for tup,val in emission_probabilities.items():\n",
        "    if tup[1] == 'back': print (tup, val)\n",
        "print(\"\\n------\\n\")\n",
        "for tup,val in emission_probabilities.items():\n",
        "    if tup[1] == 'can': print (tup, val)\n",
        "print(\"\\n------\\n\")\n",
        "for tup,val in emission_probabilities.items():\n",
        "    if tup[1] == 'done': print (tup, val)"
      ],
      "metadata": {
        "colab": {
          "base_uri": "https://localhost:8080/"
        },
        "collapsed": true,
        "id": "inrY2gN4-aqG",
        "outputId": "1b38fe65-0435-4653-d89e-1140ae1ed54e"
      },
      "execution_count": null,
      "outputs": [
        {
          "output_type": "stream",
          "name": "stdout",
          "text": [
            "('--e--', 'back') 0.0\n",
            "('--s--', 'back') 0.0\n",
            "('ADJ', 'back') 0.0003800836183960471\n",
            "('ADP', 'back') 0.0009552171714333876\n",
            "('ADV', 'back') 0.017420568148074828\n",
            "('AUX', 'back') 0.0\n",
            "('CCONJ', 'back') 0.0\n",
            "('DET', 'back') 0.0\n",
            "('INTJ', 'back') 0.0\n",
            "('NOUN', 'back') 0.0009482486135455878\n",
            "('NUM', 'back') 0.0\n",
            "('PART', 'back') 0.0\n",
            "('PRON', 'back') 0.0\n",
            "('PROPN', 'back') 0.0\n",
            "('PUNCT', 'back') 0.0\n",
            "('SCONJ', 'back') 0.0\n",
            "('SYM', 'back') 0.0\n",
            "('VERB', 'back') 0.00017697548889478808\n",
            "('X', 'back') 0.0028169014084507044\n",
            "('_', 'back') 0.0\n",
            "\n",
            "------\n",
            "\n",
            "('--e--', 'can') 0.0\n",
            "('--s--', 'can') 0.0\n",
            "('ADJ', 'can') 0.0\n",
            "('ADP', 'can') 0.0\n",
            "('ADV', 'can') 0.0\n",
            "('AUX', 'can') 0.049199531433033974\n",
            "('CCONJ', 'can') 0.0\n",
            "('DET', 'can') 0.0\n",
            "('INTJ', 'can') 0.0\n",
            "('NOUN', 'can') 0.0001436740323553921\n",
            "('NUM', 'can') 0.0\n",
            "('PART', 'can') 0.0\n",
            "('PRON', 'can') 0.0\n",
            "('PROPN', 'can') 7.925186241876684e-05\n",
            "('PUNCT', 'can') 0.0\n",
            "('SCONJ', 'can') 0.0\n",
            "('SYM', 'can') 0.0\n",
            "('VERB', 'can') 0.0\n",
            "('X', 'can') 0.0\n",
            "('_', 'can') 0.0\n",
            "\n",
            "------\n",
            "\n",
            "('--e--', 'done') 0.0\n",
            "('--s--', 'done') 0.0\n",
            "('ADJ', 'done') 0.0009122006841505131\n",
            "('ADP', 'done') 0.0\n",
            "('ADV', 'done') 0.0\n",
            "('AUX', 'done') 0.0\n",
            "('CCONJ', 'done') 0.0\n",
            "('DET', 'done') 0.0\n",
            "('INTJ', 'done') 0.0\n",
            "('NOUN', 'done') 0.0\n",
            "('NUM', 'done') 0.0\n",
            "('PART', 'done') 0.0\n",
            "('PRON', 'done') 0.0\n",
            "('PROPN', 'done') 0.0\n",
            "('PUNCT', 'done') 0.0\n",
            "('SCONJ', 'done') 0.0\n",
            "('SYM', 'done') 0.0\n",
            "('VERB', 'done') 0.0034510220334483675\n",
            "('X', 'done') 0.0\n",
            "('_', 'done') 0.0\n"
          ]
        }
      ]
    },
    {
      "cell_type": "markdown",
      "source": [
        "# Viterbi Algorithm\n",
        "First part dealing with each sentence alone"
      ],
      "metadata": {
        "id": "rFqrNqrEL84L"
      }
    },
    {
      "cell_type": "code",
      "source": [
        "sent = [\"START\" ,\"the\" , \"cat\" , \"ate\" , \"the\" , \"cake\" , \"END\"]\n",
        "sent = [\"START\" ,\"the\" , \"back\" , \"of\" , \"the\" , \"school\" , \"END\"]\n",
        "\n",
        "def Viterbi_Sent(sent ,transition_probabilities ,emission_probabilities  ):\n",
        "\n",
        "      result = [\"--s--\"]\n",
        "\n",
        "      prev_token = sent[0]\n",
        "      prev_tag= \"--s--\"\n",
        "\n",
        "\n",
        "\n",
        "      path = defaultdict(float)\n",
        "      #print(n_step)\n",
        "\n",
        "\n",
        "\n",
        "      maxv = 0\n",
        "      maxt = tuple()\n",
        "      for i in range(len(sent) - 2):\n",
        "        maxt = tuple()\n",
        "        i+=1\n",
        "        for curr_tag in tags:\n",
        "\n",
        "\n",
        "            if prev_tag == \"UNK\":\n",
        "                x = emission_probabilities[curr_tag , sent[i]] #* transition_probabilities[prev_tag , curr_tag]\n",
        "            else:\n",
        "                x = emission_probabilities[curr_tag , sent[i]] * transition_probabilities[prev_tag , curr_tag]\n",
        "            if x != 0:\n",
        "\n",
        "\n",
        "              for next_tag in tags:\n",
        "\n",
        "                  if sent[i+1] in vocab_dict:\n",
        "                      xx = transition_probabilities[ curr_tag , next_tag]\n",
        "                  else:\n",
        "                      xx = emission_probabilities[next_tag , sent[i+1]] * transition_probabilities[ curr_tag , next_tag]\n",
        "\n",
        "                  #print(   emission_probabilities[next_tag , sent[i+1]]  ,  transition_probabilities[ curr_tag , next_tag] )\n",
        "\n",
        "\n",
        "                  if xx != 0:\n",
        "                    v = x  * xx\n",
        "                  else:\n",
        "                    v = x * 0.0000015\n",
        "                    #print(v ,  curr_tag , next_tag , sent[i])    # uncomment this to viterbi in action\n",
        "\n",
        "\n",
        "                  if v > maxv:\n",
        "                    maxv = v\n",
        "                    maxt = (curr_tag , next_tag)\n",
        "\n",
        "\n",
        "\n",
        "                  '''else:\n",
        "                    print('xx' ,sent[i], emission_probabilities[next_tag , sent[i+1]] , transition_probabilities[ curr_tag , next_tag])\n",
        "            else:\n",
        "              print('x' ,sent[i], emission_probabilities[curr_tag , sent[i]] , transition_probabilities[prev_tag , curr_tag])'''\n",
        "\n",
        "\n",
        "        try:\n",
        "          prev_tag =   maxt[0]\n",
        "        except IndexError:\n",
        "          prev_tag=\"X\"\n",
        "\n",
        "        result.append(prev_tag)\n",
        "        maxv = 0\n",
        "\n",
        "\n",
        "      result.append(\"--e--\")\n",
        "      return result\n",
        "\n",
        "\n",
        "print(Viterbi_Sent(sent ,transition_probabilities ,emission_probabilities  ))\n"
      ],
      "metadata": {
        "colab": {
          "base_uri": "https://localhost:8080/"
        },
        "id": "t6uvEajpL8jj",
        "outputId": "02cd4b97-0b81-4605-dceb-8956073f90a4"
      },
      "execution_count": null,
      "outputs": [
        {
          "output_type": "stream",
          "name": "stdout",
          "text": [
            "['--s--', 'DET', 'NOUN', 'ADP', 'DET', 'NOUN', '--e--']\n"
          ]
        }
      ]
    },
    {
      "cell_type": "markdown",
      "source": [
        "# Testing the model for Accuracy"
      ],
      "metadata": {
        "id": "d1Ds8DGsqQQU"
      }
    },
    {
      "cell_type": "markdown",
      "source": [
        "Loading testing Corpus 1"
      ],
      "metadata": {
        "id": "GdLjnzPjin-w"
      }
    },
    {
      "cell_type": "code",
      "source": [
        "parsed_testing_corpus = parse_file(\"test_pos.conllu\")\n",
        "parsed_testing_corpus[0].insert(0,('START' ,0 ,0))"
      ],
      "metadata": {
        "id": "smmmOrj0tF37"
      },
      "execution_count": null,
      "outputs": []
    },
    {
      "cell_type": "code",
      "source": [
        "\"into\" in vocab_dict"
      ],
      "metadata": {
        "colab": {
          "base_uri": "https://localhost:8080/"
        },
        "id": "VkP7BMiUwxjs",
        "outputId": "29267b5c-b2a5-4682-f9f6-e882da129674"
      },
      "execution_count": null,
      "outputs": [
        {
          "output_type": "execute_result",
          "data": {
            "text/plain": [
              "True"
            ]
          },
          "metadata": {},
          "execution_count": 35
        }
      ]
    },
    {
      "cell_type": "markdown",
      "source": [
        "Getting pos Tags using Viterbi Algorithm"
      ],
      "metadata": {
        "id": "yTlsYFNCiuIp"
      }
    },
    {
      "cell_type": "code",
      "source": [
        "%%time\n",
        "result =[]\n",
        "\n",
        "for s in parsed_testing_corpus:\n",
        "    temp=[]\n",
        "    temp2=[]\n",
        "\n",
        "    for w in s:\n",
        "        temp.append(w[0])\n",
        "    #print(temp)\n",
        "    temp_result = Viterbi_Sent( temp ,transition_probabilities ,emission_probabilities  )\n",
        "    #print(temp_result)\n",
        "    for ii in range(len(s)):\n",
        "        temp2.append((temp[ii] , temp_result[ii]))\n",
        "\n",
        "    result.append(temp2)\n",
        "\n",
        "#result"
      ],
      "metadata": {
        "colab": {
          "base_uri": "https://localhost:8080/"
        },
        "id": "0asstY4cqQGl",
        "outputId": "b14a3e97-cd80-4aae-9d4f-df0b423801a9",
        "collapsed": true
      },
      "execution_count": null,
      "outputs": [
        {
          "output_type": "stream",
          "name": "stdout",
          "text": [
            "CPU times: user 813 ms, sys: 16.2 ms, total: 829 ms\n",
            "Wall time: 837 ms\n"
          ]
        }
      ]
    },
    {
      "cell_type": "code",
      "source": [
        "parsed_testing_corpus_trueResult = parse_file(\"test_pos_.conllu\")\n",
        "parsed_testing_corpus_trueResult[0].insert(0,('START' ,0 ,0))\n",
        "parsed_testing_corpus_trueResult[1]"
      ],
      "metadata": {
        "collapsed": true,
        "colab": {
          "base_uri": "https://localhost:8080/"
        },
        "id": "9JIfL89N6igI",
        "outputId": "e4db4bc8-112a-438c-f14b-61e5ee8c0730"
      },
      "execution_count": null,
      "outputs": [
        {
          "output_type": "execute_result",
          "data": {
            "text/plain": [
              "[('START', '--s--'),\n",
              " ('what', 'PRON'),\n",
              " ('if', 'SCONJ'),\n",
              " ('google', 'PROPN'),\n",
              " ('expanded', 'VERB'),\n",
              " ('on', 'ADP'),\n",
              " ('its', 'PRON'),\n",
              " ('search', 'NOUN'),\n",
              " ('-', 'PUNCT'),\n",
              " ('engine', 'NOUN'),\n",
              " ('(', 'PUNCT'),\n",
              " ('and', 'CCONJ'),\n",
              " ('now', 'ADV'),\n",
              " ('e-mail', 'NOUN'),\n",
              " (')', 'PUNCT'),\n",
              " ('wares', 'NOUN'),\n",
              " ('into', 'ADP'),\n",
              " ('a', 'DET'),\n",
              " ('full', 'ADV'),\n",
              " ('-', 'PUNCT'),\n",
              " ('fledged', 'ADJ'),\n",
              " ('operating', 'NOUN'),\n",
              " ('system', 'NOUN'),\n",
              " ('?', 'PUNCT'),\n",
              " ('END', '--e--')]"
            ]
          },
          "metadata": {},
          "execution_count": 27
        }
      ]
    },
    {
      "cell_type": "markdown",
      "source": [
        "Measuring the model's Accuraccy"
      ],
      "metadata": {
        "id": "Lt-KitQ7i5wA"
      }
    },
    {
      "cell_type": "code",
      "source": [
        "total=0\n",
        "corr = 0\n",
        "\n",
        "for s in range(len(parsed_testing_corpus_trueResult)):\n",
        "    for w in range(len(parsed_testing_corpus_trueResult[s])):\n",
        "      total += 1\n",
        "      if parsed_testing_corpus_trueResult[s][w][1] == result[s][w][1]:\n",
        "        corr += 1\n",
        "\n",
        "accuraccy = corr / total\n",
        "print(int(accuraccy*100000)/1000 , \"%\")"
      ],
      "metadata": {
        "colab": {
          "base_uri": "https://localhost:8080/"
        },
        "id": "dN3pGaLu7gMY",
        "outputId": "ca8db514-7f52-4b6e-d975-b62f1f0bba48"
      },
      "execution_count": null,
      "outputs": [
        {
          "output_type": "stream",
          "name": "stdout",
          "text": [
            "86.374 %\n"
          ]
        }
      ]
    },
    {
      "cell_type": "code",
      "source": [
        "parsed_testing_corpus = parse_file(\"test_pos2.conllu\")\n",
        "parsed_testing_corpus[0].insert(0,('START' ,0 ,0))"
      ],
      "metadata": {
        "id": "NKWpeuGC_fVD"
      },
      "execution_count": null,
      "outputs": []
    },
    {
      "cell_type": "code",
      "source": [
        "%%time\n",
        "result =[]\n",
        "\n",
        "for s in parsed_testing_corpus:\n",
        "    temp=[]\n",
        "    temp2=[]\n",
        "\n",
        "    for w in s:\n",
        "        temp.append(w[0])\n",
        "    #print(temp)\n",
        "    temp_result = Viterbi_Sent( temp ,transition_probabilities ,emission_probabilities  )\n",
        "    #print(temp_result)\n",
        "    for ii in range(len(s)):\n",
        "        temp2.append((temp[ii] , temp_result[ii]))\n",
        "\n",
        "    result.append(temp2)\n",
        "\n",
        "#result"
      ],
      "metadata": {
        "colab": {
          "base_uri": "https://localhost:8080/"
        },
        "id": "ZaYm2qCuAw6i",
        "outputId": "f200d1eb-7a03-41da-fa15-ba149c414f94"
      },
      "execution_count": null,
      "outputs": [
        {
          "output_type": "stream",
          "name": "stdout",
          "text": [
            "CPU times: user 1.42 s, sys: 2.32 ms, total: 1.43 s\n",
            "Wall time: 1.49 s\n"
          ]
        }
      ]
    },
    {
      "cell_type": "code",
      "source": [
        "parsed_testing_corpus_trueResult = parse_file(\"test_pos2_.conllu\")\n",
        "parsed_testing_corpus_trueResult[0].insert(0,('START' ,0 ,0))\n",
        "parsed_testing_corpus_trueResult[0]"
      ],
      "metadata": {
        "colab": {
          "base_uri": "https://localhost:8080/"
        },
        "collapsed": true,
        "id": "n_r31AcB9KJO",
        "outputId": "abceaf8c-bb7a-4143-9937-0478b9c7900c"
      },
      "execution_count": null,
      "outputs": [
        {
          "output_type": "execute_result",
          "data": {
            "text/plain": [
              "[('START', 0, 0),\n",
              " ('from', 'ADP'),\n",
              " ('the', 'DET'),\n",
              " ('ap', 'PROPN'),\n",
              " ('comes', 'VERB'),\n",
              " ('this', 'DET'),\n",
              " ('story', 'NOUN'),\n",
              " (':', 'PUNCT'),\n",
              " ('END', '--e--')]"
            ]
          },
          "metadata": {},
          "execution_count": 43
        }
      ]
    },
    {
      "cell_type": "code",
      "source": [
        "total=0\n",
        "corr = 0\n",
        "\n",
        "for s in range(len(parsed_testing_corpus_trueResult)):\n",
        "    for w in range(len(parsed_testing_corpus_trueResult[s])):\n",
        "      total += 1\n",
        "      if parsed_testing_corpus_trueResult[s][w][1] == result[s][w][1]:\n",
        "        corr += 1\n",
        "\n",
        "accuraccy = corr / total\n",
        "print(int(accuraccy*100000)/1000 , \"%\")"
      ],
      "metadata": {
        "colab": {
          "base_uri": "https://localhost:8080/"
        },
        "id": "2pZ0c2oj9KBO",
        "outputId": "353709f7-be65-46e0-eb6e-1544fd5dfb69"
      },
      "execution_count": null,
      "outputs": [
        {
          "output_type": "stream",
          "name": "stdout",
          "text": [
            "86.403 %\n"
          ]
        }
      ]
    }
  ],
  "metadata": {
    "colab": {
      "provenance": []
    },
    "coursera": {
      "schema_names": [
        "NLPC2-2"
      ]
    },
    "kernelspec": {
      "display_name": "Python 3",
      "language": "python",
      "name": "python3"
    },
    "language_info": {
      "codemirror_mode": {
        "name": "ipython",
        "version": 3
      },
      "file_extension": ".py",
      "mimetype": "text/x-python",
      "name": "python",
      "nbconvert_exporter": "python",
      "pygments_lexer": "ipython3",
      "version": "3.7.7"
    }
  },
  "nbformat": 4,
  "nbformat_minor": 0
}